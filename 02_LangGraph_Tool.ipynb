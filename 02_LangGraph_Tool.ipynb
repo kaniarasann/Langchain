{
  "nbformat": 4,
  "nbformat_minor": 0,
  "metadata": {
    "colab": {
      "provenance": [],
      "authorship_tag": "ABX9TyOXttXW8py08O0NPHZyJPLp",
      "include_colab_link": true
    },
    "kernelspec": {
      "name": "python3",
      "display_name": "Python 3"
    },
    "language_info": {
      "name": "python"
    }
  },
  "cells": [
    {
      "cell_type": "markdown",
      "metadata": {
        "id": "view-in-github",
        "colab_type": "text"
      },
      "source": [
        "<a href=\"https://colab.research.google.com/github/kaniarasann/Langchain/blob/main/02_LangGraph_Tool.ipynb\" target=\"_parent\"><img src=\"https://colab.research.google.com/assets/colab-badge.svg\" alt=\"Open In Colab\"/></a>"
      ]
    },
    {
      "cell_type": "code",
      "execution_count": 440,
      "metadata": {
        "id": "hIregihOnUt7",
        "colab": {
          "base_uri": "https://localhost:8080/",
          "height": 1000
        },
        "outputId": "62c36363-2537-49d4-bddf-e8ea0dae7661"
      },
      "outputs": [
        {
          "output_type": "stream",
          "name": "stdout",
          "text": [
            "Requirement already satisfied: langgraph in /usr/local/lib/python3.11/dist-packages (0.5.2)\n",
            "Requirement already satisfied: langchain_groq in /usr/local/lib/python3.11/dist-packages (0.3.6)\n",
            "Requirement already satisfied: langchain in /usr/local/lib/python3.11/dist-packages (0.3.26)\n",
            "Collecting langchain-google-genai\n",
            "  Downloading langchain_google_genai-2.1.7-py3-none-any.whl.metadata (7.0 kB)\n",
            "Requirement already satisfied: langchain-core>=0.1 in /usr/local/lib/python3.11/dist-packages (from langgraph) (0.3.68)\n",
            "Requirement already satisfied: langgraph-checkpoint<3.0.0,>=2.1.0 in /usr/local/lib/python3.11/dist-packages (from langgraph) (2.1.0)\n",
            "Requirement already satisfied: langgraph-prebuilt<0.6.0,>=0.5.0 in /usr/local/lib/python3.11/dist-packages (from langgraph) (0.5.2)\n",
            "Requirement already satisfied: langgraph-sdk<0.2.0,>=0.1.42 in /usr/local/lib/python3.11/dist-packages (from langgraph) (0.1.72)\n",
            "Requirement already satisfied: pydantic>=2.7.4 in /usr/local/lib/python3.11/dist-packages (from langgraph) (2.11.7)\n",
            "Requirement already satisfied: xxhash>=3.5.0 in /usr/local/lib/python3.11/dist-packages (from langgraph) (3.5.0)\n",
            "Requirement already satisfied: groq<1,>=0.29.0 in /usr/local/lib/python3.11/dist-packages (from langchain_groq) (0.30.0)\n",
            "Requirement already satisfied: langchain-text-splitters<1.0.0,>=0.3.8 in /usr/local/lib/python3.11/dist-packages (from langchain) (0.3.8)\n",
            "Requirement already satisfied: langsmith>=0.1.17 in /usr/local/lib/python3.11/dist-packages (from langchain) (0.4.4)\n",
            "Requirement already satisfied: SQLAlchemy<3,>=1.4 in /usr/local/lib/python3.11/dist-packages (from langchain) (2.0.41)\n",
            "Requirement already satisfied: requests<3,>=2 in /usr/local/lib/python3.11/dist-packages (from langchain) (2.32.3)\n",
            "Requirement already satisfied: PyYAML>=5.3 in /usr/local/lib/python3.11/dist-packages (from langchain) (6.0.2)\n",
            "Collecting filetype<2.0.0,>=1.2.0 (from langchain-google-genai)\n",
            "  Downloading filetype-1.2.0-py2.py3-none-any.whl.metadata (6.5 kB)\n",
            "Collecting google-ai-generativelanguage<0.7.0,>=0.6.18 (from langchain-google-genai)\n",
            "  Downloading google_ai_generativelanguage-0.6.18-py3-none-any.whl.metadata (9.8 kB)\n",
            "Requirement already satisfied: google-api-core!=2.0.*,!=2.1.*,!=2.10.*,!=2.2.*,!=2.3.*,!=2.4.*,!=2.5.*,!=2.6.*,!=2.7.*,!=2.8.*,!=2.9.*,<3.0.0,>=1.34.1 in /usr/local/lib/python3.11/dist-packages (from google-api-core[grpc]!=2.0.*,!=2.1.*,!=2.10.*,!=2.2.*,!=2.3.*,!=2.4.*,!=2.5.*,!=2.6.*,!=2.7.*,!=2.8.*,!=2.9.*,<3.0.0,>=1.34.1->google-ai-generativelanguage<0.7.0,>=0.6.18->langchain-google-genai) (2.25.1)\n",
            "Requirement already satisfied: google-auth!=2.24.0,!=2.25.0,<3.0.0,>=2.14.1 in /usr/local/lib/python3.11/dist-packages (from google-ai-generativelanguage<0.7.0,>=0.6.18->langchain-google-genai) (2.38.0)\n",
            "Requirement already satisfied: proto-plus<2.0.0,>=1.22.3 in /usr/local/lib/python3.11/dist-packages (from google-ai-generativelanguage<0.7.0,>=0.6.18->langchain-google-genai) (1.26.1)\n",
            "Requirement already satisfied: protobuf!=4.21.0,!=4.21.1,!=4.21.2,!=4.21.3,!=4.21.4,!=4.21.5,<7.0.0,>=3.20.2 in /usr/local/lib/python3.11/dist-packages (from google-ai-generativelanguage<0.7.0,>=0.6.18->langchain-google-genai) (5.29.5)\n",
            "Requirement already satisfied: anyio<5,>=3.5.0 in /usr/local/lib/python3.11/dist-packages (from groq<1,>=0.29.0->langchain_groq) (4.9.0)\n",
            "Requirement already satisfied: distro<2,>=1.7.0 in /usr/local/lib/python3.11/dist-packages (from groq<1,>=0.29.0->langchain_groq) (1.9.0)\n",
            "Requirement already satisfied: httpx<1,>=0.23.0 in /usr/local/lib/python3.11/dist-packages (from groq<1,>=0.29.0->langchain_groq) (0.28.1)\n",
            "Requirement already satisfied: sniffio in /usr/local/lib/python3.11/dist-packages (from groq<1,>=0.29.0->langchain_groq) (1.3.1)\n",
            "Requirement already satisfied: typing-extensions<5,>=4.10 in /usr/local/lib/python3.11/dist-packages (from groq<1,>=0.29.0->langchain_groq) (4.14.1)\n",
            "Requirement already satisfied: tenacity!=8.4.0,<10.0.0,>=8.1.0 in /usr/local/lib/python3.11/dist-packages (from langchain-core>=0.1->langgraph) (8.5.0)\n",
            "Requirement already satisfied: jsonpatch<2.0,>=1.33 in /usr/local/lib/python3.11/dist-packages (from langchain-core>=0.1->langgraph) (1.33)\n",
            "Requirement already satisfied: packaging<25,>=23.2 in /usr/local/lib/python3.11/dist-packages (from langchain-core>=0.1->langgraph) (24.2)\n",
            "Requirement already satisfied: ormsgpack>=1.10.0 in /usr/local/lib/python3.11/dist-packages (from langgraph-checkpoint<3.0.0,>=2.1.0->langgraph) (1.10.0)\n",
            "Requirement already satisfied: orjson>=3.10.1 in /usr/local/lib/python3.11/dist-packages (from langgraph-sdk<0.2.0,>=0.1.42->langgraph) (3.10.18)\n",
            "Requirement already satisfied: requests-toolbelt<2.0.0,>=1.0.0 in /usr/local/lib/python3.11/dist-packages (from langsmith>=0.1.17->langchain) (1.0.0)\n",
            "Requirement already satisfied: zstandard<0.24.0,>=0.23.0 in /usr/local/lib/python3.11/dist-packages (from langsmith>=0.1.17->langchain) (0.23.0)\n",
            "Requirement already satisfied: annotated-types>=0.6.0 in /usr/local/lib/python3.11/dist-packages (from pydantic>=2.7.4->langgraph) (0.7.0)\n",
            "Requirement already satisfied: pydantic-core==2.33.2 in /usr/local/lib/python3.11/dist-packages (from pydantic>=2.7.4->langgraph) (2.33.2)\n",
            "Requirement already satisfied: typing-inspection>=0.4.0 in /usr/local/lib/python3.11/dist-packages (from pydantic>=2.7.4->langgraph) (0.4.1)\n",
            "Requirement already satisfied: charset-normalizer<4,>=2 in /usr/local/lib/python3.11/dist-packages (from requests<3,>=2->langchain) (3.4.2)\n",
            "Requirement already satisfied: idna<4,>=2.5 in /usr/local/lib/python3.11/dist-packages (from requests<3,>=2->langchain) (3.10)\n",
            "Requirement already satisfied: urllib3<3,>=1.21.1 in /usr/local/lib/python3.11/dist-packages (from requests<3,>=2->langchain) (2.4.0)\n",
            "Requirement already satisfied: certifi>=2017.4.17 in /usr/local/lib/python3.11/dist-packages (from requests<3,>=2->langchain) (2025.7.9)\n",
            "Requirement already satisfied: greenlet>=1 in /usr/local/lib/python3.11/dist-packages (from SQLAlchemy<3,>=1.4->langchain) (3.2.3)\n",
            "Requirement already satisfied: googleapis-common-protos<2.0.0,>=1.56.2 in /usr/local/lib/python3.11/dist-packages (from google-api-core!=2.0.*,!=2.1.*,!=2.10.*,!=2.2.*,!=2.3.*,!=2.4.*,!=2.5.*,!=2.6.*,!=2.7.*,!=2.8.*,!=2.9.*,<3.0.0,>=1.34.1->google-api-core[grpc]!=2.0.*,!=2.1.*,!=2.10.*,!=2.2.*,!=2.3.*,!=2.4.*,!=2.5.*,!=2.6.*,!=2.7.*,!=2.8.*,!=2.9.*,<3.0.0,>=1.34.1->google-ai-generativelanguage<0.7.0,>=0.6.18->langchain-google-genai) (1.70.0)\n",
            "Requirement already satisfied: grpcio<2.0.0,>=1.33.2 in /usr/local/lib/python3.11/dist-packages (from google-api-core[grpc]!=2.0.*,!=2.1.*,!=2.10.*,!=2.2.*,!=2.3.*,!=2.4.*,!=2.5.*,!=2.6.*,!=2.7.*,!=2.8.*,!=2.9.*,<3.0.0,>=1.34.1->google-ai-generativelanguage<0.7.0,>=0.6.18->langchain-google-genai) (1.73.1)\n",
            "Requirement already satisfied: grpcio-status<2.0.0,>=1.33.2 in /usr/local/lib/python3.11/dist-packages (from google-api-core[grpc]!=2.0.*,!=2.1.*,!=2.10.*,!=2.2.*,!=2.3.*,!=2.4.*,!=2.5.*,!=2.6.*,!=2.7.*,!=2.8.*,!=2.9.*,<3.0.0,>=1.34.1->google-ai-generativelanguage<0.7.0,>=0.6.18->langchain-google-genai) (1.71.2)\n",
            "Requirement already satisfied: cachetools<6.0,>=2.0.0 in /usr/local/lib/python3.11/dist-packages (from google-auth!=2.24.0,!=2.25.0,<3.0.0,>=2.14.1->google-ai-generativelanguage<0.7.0,>=0.6.18->langchain-google-genai) (5.5.2)\n",
            "Requirement already satisfied: pyasn1-modules>=0.2.1 in /usr/local/lib/python3.11/dist-packages (from google-auth!=2.24.0,!=2.25.0,<3.0.0,>=2.14.1->google-ai-generativelanguage<0.7.0,>=0.6.18->langchain-google-genai) (0.4.2)\n",
            "Requirement already satisfied: rsa<5,>=3.1.4 in /usr/local/lib/python3.11/dist-packages (from google-auth!=2.24.0,!=2.25.0,<3.0.0,>=2.14.1->google-ai-generativelanguage<0.7.0,>=0.6.18->langchain-google-genai) (4.9.1)\n",
            "Requirement already satisfied: httpcore==1.* in /usr/local/lib/python3.11/dist-packages (from httpx<1,>=0.23.0->groq<1,>=0.29.0->langchain_groq) (1.0.9)\n",
            "Requirement already satisfied: h11>=0.16 in /usr/local/lib/python3.11/dist-packages (from httpcore==1.*->httpx<1,>=0.23.0->groq<1,>=0.29.0->langchain_groq) (0.16.0)\n",
            "Requirement already satisfied: jsonpointer>=1.9 in /usr/local/lib/python3.11/dist-packages (from jsonpatch<2.0,>=1.33->langchain-core>=0.1->langgraph) (3.0.0)\n",
            "Requirement already satisfied: pyasn1<0.7.0,>=0.6.1 in /usr/local/lib/python3.11/dist-packages (from pyasn1-modules>=0.2.1->google-auth!=2.24.0,!=2.25.0,<3.0.0,>=2.14.1->google-ai-generativelanguage<0.7.0,>=0.6.18->langchain-google-genai) (0.6.1)\n",
            "Downloading langchain_google_genai-2.1.7-py3-none-any.whl (47 kB)\n",
            "\u001b[2K   \u001b[90m━━━━━━━━━━━━━━━━━━━━━━━━━━━━━━━━━━━━━━━━\u001b[0m \u001b[32m47.4/47.4 kB\u001b[0m \u001b[31m1.8 MB/s\u001b[0m eta \u001b[36m0:00:00\u001b[0m\n",
            "\u001b[?25hDownloading filetype-1.2.0-py2.py3-none-any.whl (19 kB)\n",
            "Downloading google_ai_generativelanguage-0.6.18-py3-none-any.whl (1.4 MB)\n",
            "\u001b[2K   \u001b[90m━━━━━━━━━━━━━━━━━━━━━━━━━━━━━━━━━━━━━━━━\u001b[0m \u001b[32m1.4/1.4 MB\u001b[0m \u001b[31m19.6 MB/s\u001b[0m eta \u001b[36m0:00:00\u001b[0m\n",
            "\u001b[?25hInstalling collected packages: filetype, google-ai-generativelanguage, langchain-google-genai\n",
            "  Attempting uninstall: google-ai-generativelanguage\n",
            "    Found existing installation: google-ai-generativelanguage 0.6.15\n",
            "    Uninstalling google-ai-generativelanguage-0.6.15:\n",
            "      Successfully uninstalled google-ai-generativelanguage-0.6.15\n",
            "\u001b[31mERROR: pip's dependency resolver does not currently take into account all the packages that are installed. This behaviour is the source of the following dependency conflicts.\n",
            "google-generativeai 0.8.5 requires google-ai-generativelanguage==0.6.15, but you have google-ai-generativelanguage 0.6.18 which is incompatible.\u001b[0m\u001b[31m\n",
            "\u001b[0mSuccessfully installed filetype-1.2.0 google-ai-generativelanguage-0.6.18 langchain-google-genai-2.1.7\n"
          ]
        },
        {
          "output_type": "display_data",
          "data": {
            "application/vnd.colab-display-data+json": {
              "pip_warning": {
                "packages": [
                  "google"
                ]
              },
              "id": "cc9cdfa7109b477fb9188457bc603142"
            }
          },
          "metadata": {}
        }
      ],
      "source": [
        "!pip install langgraph langchain_groq langchain langchain-google-genai"
      ]
    },
    {
      "cell_type": "markdown",
      "source": [
        "Tool Management"
      ],
      "metadata": {
        "id": "T8gdTovjokeO"
      }
    },
    {
      "cell_type": "code",
      "source": [
        "def add_two_number(a:int,b:int) -> int:\n",
        "    \"\"\"\n",
        "    This function add two numbers\n",
        "\n",
        "    Args:\n",
        "        a (int): Paramater a of type int\n",
        "        b (int): Paramater b of type int\n",
        "\n",
        "    Returns:\n",
        "        int: Sum of two valus\n",
        "    \"\"\"\n",
        "    int_a = int(a)\n",
        "    int_b = int(b)\n",
        "\n",
        "    return int_a+int_b"
      ],
      "metadata": {
        "id": "rnPBIlq5oqHd"
      },
      "execution_count": 406,
      "outputs": []
    },
    {
      "cell_type": "markdown",
      "source": [
        "Model"
      ],
      "metadata": {
        "id": "uSJS6Mk7sUKU"
      }
    },
    {
      "cell_type": "code",
      "source": [
        "from langchain_core.messages import AnyMessage\n",
        "from langgraph.graph.message import add_messages\n",
        "from typing_extensions import TypedDict,Annotated\n",
        "\n",
        "class State(TypedDict):\n",
        "    messages:Annotated[list[AnyMessage],add_messages]"
      ],
      "metadata": {
        "id": "0YfImd4ksS5C"
      },
      "execution_count": 407,
      "outputs": []
    },
    {
      "cell_type": "markdown",
      "source": [
        "LLM With Tools"
      ],
      "metadata": {
        "id": "J53j0U-tpKVt"
      }
    },
    {
      "cell_type": "code",
      "source": [
        "from langchain_groq import ChatGroq\n",
        "from google.colab import userdata\n",
        "\n",
        "llm = ChatGroq(\n",
        "    model=\"deepseek-r1-distill-llama-70b\",\n",
        "    api_key= userdata.get(\"groq_key\")\n",
        ")\n",
        "\n",
        "llm_bind_tools = llm.bind_tools([add_two_number])"
      ],
      "metadata": {
        "id": "XXASsEjIpccS"
      },
      "execution_count": 408,
      "outputs": []
    },
    {
      "cell_type": "markdown",
      "source": [
        "Invoke LLM"
      ],
      "metadata": {
        "id": "faOBHqwSqHlS"
      }
    },
    {
      "cell_type": "code",
      "source": [
        "invoke_llm.tool_calls"
      ],
      "metadata": {
        "colab": {
          "base_uri": "https://localhost:8080/"
        },
        "id": "BTzR6DfoteIb",
        "outputId": "4d526fa0-2faf-4b0d-bf20-c9edee403891"
      },
      "execution_count": 409,
      "outputs": [
        {
          "output_type": "execute_result",
          "data": {
            "text/plain": [
              "[{'name': 'add_two_number',\n",
              "  'args': {'a': 2, 'b': 5},\n",
              "  'id': 'q9t6wek5e',\n",
              "  'type': 'tool_call'}]"
            ]
          },
          "metadata": {},
          "execution_count": 409
        }
      ]
    },
    {
      "cell_type": "markdown",
      "source": [
        "LangGraph Tool Calling"
      ],
      "metadata": {
        "id": "JQuwUwGkt8ba"
      }
    },
    {
      "cell_type": "code",
      "source": [
        "def llm_tool_calling(state: State) -> State:\n",
        "    \"\"\"\n",
        "    This function is called to invoke the LLM with tools.\n",
        "\n",
        "    :param state: The current state containing messages\n",
        "    :return: Updated state with the response from the LLM\n",
        "    \"\"\"\n",
        "    response = llm_bind_tools.invoke(state[\"messages\"])\n",
        "    state[\"messages\"].append(response)\n",
        "    return state"
      ],
      "metadata": {
        "id": "a7Wr5F10wPVk"
      },
      "execution_count": 410,
      "outputs": []
    },
    {
      "cell_type": "code",
      "source": [
        "from langgraph.graph import StateGraph, START, END\n",
        "from langgraph.prebuilt import ToolNode\n",
        "from langgraph.prebuilt import tools_condition"
      ],
      "metadata": {
        "id": "BVUSww6muF21"
      },
      "execution_count": 411,
      "outputs": []
    },
    {
      "cell_type": "code",
      "source": [
        "graph = StateGraph(State)"
      ],
      "metadata": {
        "id": "KpbAhxBXvpfM"
      },
      "execution_count": 412,
      "outputs": []
    },
    {
      "cell_type": "code",
      "source": [
        "graph.add_node(\"llm\", llm_tool_calling)\n",
        "graph.add_node(\"tools\", ToolNode(tools=[add_two_number]))"
      ],
      "metadata": {
        "colab": {
          "base_uri": "https://localhost:8080/"
        },
        "id": "hp-GGpG_v3jf",
        "outputId": "74b945d8-d74a-46c8-846d-49bb8461092b"
      },
      "execution_count": 413,
      "outputs": [
        {
          "output_type": "execute_result",
          "data": {
            "text/plain": [
              "<langgraph.graph.state.StateGraph at 0x7b24f56714d0>"
            ]
          },
          "metadata": {},
          "execution_count": 413
        }
      ]
    },
    {
      "cell_type": "code",
      "source": [
        "graph.add_edge(START, \"llm\")\n",
        "graph.add_conditional_edges(\"llm\", tools_condition)\n",
        "graph.add_edge(\"tools\", END)"
      ],
      "metadata": {
        "colab": {
          "base_uri": "https://localhost:8080/"
        },
        "id": "rNYXvdX_wcTB",
        "outputId": "1bd9684e-0763-4b7f-f978-dfb677e4b096"
      },
      "execution_count": 414,
      "outputs": [
        {
          "output_type": "execute_result",
          "data": {
            "text/plain": [
              "<langgraph.graph.state.StateGraph at 0x7b24f56714d0>"
            ]
          },
          "metadata": {},
          "execution_count": 414
        }
      ]
    },
    {
      "cell_type": "code",
      "source": [
        "graph_builder = graph.compile()"
      ],
      "metadata": {
        "id": "4TtRmyyYww5D"
      },
      "execution_count": 415,
      "outputs": []
    },
    {
      "cell_type": "markdown",
      "source": [
        "Print and verify the created Graph"
      ],
      "metadata": {
        "id": "10NID0LUw5U3"
      }
    },
    {
      "cell_type": "code",
      "source": [
        "from IPython.display import display, Image\n",
        "display(Image(graph_builder.get_graph().draw_mermaid_png()))"
      ],
      "metadata": {
        "colab": {
          "base_uri": "https://localhost:8080/",
          "height": 350
        },
        "id": "_xaQmX1jw8l3",
        "outputId": "38e63c03-806d-4cca-bf09-e84d89ca55d8"
      },
      "execution_count": 416,
      "outputs": [
        {
          "output_type": "display_data",
          "data": {
            "image/png": "[encoded data removed]",
            "text/plain": [
              "<IPython.core.display.Image object>"
            ]
          },
          "metadata": {}
        }
      ]
    },
    {
      "cell_type": "markdown",
      "source": [
        "Invoke LLM"
      ],
      "metadata": {
        "id": "4wLKUdX4xbDT"
      }
    },
    {
      "cell_type": "code",
      "source": [
        "from langchain_core.messages import HumanMessage, SystemMessage,AIMessage\n",
        "state = State(messages= HumanMessage(content=\"Add two number 2 and 5\"))"
      ],
      "metadata": {
        "id": "_cEMYMwTxcql"
      },
      "execution_count": 417,
      "outputs": []
    },
    {
      "cell_type": "code",
      "source": [
        "output = graph_builder.invoke(state)"
      ],
      "metadata": {
        "id": "JMNxIscrxrPu"
      },
      "execution_count": 418,
      "outputs": []
    },
    {
      "cell_type": "code",
      "source": [
        "import pprint\n",
        "for msg in output['messages']:\n",
        "     msg.pretty_print()"
      ],
      "metadata": {
        "colab": {
          "base_uri": "https://localhost:8080/"
        },
        "id": "D4h2AE9bxwK8",
        "outputId": "82d44a00-6b6a-4801-8b66-7440b7745466"
      },
      "execution_count": 419,
      "outputs": [
        {
          "output_type": "stream",
          "name": "stdout",
          "text": [
            "================================\u001b[1m Human Message \u001b[0m=================================\n",
            "\n",
            "Add two number 2 and 5\n",
            "==================================\u001b[1m Ai Message \u001b[0m==================================\n",
            "Tool Calls:\n",
            "  add_two_number (bvd7aeva0)\n",
            " Call ID: bvd7aeva0\n",
            "  Args:\n",
            "    a: 2\n",
            "    b: 5\n",
            "=================================\u001b[1m Tool Message \u001b[0m=================================\n",
            "Name: add_two_number\n",
            "\n",
            "7\n"
          ]
        }
      ]
    },
    {
      "cell_type": "markdown",
      "source": [
        "We can also chain one or more tools togethor"
      ],
      "metadata": {
        "id": "2FYG6Ik9zjco"
      }
    },
    {
      "cell_type": "code",
      "source": [
        "def subtract_two_number(a:int,b:int) -> int:\n",
        "    \"\"\"_summary_\n",
        "     This function subtract two numbers\n",
        "\n",
        "    Args:\n",
        "        a (int): Paramater a of type int\n",
        "        b (int): Paramater b of type int\n",
        "\n",
        "    Returns:\n",
        "        int: Subtract two valus\n",
        "    \"\"\"\n",
        "    int_a = int(a)\n",
        "    int_b = int(b)\n",
        "\n",
        "    return a-b\n",
        "\n",
        "def multiply_two_number(a:int,b:int) -> int:\n",
        "    \"\"\"_summary_\n",
        "     This function multiply two numbers\n",
        "\n",
        "    Args:\n",
        "        a (int): Paramater a of type int\n",
        "        b (int): Paramater b of type int\n",
        "\n",
        "    Returns:\n",
        "        int: multiply two valus\n",
        "    \"\"\"\n",
        "    int_a = int(a)\n",
        "    int_b = int(b)\n",
        "\n",
        "    return a*b\n"
      ],
      "metadata": {
        "id": "01B8vCAGzozR"
      },
      "execution_count": 420,
      "outputs": []
    },
    {
      "cell_type": "code",
      "source": [
        "multiple_tool_graph = StateGraph(State)"
      ],
      "metadata": {
        "id": "OQS5nnUI011M"
      },
      "execution_count": 421,
      "outputs": []
    },
    {
      "cell_type": "code",
      "source": [
        "multiple_tool_graph.add_node(\"llm\", llm_tool_calling)\n",
        "multiple_tool_graph.add_node(\"tools\", ToolNode(tools=[add_two_number,subtract_two_number,multiply_two_number]))"
      ],
      "metadata": {
        "colab": {
          "base_uri": "https://localhost:8080/"
        },
        "id": "7hsEgeeF013g",
        "outputId": "1efd2ce3-2e3a-4e89-ee8a-4b1db79a844a"
      },
      "execution_count": 422,
      "outputs": [
        {
          "output_type": "execute_result",
          "data": {
            "text/plain": [
              "<langgraph.graph.state.StateGraph at 0x7b24f6594290>"
            ]
          },
          "metadata": {},
          "execution_count": 422
        }
      ]
    },
    {
      "cell_type": "code",
      "source": [
        "multiple_tool_graph.add_edge(START, \"llm\")\n",
        "multiple_tool_graph.add_conditional_edges(\"llm\", tools_condition)\n",
        "multiple_tool_graph.add_edge(\"tools\", END)"
      ],
      "metadata": {
        "colab": {
          "base_uri": "https://localhost:8080/"
        },
        "id": "Ozzuj3QZ1Oe2",
        "outputId": "ebf76b2b-0bb8-4d59-909e-501dac84984e"
      },
      "execution_count": 423,
      "outputs": [
        {
          "output_type": "execute_result",
          "data": {
            "text/plain": [
              "<langgraph.graph.state.StateGraph at 0x7b24f6594290>"
            ]
          },
          "metadata": {},
          "execution_count": 423
        }
      ]
    },
    {
      "cell_type": "code",
      "source": [
        "graph_builder_multiple_tools = multiple_tool_graph.compile()"
      ],
      "metadata": {
        "id": "mX5nocjK1eQ8"
      },
      "execution_count": 424,
      "outputs": []
    },
    {
      "cell_type": "code",
      "source": [
        "display(Image(graph_builder_multiple_tools.get_graph().draw_mermaid_png()))"
      ],
      "metadata": {
        "colab": {
          "base_uri": "https://localhost:8080/",
          "height": 350
        },
        "id": "Ld_rhsOB25sc",
        "outputId": "c91beac4-cd4a-4956-e0de-f8aef07e1037"
      },
      "execution_count": 425,
      "outputs": [
        {
          "output_type": "display_data",
          "data": {
            "image/png": "[encoded data removed]",
            "text/plain": [
              "<IPython.core.display.Image object>"
            ]
          },
          "metadata": {}
        }
      ]
    },
    {
      "cell_type": "code",
      "source": [
        "state_message = State(messages= HumanMessage(content=\"\"\"Add two number 2 and 5 then multiply it with 10 and\n",
        "                                                        Subtract it with 3 \"\"\"))"
      ],
      "metadata": {
        "id": "P626VyJ3015p"
      },
      "execution_count": 426,
      "outputs": []
    },
    {
      "cell_type": "code",
      "source": [
        "result = graph_builder_multiple_tools.invoke(state_message)"
      ],
      "metadata": {
        "id": "od0s1WY60174"
      },
      "execution_count": 427,
      "outputs": []
    },
    {
      "cell_type": "code",
      "source": [
        "for item in result['messages']:\n",
        "    item.pretty_print()"
      ],
      "metadata": {
        "colab": {
          "base_uri": "https://localhost:8080/"
        },
        "id": "7Wkj3z1-01_A",
        "outputId": "99ef8d50-146c-4213-c55e-6c36cbe96998"
      },
      "execution_count": 428,
      "outputs": [
        {
          "output_type": "stream",
          "name": "stdout",
          "text": [
            "================================\u001b[1m Human Message \u001b[0m=================================\n",
            "\n",
            "Add two number 2 and 5 then multiply it with 10 and\n",
            "                                                        Subtract it with 3 \n",
            "==================================\u001b[1m Ai Message \u001b[0m==================================\n",
            "\n",
            "To solve the problem:\n",
            "\n",
            "1. **Add** the two numbers: 2 + 5 = 7\n",
            "2. **Multiply** the sum by 10: 7 × 10 = 70\n",
            "3. **Subtract** 3 from the result: 70 - 3 = 67\n",
            "\n",
            "**Answer:** 67\n"
          ]
        }
      ]
    },
    {
      "cell_type": "markdown",
      "source": [
        "Agent without memory"
      ],
      "metadata": {
        "id": "la9_JFRp9iVe"
      }
    },
    {
      "cell_type": "code",
      "source": [
        "#output_res = graph_builder_multiple_tools.invoke(HumanMessage(content=\"what is the output from previous query\" ))"
      ],
      "metadata": {
        "id": "yxNRUN91IlYG"
      },
      "execution_count": 429,
      "outputs": []
    },
    {
      "cell_type": "code",
      "source": [
        "# for item in output_res['messages']:\n",
        "#     item.pretty_print()"
      ],
      "metadata": {
        "id": "CVvRj7qsI2ar"
      },
      "execution_count": 430,
      "outputs": []
    },
    {
      "cell_type": "markdown",
      "source": [
        "Agent with memory"
      ],
      "metadata": {
        "id": "pXXL7kuCCpm4"
      }
    },
    {
      "cell_type": "code",
      "source": [
        "from langgraph.checkpoint.memory import MemorySaver\n",
        "memory = MemorySaver()"
      ],
      "metadata": {
        "id": "LCQuW6zfCwyV"
      },
      "execution_count": 431,
      "outputs": []
    },
    {
      "cell_type": "code",
      "source": [
        "multiple_tool_graph = StateGraph(State)\n",
        "multiple_tool_graph.add_node(\"llm\", llm_tool_calling)\n",
        "multiple_tool_graph.add_node(\"tools\", ToolNode(tools=[add_two_number,subtract_two_number,multiply_two_number]))\n",
        "multiple_tool_graph.add_edge(START, \"llm\")\n",
        "multiple_tool_graph.add_conditional_edges(\"llm\", tools_condition)\n",
        "multiple_tool_graph.add_edge(\"tools\", END)\n",
        "graph_builder_memory = multiple_tool_graph.compile(checkpointer=memory)"
      ],
      "metadata": {
        "id": "epRubsQTDQst"
      },
      "execution_count": 432,
      "outputs": []
    },
    {
      "cell_type": "code",
      "source": [
        "state_message = State(messages= HumanMessage(content=\"Add two number 2 and 5 and then multiply it with 10 and subtarct it with 5\"))"
      ],
      "metadata": {
        "id": "AVO4amIoDpG9"
      },
      "execution_count": 433,
      "outputs": []
    },
    {
      "cell_type": "code",
      "source": [
        "config = {\"configurable\":{\"thread_id\":\"1\"}}"
      ],
      "metadata": {
        "id": "1Q9KEMGREdZT"
      },
      "execution_count": 434,
      "outputs": []
    },
    {
      "cell_type": "code",
      "source": [
        "graph_builder_memory.invoke(state_message,config)"
      ],
      "metadata": {
        "colab": {
          "base_uri": "https://localhost:8080/"
        },
        "id": "9U106SdmEwak",
        "outputId": "8503680b-7ac6-4668-d233-34d0c5ec7b7c"
      },
      "execution_count": 435,
      "outputs": [
        {
          "output_type": "execute_result",
          "data": {
            "text/plain": [
              "{'messages': [HumanMessage(content='Add two number 2 and 5 and then multiply it with 10 and subtarct it with 5', additional_kwargs={}, response_metadata={}, id='e412414f-145e-4e82-ab95-cf27c343cc97'),\n",
              "  AIMessage(content='To solve the problem step-by-step:\\n\\n1. **Add 2 and 5:**\\n   \\\\[\\n   2 + 5 = 7\\n   \\\\]\\n\\n2. **Multiply the result by 10:**\\n   \\\\[\\n   7 \\\\times 10 = 70\\n   \\\\]\\n\\n3. **Subtract 5 from the result:**\\n   \\\\[\\n   70 - 5 = 65\\n   \\\\]\\n\\n**Final Answer:** 65', additional_kwargs={'reasoning_content': 'Okay, so the user is asking me to add two numbers, 2 and 5, and then multiply the result by 10 and subtract 5. Let me break this down step by step. First, I need to add 2 and 5, which gives me 7. Next, I multiply 7 by 10, resulting in 70. Then, I subtract 5 from 70, which leaves me with 65. So the final answer should be 65. I should make sure each step is clear so the user can follow along easily.\\n'}, response_metadata={'token_usage': {'completion_tokens': 218, 'prompt_tokens': 172, 'total_tokens': 390, 'completion_time': 0.792727273, 'prompt_time': 0.01747109, 'queue_time': 0.202334972, 'total_time': 0.810198363}, 'model_name': 'deepseek-r1-distill-llama-70b', 'system_fingerprint': 'fp_76307ac09b', 'service_tier': 'on_demand', 'finish_reason': 'stop', 'logprobs': None}, id='run--cddcd8a0-202c-4e64-9c18-f14f0b369554-0', usage_metadata={'input_tokens': 172, 'output_tokens': 218, 'total_tokens': 390})]}"
            ]
          },
          "metadata": {},
          "execution_count": 435
        }
      ]
    },
    {
      "cell_type": "code",
      "source": [
        "res = graph_builder_memory.invoke(HumanMessage(content=\"add 25 to that number\" ),config)"
      ],
      "metadata": {
        "id": "DlqMDVQMFDF6"
      },
      "execution_count": 436,
      "outputs": []
    },
    {
      "cell_type": "code",
      "source": [
        "for item in res['messages']:\n",
        "  item.pretty_print()"
      ],
      "metadata": {
        "colab": {
          "base_uri": "https://localhost:8080/"
        },
        "id": "a3DKdhQTFSe6",
        "outputId": "7bfc7aa3-e97b-4323-dd5d-280a08a502e6"
      },
      "execution_count": 437,
      "outputs": [
        {
          "output_type": "stream",
          "name": "stdout",
          "text": [
            "================================\u001b[1m Human Message \u001b[0m=================================\n",
            "\n",
            "Add two number 2 and 5 and then multiply it with 10 and subtarct it with 5\n",
            "==================================\u001b[1m Ai Message \u001b[0m==================================\n",
            "\n",
            "To solve the problem step-by-step:\n",
            "\n",
            "1. **Add 2 and 5:**\n",
            "   \\[\n",
            "   2 + 5 = 7\n",
            "   \\]\n",
            "\n",
            "2. **Multiply the result by 10:**\n",
            "   \\[\n",
            "   7 \\times 10 = 70\n",
            "   \\]\n",
            "\n",
            "3. **Subtract 5 from the result:**\n",
            "   \\[\n",
            "   70 - 5 = 65\n",
            "   \\]\n",
            "\n",
            "**Final Answer:** 65\n",
            "==================================\u001b[1m Ai Message \u001b[0m==================================\n"
          ]
        }
      ]
    },
    {
      "cell_type": "code",
      "source": [
        "res_memory = graph_builder_memory.invoke(HumanMessage(content=\"Add 35 to that valie\" ),config)"
      ],
      "metadata": {
        "id": "sTvCiWyGHLDD"
      },
      "execution_count": 438,
      "outputs": []
    },
    {
      "cell_type": "code",
      "source": [
        "for item in res_memory['messages']:\n",
        "  item.pretty_print()"
      ],
      "metadata": {
        "id": "KOlZciatHOa6",
        "outputId": "3ef8996d-242c-49e1-95c7-8362dffbfa6d",
        "colab": {
          "base_uri": "https://localhost:8080/"
        }
      },
      "execution_count": 439,
      "outputs": [
        {
          "output_type": "stream",
          "name": "stdout",
          "text": [
            "================================\u001b[1m Human Message \u001b[0m=================================\n",
            "\n",
            "Add two number 2 and 5 and then multiply it with 10 and subtarct it with 5\n",
            "==================================\u001b[1m Ai Message \u001b[0m==================================\n",
            "\n",
            "To solve the problem step-by-step:\n",
            "\n",
            "1. **Add 2 and 5:**\n",
            "   \\[\n",
            "   2 + 5 = 7\n",
            "   \\]\n",
            "\n",
            "2. **Multiply the result by 10:**\n",
            "   \\[\n",
            "   7 \\times 10 = 70\n",
            "   \\]\n",
            "\n",
            "3. **Subtract 5 from the result:**\n",
            "   \\[\n",
            "   70 - 5 = 65\n",
            "   \\]\n",
            "\n",
            "**Final Answer:** 65\n",
            "==================================\u001b[1m Ai Message \u001b[0m==================================\n",
            "==================================\u001b[1m Ai Message \u001b[0m==================================\n",
            "\n",
            "\n",
            "\n",
            "To solve the problem step-by-step:\n",
            "\n",
            "1. **Add 2 and 5:**\n",
            "   \\[\n",
            "   2 + 5 = 7\n",
            "   \\]\n",
            "\n",
            "2. **Multiply the result by 10:**\n",
            "   \\[\n",
            "   7 \\times 10 = 70\n",
            "   \\]\n",
            "\n",
            "3. **Subtract 5 from the result:**\n",
            "   \\[\n",
            "   70 - 5 = 65\n",
            "   \\]\n",
            "\n",
            "**Final Answer:** 65\n"
          ]
        }
      ]
    }
  ]
}