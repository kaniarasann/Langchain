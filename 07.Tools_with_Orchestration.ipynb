{
  "nbformat": 4,
  "nbformat_minor": 0,
  "metadata": {
    "colab": {
      "provenance": [],
      "authorship_tag": "ABX9TyMbF1pZ3WUsCTUzBUWyAKRT",
      "include_colab_link": true
    },
    "kernelspec": {
      "name": "python3",
      "display_name": "Python 3"
    },
    "language_info": {
      "name": "python"
    }
  },
  "cells": [
    {
      "cell_type": "markdown",
      "metadata": {
        "id": "view-in-github",
        "colab_type": "text"
      },
      "source": [
        "<a href=\"https://colab.research.google.com/github/kaniarasann/Langchain/blob/main/07.Tools_with_Orchestration.ipynb\" target=\"_parent\"><img src=\"https://colab.research.google.com/assets/colab-badge.svg\" alt=\"Open In Colab\"/></a>"
      ]
    },
    {
      "cell_type": "code",
      "execution_count": 195,
      "metadata": {
        "id": "_ku_MX_n8RYy"
      },
      "outputs": [],
      "source": [
        "#!pip install langchain langgraph langchain_groq pydantic feedparser beautifulsoup4 langchain-community langchain-exa"
      ]
    },
    {
      "cell_type": "markdown",
      "source": [
        "Imports"
      ],
      "metadata": {
        "id": "7aFVrbq09PUV"
      }
    },
    {
      "cell_type": "code",
      "source": [
        "from pydantic import BaseModel,Field\n",
        "from datetime import datetime\n",
        "from dateutil import parser as dtparser\n",
        "import feedparser\n",
        "from langchain_groq import ChatGroq\n",
        "from google.colab import userdata\n",
        "from langchain_core.prompts import PromptTemplate\n",
        "from typing import List\n",
        "import operator\n",
        "from typing_extensions import Annotated\n",
        "from langchain_exa import ExaSearchResults"
      ],
      "metadata": {
        "id": "vTUxBNcy9O7E"
      },
      "execution_count": 196,
      "outputs": []
    },
    {
      "cell_type": "markdown",
      "source": [
        "Get top 5 news from the economic times this can be achieved with the help of RSS Feed : https://economictimes.indiatimes.com/markets/rssfeeds/1977021501.cms"
      ],
      "metadata": {
        "id": "wVgvfPPm8r3n"
      }
    },
    {
      "cell_type": "code",
      "source": [
        "url = 'https://economictimes.indiatimes.com/markets/rssfeeds/1977021501.cms'"
      ],
      "metadata": {
        "id": "DtnX6xq191-7"
      },
      "execution_count": 197,
      "outputs": []
    },
    {
      "cell_type": "code",
      "source": [
        "# Class required for converting the Feed to pydantic class\n",
        "class EconomicTime(BaseModel):\n",
        "    title: str =''\n",
        "    link: str = ''\n",
        "    published: datetime =''\n",
        "    content :str =''"
      ],
      "metadata": {
        "id": "it4L88C78gcw"
      },
      "execution_count": 198,
      "outputs": []
    },
    {
      "cell_type": "code",
      "source": [
        "#feed parse the Url add the nessecary package\n",
        "feeds = feedparser.parse(url)"
      ],
      "metadata": {
        "id": "aEdCRu3W9hyY",
        "outputId": "38189fa2-739e-47a8-8754-5d75579c1e96",
        "colab": {
          "base_uri": "https://localhost:8080/"
        }
      },
      "execution_count": 199,
      "outputs": [
        {
          "output_type": "stream",
          "name": "stderr",
          "text": [
            "<frozen importlib._bootstrap>:1047: ImportWarning: _PyDriveImportHook.find_spec() not found; falling back to find_module()\n",
            "<frozen importlib._bootstrap>:1047: ImportWarning: _BokehImportHook.find_spec() not found; falling back to find_module()\n"
          ]
        }
      ]
    },
    {
      "cell_type": "code",
      "source": [
        "#iterate through the first 5 feed\n",
        "economic_times:list[EconomicTime] = []\n",
        "for feed in feeds.entries[:5]:\n",
        "    economic_times.append(EconomicTime(\n",
        "        title = feed.title,\n",
        "        link = feed.link,\n",
        "        published = dtparser.parse(feed.published)\n",
        "\n",
        "    ))\n",
        ""
      ],
      "metadata": {
        "id": "d4QXS9rI94m2"
      },
      "execution_count": 200,
      "outputs": []
    },
    {
      "cell_type": "code",
      "source": [
        "#get the content by using beautiful soup\n",
        "from bs4 import BeautifulSoup\n",
        "import requests\n",
        "\n",
        "for news in economic_times:\n",
        "    headers = {\"User-Agent\": \"Mozilla/5.0\"}\n",
        "    response = requests.get(news.link, headers=headers)\n",
        "    soup = BeautifulSoup(response.text, 'html.parser')\n",
        "    article_div = soup.find(\"article\")\n",
        "    article_text = article_div.get_text(strip=True)\n",
        "    news.content = article_text"
      ],
      "metadata": {
        "id": "npSW6JNE95MF"
      },
      "execution_count": 201,
      "outputs": []
    },
    {
      "cell_type": "code",
      "source": [
        "economic_times[0].content"
      ],
      "metadata": {
        "id": "Np-nX8tn-rvx",
        "outputId": "ef08e04f-d858-49b2-eec4-dd43a4007a84",
        "colab": {
          "base_uri": "https://localhost:8080/",
          "height": 126
        }
      },
      "execution_count": 202,
      "outputs": [
        {
          "output_type": "execute_result",
          "data": {
            "text/plain": [
              "\"ETMarkets.comThe Aditya Birla Group company incurred expenses of Rs 1,042 crore in the quarter under review versus Rs 1,313 crore in Q4FY25.India Cementson Saturday reported a consolidated net loss of Rs 131 crore for the June quarter compared to the profit of Rs 71 crore in the year-ago period. The company's revenue stood at Rs 1,025 crore, marginally lower than Rs 1,027 crore in the corresponding quarter of the previous financial year.The performance also marked a sharp downturn from the previous quarter, when the company had posted a profit of Rs 19 crore. Sequentially, revenue fell 14% from Rs 1,197 crore in Q4FY25.The Aditya Birla Group company incurred expenses of Rs 1,042 crore in the quarter under review versus Rs 1,313 crore in Q4FY25 and Rs 1,190 crore in Q1FY25. The expenses were made under the heads including 'Cost of Materials consumed', freight & forwarding expense and power & fuel, among other things.The company achieved domestic sales volume of 2.18 MnT, up 11.6% YoY. The average capacity utilisation stood at 61% for the quarter.The Cement Realisations (net of logistics cost) improved by 5.7% QoQ.Live EventsThe company recorded total Ebitda/Mt of Rs 424, which improved significantly from Rs 88/Mt in Q4FY25.The average interest rate for Q1FY26 stood at 6.83%, declining by 110 bps QoQ.On a standalone basis, India Cements reported a net loss of Rs 14 crore in Q1FY26, narrowing from a loss of Rs 76 crore in Q4FY25 and compared to a net profit of Rs 57 crore in the year-ago period. Revenue rose 5.5% year-on-year to Rs 1,025 crore from Rs 972 crore.During the quarter under review, the company approved the sale of its entire equity stake in its subsidiary, Industrial Chemicals & Monomers Ltd (ICML), for a total consideration of Rs 97.68 crore. As a result, the investment in ICML, previously carried at a cost of Rs 0.36 crore, has been reclassified as held for sale. The gain from this transaction will be recognised upon its completion, the company filing said.The company’s step-down subsidiary, PT Adcoal Energindo, Indonesia, approved the sale of its entire stake in PT Mitra Setia Tanah Bumbu, Indonesia, an associate entity, on July 3, 2025. The impact, if any, on the carrying value of the investment in the foreign subsidiary will be evaluated for impairment once the transaction is completed.The exceptional items for the quarter include two key impairments. First, an impairment of Rs 47.53 crore was recognised upon the consolidation of the subsidiary ICML, which has been classified as held for sale. This amount reflects the difference between the carrying value of ICML's net assets and their fair value less costs to sell. Second, an impairment of Rs 76.24 crore was recorded in relation to the proposed sale of a stake in MSTB, representing the gap between the carrying amount of the investment (including goodwill) and its fair value less costs to sell.(Disclaimer: Recommendations, suggestions, views and opinions given by the experts are their own. These do not represent the views of Economic Times)(You can now subscribe to ourETMarkets WhatsApp channel)Read More News onindia cementsindia cementsindia cements q1 resultsindia cements q1 profitindia cements q1 revenueindia cements q1 lossindia cements earningsIndia Cements lossIndia Cements revenueIndia Cements financial results(What's movingSensexandNiftyTracklatest market news,stock tips,Budget 2025,Share Market on Budget 2025andexpert advice, onETMarkets. Also, ETMarkets.com is now on Telegram. For fastest news alerts on financial markets, investment strategies and stocks alerts,subscribe to our Telegram feeds.)Subscribe toET Primeand read theEconomic Times ePaperOnline.andSensex Today.Top Trending Stocks:SBI Share Price,Axis Bank Share Price,HDFC Bank Share Price,Infosys Share Price,Wipro Share Price,NTPC Share Price...moreless(You can now subscribe to ourETMarkets WhatsApp channel)Read More News onindia cementsindia cementsindia cements q1 resultsindia cements q1 profitindia cements q1 revenueindia cements q1 lossindia cements earningsIndia Cements lossIndia Cements revenueIndia Cements financial results(What's movingSensexandNiftyTracklatest market news,stock tips,Budget 2025,Share Market on Budget 2025andexpert advice, onETMarkets. Also, ETMarkets.com is now on Telegram. For fastest news alerts on financial markets, investment strategies and stocks alerts,subscribe to our Telegram feeds.)Subscribe toET Primeand read theEconomic Times ePaperOnline.andSensex Today.Top Trending Stocks:SBI Share Price,Axis Bank Share Price,HDFC Bank Share Price,Infosys Share Price,Wipro Share Price,NTPC Share Price...morelessPrime ExclusivesInvestment IdeasStock Report PlusePaperWealth EditionLeadership shakeups cloud Ola Electric’s revival attemptsCan Indian IT’s ‘pyramid’ survive the GenAI shake-up?How Safexpress bootstrapped its way to build India’s largest PTL Express businessAs deposit ground slips under PSU banks' feet, they chase the wealthyZee promoters have a new challenge to navigate. And it’s not about funding or Sebi probe.These large- and mid-cap stocks can give more than 27% return in 1 year, according to analysts123View all Stories\""
            ],
            "application/vnd.google.colaboratory.intrinsic+json": {
              "type": "string"
            }
          },
          "metadata": {},
          "execution_count": 202
        }
      ]
    },
    {
      "cell_type": "code",
      "source": [
        "#create LLM\n",
        "groq_key = userdata.get('groq_key')\n",
        "llm = ChatGroq(api_key=groq_key, model=\"llama-3.3-70b-versatile\",max_retries=5)\n",
        "llm_reasoning = ChatGroq(api_key=groq_key, model=\"deepseek-r1-distill-llama-70b\",max_retries=5)\n",
        "search_tool = ExaSearchResults(exa_api_key= userdata.get('exa_api_key'))\n"
      ],
      "metadata": {
        "id": "HDs6EXEm_Ovq"
      },
      "execution_count": 203,
      "outputs": []
    },
    {
      "cell_type": "code",
      "source": [
        "class Stock(BaseModel):\n",
        "    name: str = Field(description=\"Name of the stock\")\n",
        "    news_abstract: str = Field(description=\"Abstract of the news article related to the stock\")"
      ],
      "metadata": {
        "id": "NyEaazA-_md-"
      },
      "execution_count": 204,
      "outputs": []
    },
    {
      "cell_type": "code",
      "source": [
        "llm_stock_news = llm.with_structured_output(Stock)"
      ],
      "metadata": {
        "id": "tVTLlrcXBOBz"
      },
      "execution_count": 205,
      "outputs": []
    },
    {
      "cell_type": "code",
      "source": [
        "economic_times"
      ],
      "metadata": {
        "id": "dU5xUoFAUhXl",
        "outputId": "5c2f6cd4-19cb-47be-d136-a590913c0117",
        "colab": {
          "base_uri": "https://localhost:8080/"
        }
      },
      "execution_count": 206,
      "outputs": [
        {
          "output_type": "execute_result",
          "data": {
            "text/plain": [
              "[EconomicTime(title='India Cements Q1 results: Co slips to Rs 131 crore loss, revenue flat YoY', link='https://economictimes.indiatimes.com/markets/stocks/earnings/india-cements-q1-results-co-slips-to-rs-131-crore-loss-revenue-flat-yoy/articleshow/122782761.cms', published=datetime.datetime(2025, 7, 19, 17, 31, 11, tzinfo=tzoffset(None, 19800)), content=\"ETMarkets.comThe Aditya Birla Group company incurred expenses of Rs 1,042 crore in the quarter under review versus Rs 1,313 crore in Q4FY25.India Cementson Saturday reported a consolidated net loss of Rs 131 crore for the June quarter compared to the profit of Rs 71 crore in the year-ago period. The company's revenue stood at Rs 1,025 crore, marginally lower than Rs 1,027 crore in the corresponding quarter of the previous financial year.The performance also marked a sharp downturn from the previous quarter, when the company had posted a profit of Rs 19 crore. Sequentially, revenue fell 14% from Rs 1,197 crore in Q4FY25.The Aditya Birla Group company incurred expenses of Rs 1,042 crore in the quarter under review versus Rs 1,313 crore in Q4FY25 and Rs 1,190 crore in Q1FY25. The expenses were made under the heads including 'Cost of Materials consumed', freight & forwarding expense and power & fuel, among other things.The company achieved domestic sales volume of 2.18 MnT, up 11.6% YoY. The average capacity utilisation stood at 61% for the quarter.The Cement Realisations (net of logistics cost) improved by 5.7% QoQ.Live EventsThe company recorded total Ebitda/Mt of Rs 424, which improved significantly from Rs 88/Mt in Q4FY25.The average interest rate for Q1FY26 stood at 6.83%, declining by 110 bps QoQ.On a standalone basis, India Cements reported a net loss of Rs 14 crore in Q1FY26, narrowing from a loss of Rs 76 crore in Q4FY25 and compared to a net profit of Rs 57 crore in the year-ago period. Revenue rose 5.5% year-on-year to Rs 1,025 crore from Rs 972 crore.During the quarter under review, the company approved the sale of its entire equity stake in its subsidiary, Industrial Chemicals & Monomers Ltd (ICML), for a total consideration of Rs 97.68 crore. As a result, the investment in ICML, previously carried at a cost of Rs 0.36 crore, has been reclassified as held for sale. The gain from this transaction will be recognised upon its completion, the company filing said.The company’s step-down subsidiary, PT Adcoal Energindo, Indonesia, approved the sale of its entire stake in PT Mitra Setia Tanah Bumbu, Indonesia, an associate entity, on July 3, 2025. The impact, if any, on the carrying value of the investment in the foreign subsidiary will be evaluated for impairment once the transaction is completed.The exceptional items for the quarter include two key impairments. First, an impairment of Rs 47.53 crore was recognised upon the consolidation of the subsidiary ICML, which has been classified as held for sale. This amount reflects the difference between the carrying value of ICML's net assets and their fair value less costs to sell. Second, an impairment of Rs 76.24 crore was recorded in relation to the proposed sale of a stake in MSTB, representing the gap between the carrying amount of the investment (including goodwill) and its fair value less costs to sell.(Disclaimer: Recommendations, suggestions, views and opinions given by the experts are their own. These do not represent the views of Economic Times)(You can now subscribe to ourETMarkets WhatsApp channel)Read More News onindia cementsindia cementsindia cements q1 resultsindia cements q1 profitindia cements q1 revenueindia cements q1 lossindia cements earningsIndia Cements lossIndia Cements revenueIndia Cements financial results(What's movingSensexandNiftyTracklatest market news,stock tips,Budget 2025,Share Market on Budget 2025andexpert advice, onETMarkets. Also, ETMarkets.com is now on Telegram. For fastest news alerts on financial markets, investment strategies and stocks alerts,subscribe to our Telegram feeds.)Subscribe toET Primeand read theEconomic Times ePaperOnline.andSensex Today.Top Trending Stocks:SBI Share Price,Axis Bank Share Price,HDFC Bank Share Price,Infosys Share Price,Wipro Share Price,NTPC Share Price...moreless(You can now subscribe to ourETMarkets WhatsApp channel)Read More News onindia cementsindia cementsindia cements q1 resultsindia cements q1 profitindia cements q1 revenueindia cements q1 lossindia cements earningsIndia Cements lossIndia Cements revenueIndia Cements financial results(What's movingSensexandNiftyTracklatest market news,stock tips,Budget 2025,Share Market on Budget 2025andexpert advice, onETMarkets. Also, ETMarkets.com is now on Telegram. For fastest news alerts on financial markets, investment strategies and stocks alerts,subscribe to our Telegram feeds.)Subscribe toET Primeand read theEconomic Times ePaperOnline.andSensex Today.Top Trending Stocks:SBI Share Price,Axis Bank Share Price,HDFC Bank Share Price,Infosys Share Price,Wipro Share Price,NTPC Share Price...morelessPrime ExclusivesInvestment IdeasStock Report PlusePaperWealth EditionLeadership shakeups cloud Ola Electric’s revival attemptsCan Indian IT’s ‘pyramid’ survive the GenAI shake-up?How Safexpress bootstrapped its way to build India’s largest PTL Express businessAs deposit ground slips under PSU banks' feet, they chase the wealthyZee promoters have a new challenge to navigate. And it’s not about funding or Sebi probe.These large- and mid-cap stocks can give more than 27% return in 1 year, according to analysts123View all Stories\"),\n",
              " EconomicTime(title='Union Bank of India Q1 Results: PAT rises 12% to Rs 4,116 crore', link='https://economictimes.indiatimes.com/markets/stocks/earnings/union-bank-of-india-q1-results-pat-rises-12-to-rs-4116-crore/articleshow/122781514.cms', published=datetime.datetime(2025, 7, 19, 15, 57, 20, tzinfo=tzoffset(None, 19800)), content=\"ANIUnion Bank of India saw a 12 percent increase in net profit, reaching Rs 4,116 crore in the first quarter.State-ownedUnion Bank of Indiaon Saturday reported a 12 per cent rise innet profitto Rs 4,116 crore during the first quarter of this financial year.The Mumbai-based lender had earned a net profit of Rs 3,679 crore in the same quarter of the previous fiscal year.The total income rose to Rs 31,791 crore during the June 2025 quarter from Rs 30,874 crore in the year-ago period,Union Bank of Indiasaid in a regulatory filing.Interest earnedby the bank improved to Rs 27,296 crore compared to Rs 26,364 crore in the June quarter of FY25.However, net interest income declined to Rs 9,113 crore during the quarter against Rs 9,412 crore a year ago.Live EventsThe bank'soperating profitalso dropped 11 per cent to Rs 6,909 crore from Rs 7,785 crore in the same quarter of the preceding fiscal.The bank's asset quality showed improvement asgross non-performing assets(NPAs) declined to 3.52 per cent of gross advances at the end of the June quarter from 4.54 per cent a year ago.Its gross advance increased by 6.83 per cent to Rs 9,74,489 crore from Rs 9,12,214 crore at the end of June 2024.Similarly, its net NPAs, or bad loans, declined to 0.62 per cent against 0.90 per cent in the year-ago period.As a result,provisions for bad loansdeclined to Rs 1,153 crore during the first quarter compared to Rs 1,651 crore a year ago.Provision Coverage Ratio (PCR) improved to 94.65 per cent from 93.49 per cent, an improvement of 116 bps.At the same time,Return on Assets(ROA) rose to 1.11 per cent for June 2025, from 1.06 per cent in June 2024, registering an improvement of 5 bps, the lender said.Capital adequacy ratioof the bank rose to 18.3 per cent from 17.02 per cent in the same quarter of FY25.The total business grew by 5 per cent to Rs 22,14,422 crore from Rs 21,08,762 crore at the end of June 2024. PTI(You can now subscribe to ourETMarkets WhatsApp channel)Read More News onunion bank of indiaUnion Bank of IndiaReturn on AssetsQ1 financial resultsfinancial year 2025net profitoperating profitinterest earnedCapital adequacy ratio(What's movingSensexandNiftyTracklatest market news,stock tips,Budget 2025,Share Market on Budget 2025andexpert advice, onETMarkets. Also, ETMarkets.com is now on Telegram. For fastest news alerts on financial markets, investment strategies and stocks alerts,subscribe to our Telegram feeds.)Subscribe toET Primeand read theEconomic Times ePaperOnline.andSensex Today.Top Trending Stocks:SBI Share Price,Axis Bank Share Price,HDFC Bank Share Price,Infosys Share Price,Wipro Share Price,NTPC Share Price...moreless(You can now subscribe to ourETMarkets WhatsApp channel)Read More News onunion bank of indiaUnion Bank of IndiaReturn on AssetsQ1 financial resultsfinancial year 2025net profitoperating profitinterest earnedCapital adequacy ratio(What's movingSensexandNiftyTracklatest market news,stock tips,Budget 2025,Share Market on Budget 2025andexpert advice, onETMarkets. Also, ETMarkets.com is now on Telegram. For fastest news alerts on financial markets, investment strategies and stocks alerts,subscribe to our Telegram feeds.)Subscribe toET Primeand read theEconomic Times ePaperOnline.andSensex Today.Top Trending Stocks:SBI Share Price,Axis Bank Share Price,HDFC Bank Share Price,Infosys Share Price,Wipro Share Price,NTPC Share Price...morelessPrime ExclusivesInvestment IdeasStock Report PlusePaperWealth EditionLeadership shakeups cloud Ola Electric’s revival attemptsCan Indian IT’s ‘pyramid’ survive the GenAI shake-up?How Safexpress bootstrapped its way to build India’s largest PTL Express businessAs deposit ground slips under PSU banks' feet, they chase the wealthyZee promoters have a new challenge to navigate. And it’s not about funding or Sebi probe.These large- and mid-cap stocks can give more than 27% return in 1 year, according to analysts123View all Stories\"),\n",
              " EconomicTime(title='Central Bank of India Q1 Results: Net profit surges 33% to Rs 1,169 crore', link='https://economictimes.indiatimes.com/markets/stocks/earnings/central-bank-of-india-q1-results-net-profit-surges-33-to-rs-1169-crore/articleshow/122781433.cms', published=datetime.datetime(2025, 7, 19, 15, 54, 25, tzinfo=tzoffset(None, 19800)), content=\"AgenciesCentral Bank of India reported a 33% surge in net profit, reaching Rs 1,169 crore in the first quarter of FY26.New Delhi, State-ownedCentral Bank of Indiaon Saturday posted a 33 per cent growth in net profit at Rs 1,169 crore during the first quarter of this financial year, aided by improvement in core income and decline in bad debts.The Mumbai-based bank had earned a net profit of Rs 880 crore in the same quarter of the previous fiscal year.The total income rose to Rs 10,374 crore during the June quarter of 2025-26, from Rs 9,500 crore in the same quarter of FY25, Central Bank of India said in a regulatory filing.Interest earned by the bank improved to Rs 8,589 crore, as compared to Rs 8,335 crore in the June quarter FY25.During the period under review, operating profit of the bank increased to Rs 2,304 crore, as compared to Rs 1,933 crore in the same quarter a year ago.Live EventsThe bank's asset quality showed improvement as gross non-performing assets (NPAs) declined to 3.13 per cent of gross advances at the end of the June quarter, from 4.54 per cent a year ago.Gross advance increased by 9.97 per cent to Rs 2,75,595 crore from Rs 2,50,615 crore at the end of June 2024.Similarly, net NPAs, or bad loans, declined to 0.49 per cent, as against 0.73 per cent in the year-ago period.As a result, provisions and contingencies halved to Rs 521 crore during the first quarter as compared to Rs 1,191 crore in the same period a year ago.Provision Coverage Ratio (PCR) improved to 97.02 per cent, from 96.17 per cent, an improvement of 85 basis points.At the same time, Return on Assets (ROA) improved to 1.02 per cent for June 2025, from 0.82 per cent at June 2024, registering an improvement of 20 bps, it said.Capital adequacy ratio of the bank rose to 17.6 per cent, from 15.6 per cent in the same quarter of FY25.Total business grew by 10.84 per cent to Rs 7,04,485 crore from Rs 6,35,564 crore at the end of June 2024. PTI(You can now subscribe to ourETMarkets WhatsApp channel)Read More News onCentral Bank of India Q1central bank of indiaCentral Bank of India Q1 net profitCentral Bank of India financial resultsCentral Bank of India net profit increaseCentral Bank of India Q1 earningsCentral Bank of India asset qualityBankingBank Q1 ResultsCentral Bank of India bad debts reduction(What's movingSensexandNiftyTracklatest market news,stock tips,Budget 2025,Share Market on Budget 2025andexpert advice, onETMarkets. Also, ETMarkets.com is now on Telegram. For fastest news alerts on financial markets, investment strategies and stocks alerts,subscribe to our Telegram feeds.)Subscribe toET Primeand read theEconomic Times ePaperOnline.andSensex Today.Top Trending Stocks:SBI Share Price,Axis Bank Share Price,HDFC Bank Share Price,Infosys Share Price,Wipro Share Price,NTPC Share Price...moreless(You can now subscribe to ourETMarkets WhatsApp channel)Read More News onCentral Bank of India Q1central bank of indiaCentral Bank of India Q1 net profitCentral Bank of India financial resultsCentral Bank of India net profit increaseCentral Bank of India Q1 earningsCentral Bank of India asset qualityBankingBank Q1 ResultsCentral Bank of India bad debts reduction(What's movingSensexandNiftyTracklatest market news,stock tips,Budget 2025,Share Market on Budget 2025andexpert advice, onETMarkets. Also, ETMarkets.com is now on Telegram. For fastest news alerts on financial markets, investment strategies and stocks alerts,subscribe to our Telegram feeds.)Subscribe toET Primeand read theEconomic Times ePaperOnline.andSensex Today.Top Trending Stocks:SBI Share Price,Axis Bank Share Price,HDFC Bank Share Price,Infosys Share Price,Wipro Share Price,NTPC Share Price...morelessPrime ExclusivesInvestment IdeasStock Report PlusePaperWealth EditionLeadership shakeups cloud Ola Electric’s revival attemptsCan Indian IT’s ‘pyramid’ survive the GenAI shake-up?How Safexpress bootstrapped its way to build India’s largest PTL Express businessAs deposit ground slips under PSU banks' feet, they chase the wealthyZee promoters have a new challenge to navigate. And it’s not about funding or Sebi probe.These large- and mid-cap stocks can give more than 27% return in 1 year, according to analysts123View all Stories\"),\n",
              " EconomicTime(title='ICICI Bank Q1 Results: Net profit rises 15.5% YoY to Rs 12,768 crore; NII up 11%', link='https://economictimes.indiatimes.com/markets/stocks/earnings/icici-bank-q1-results-net-profit-rises-15-5-yoy-rs-12768-crore-nii-up-11/articleshow/122780833.cms', published=datetime.datetime(2025, 7, 19, 15, 13, 54, tzinfo=tzoffset(None, 19800)), content=\"THE ECONOMIC TIMESICICI Bank, India’s second-largest private lender, on Saturday reported a standalone net profit of Rs 12,768.21 crore, up 15.5% year-over-year compared to a profit of Rs 11,059.11 crore in the corresponding quarter of last year.The bank also posted a 10.6% increase YoY in net interest income (NII), which rose to Rs 21,635 crore in the June quarter from Rs 19,553 crore a year ago.ICICI Bank said its net interest margin stood at 4.34% in the quarter ended June 2025, compared with 4.41% in the preceding March quarter and 4.36% a year ago.ETMarkets.comThe bank’s core operating profit grew 13.6% year-on-year to Rs 17,505 crore, up from Rs 15,412 crore in Q1 FY25.Live EventsThe lender said its provisions (excluding tax) rose to Rs 1,815 crore in the first quarter of FY26 from Rs 1,332 crore in the year-ago period. Provisions in Q1 FY25 included a release of Rs 389 crore related to Alternative Investment Fund (AIF) exposures.Treasury gains stood at Rs 1,241 crore in the June quarter, up from Rs 613 crore in Q1 FY25, largely reflecting realised and mark-to-market gains in fixed income securities and equities.Strong deposit growth, stable loan book and healthy capital ratiosAverage deposits grew 11.2% year-on-year to Rs 15,33,241 crore in the June 2025 quarter. The average current account and savings account (CASA) ratio stood at 38.7% during the quarter.The bank said its domestic loan portfolio expanded 12% year-on-year to Rs 13,31,196 crore as of June 30, 2025.Meanwhile, the lender's asset quality remained stable, with the gross non-performing asset (NPA) ratio improving to 1.67% as of June 30, 2025, from 2.15% a year earlier. The net NPA ratio stood at 0.41%, slightly lower than 0.43% in the same period last year. The provisioning coverage ratio on non-performing loans was 75.3%.Also read |HDFC Bank Q1 Results: PAT rises 12% YoY to Rs 18,155 crore; dividend of Rs 5 per share declaredIncluding the profit for Q1 FY26, ICICI Bank said its total capital adequacy ratio stood at 16.97%, while the Common Equity Tier-1 (CET1) ratio was 16.31% on a standalone basis, as of June 30, 2025. These levels are comfortably above the minimum regulatory requirements of 11.70% and 8.20%, respectively.Credit growth led by business bankingThe bank's net domestic advances grew by 12% year-on-year and 1.5% sequentially as of June 30, 2025. The retail loan portfolio expanded 6.9% year-on-year and 0.5% sequentially, comprising 52.2% of the total loan portfolio at the end of the quarter. Including non-fund outstanding, the retail portfolio accounted for 43.2% of the total.The business banking portfolio posted robust growth of 29.7% year-on-year and 3.7% sequentially. The rural loan book, however, declined 0.4% year-on-year and 1.5% sequentially. The domestic corporate portfolio grew 7.5% year-on-year but declined 1.4% sequentially.Total advances rose 11.5% year-on-year and 1.7% sequentially to Rs 13,64,157 crore as of June 30, 2025.(You can now subscribe to ourETMarkets WhatsApp channel)Read More News onicici bankICICI BankICICI Bank Q1 resultsICICI Bank Q1 profitICICI Bank earningsICICI Bank updateICICI Bank NII(What's movingSensexandNiftyTracklatest market news,stock tips,Budget 2025,Share Market on Budget 2025andexpert advice, onETMarkets. Also, ETMarkets.com is now on Telegram. For fastest news alerts on financial markets, investment strategies and stocks alerts,subscribe to our Telegram feeds.)Subscribe toET Primeand read theEconomic Times ePaperOnline.andSensex Today.Top Trending Stocks:SBI Share Price,Axis Bank Share Price,HDFC Bank Share Price,Infosys Share Price,Wipro Share Price,NTPC Share Price...moreless(You can now subscribe to ourETMarkets WhatsApp channel)Read More News onicici bankICICI BankICICI Bank Q1 resultsICICI Bank Q1 profitICICI Bank earningsICICI Bank updateICICI Bank NII(What's movingSensexandNiftyTracklatest market news,stock tips,Budget 2025,Share Market on Budget 2025andexpert advice, onETMarkets. Also, ETMarkets.com is now on Telegram. For fastest news alerts on financial markets, investment strategies and stocks alerts,subscribe to our Telegram feeds.)Subscribe toET Primeand read theEconomic Times ePaperOnline.andSensex Today.Top Trending Stocks:SBI Share Price,Axis Bank Share Price,HDFC Bank Share Price,Infosys Share Price,Wipro Share Price,NTPC Share Price...morelessPrime ExclusivesInvestment IdeasStock Report PlusePaperWealth EditionLeadership shakeups cloud Ola Electric’s revival attemptsCan Indian IT’s ‘pyramid’ survive the GenAI shake-up?How Safexpress bootstrapped its way to build India’s largest PTL Express businessAs deposit ground slips under PSU banks' feet, they chase the wealthyZee promoters have a new challenge to navigate. And it’s not about funding or Sebi probe.These large- and mid-cap stocks can give more than 27% return in 1 year, according to analysts123View all Stories\"),\n",
              " EconomicTime(title='HDFC Bank announces first ever bonus share issue at 1:1 ratio', link='https://economictimes.indiatimes.com/markets/stocks/earnings/hdfc-bank-announces-11-bonus-issue-in-its-first-ever-bonus-share-issue/articleshow/122780791.cms', published=datetime.datetime(2025, 7, 19, 15, 7, 45, tzinfo=tzoffset(None, 19800)), content=\"THE ECONOMIC TIMESHDFC Bank, India’s largest private sector lender, on Saturday announced its first-ever bonus issue, with the board approving the allotment of shares in a 1:1 ratio.Under the terms of the issue, shareholders will receive one fully paid-up equity share of face value Rs 1 for every one existing fully paid-up equity share of Rs 1 held.The decision marks a significant milestone for the bank, which has never undertaken a bonus issue since its inception.The record date for determining the entitlement of members to receive the bonus equity shares has been set as Wednesday, August 27, 2025.Live EventsIn addition to the bonus issue, the bank’s board also approved a special interim dividend of Rs 5 per equity share of face value Re 1 each fully paid-up, representing a 500% payout, for the financial year 2025–26.The record date to determine eligibility for the dividend is Friday, July 25, 2025, and the payment will be made to eligible shareholders on Monday, August 11, 2025.The bonus and special dividend announcements came alongside the lender’s first-quarter financial results. HDFC Bank reported a 12% year-on-year rise in standalone net profit to Rs 18,155 crore for the quarter ended June 30, 2025, up from Rs 16,175 crore in the same period last year.The lender's total interest income rose 6% year-on-year to Rs 77,470 crore, compared with Rs 73,033 crore in the year-ago quarter. Net interest income (NII), a key measure of lending profitability, stood at Rs 31,440 crore, a growth of 5.4% over Rs 29,840 crore reported in Q1 FY25.The banks said its core net interest margin for the quarter was 3.35% on total assets, reflecting a lag in deposit repricing relative to asset yields. This was slightly lower than the 3.46% reported in the previous quarter ended March 31, 2025.Meanwhile, the lender's operating expenses for the quarter rose to Rs 17,430 crore from Rs 16,620 crore a year earlier. The cost-to-income ratio, excluding transaction gains, was 39.6% for the quarter.(You can now subscribe to ourETMarkets WhatsApp channel)Read More News onHDFC BankHDFC bank newsHDFC Bank Q1 resultsHDFC Bank Q1 UpdateHDFC Bank Q1 profitHDFC Bank Q1 NII(What's movingSensexandNiftyTracklatest market news,stock tips,Budget 2025,Share Market on Budget 2025andexpert advice, onETMarkets. Also, ETMarkets.com is now on Telegram. For fastest news alerts on financial markets, investment strategies and stocks alerts,subscribe to our Telegram feeds.)Subscribe toET Primeand read theEconomic Times ePaperOnline.andSensex Today.Top Trending Stocks:SBI Share Price,Axis Bank Share Price,HDFC Bank Share Price,Infosys Share Price,Wipro Share Price,NTPC Share Price...moreless(You can now subscribe to ourETMarkets WhatsApp channel)Read More News onHDFC BankHDFC bank newsHDFC Bank Q1 resultsHDFC Bank Q1 UpdateHDFC Bank Q1 profitHDFC Bank Q1 NII(What's movingSensexandNiftyTracklatest market news,stock tips,Budget 2025,Share Market on Budget 2025andexpert advice, onETMarkets. Also, ETMarkets.com is now on Telegram. For fastest news alerts on financial markets, investment strategies and stocks alerts,subscribe to our Telegram feeds.)Subscribe toET Primeand read theEconomic Times ePaperOnline.andSensex Today.Top Trending Stocks:SBI Share Price,Axis Bank Share Price,HDFC Bank Share Price,Infosys Share Price,Wipro Share Price,NTPC Share Price...morelessPrime ExclusivesInvestment IdeasStock Report PlusePaperWealth EditionLeadership shakeups cloud Ola Electric’s revival attemptsCan Indian IT’s ‘pyramid’ survive the GenAI shake-up?How Safexpress bootstrapped its way to build India’s largest PTL Express businessAs deposit ground slips under PSU banks' feet, they chase the wealthyZee promoters have a new challenge to navigate. And it’s not about funding or Sebi probe.These large- and mid-cap stocks can give more than 27% return in 1 year, according to analysts123View all Stories\")]"
            ]
          },
          "metadata": {},
          "execution_count": 206
        }
      ]
    },
    {
      "cell_type": "code",
      "source": [
        "stock_news:list[Stock] = []\n",
        "def abstract_stock_new(news):\n",
        "  prompt_stock = PromptTemplate.from_template(\"Following is the news:{news}. provide the company name and abstract news \").format(news=news.content)\n",
        "  return llm_stock_news.invoke(prompt_stock)\n",
        "\n",
        "for news in economic_times:\n",
        "  stock_news.append(abstract_stock_new(news))\n"
      ],
      "metadata": {
        "id": "h-s_cSn5_9eM"
      },
      "execution_count": 207,
      "outputs": []
    },
    {
      "cell_type": "code",
      "source": [
        "#Create State\n",
        "class State(BaseModel):\n",
        "    company_name: str = Field(description=\"Name of the company\")\n",
        "    news_abstract: str = Field(description=\"Abstract of the news article related to the company\")\n",
        "    queries:List[str] = []\n",
        "    completed_queries: Annotated[List[str], operator.add] = []\n",
        "    final_result: str = ''\n",
        "\n",
        "class Query(BaseModel):\n",
        "   query:str = ''\n",
        "\n",
        "class Queries(BaseModel):\n",
        "  queries:List[str] = []"
      ],
      "metadata": {
        "id": "hq4zmR3DB3ZN"
      },
      "execution_count": 208,
      "outputs": []
    },
    {
      "cell_type": "code",
      "source": [
        "#Worker State\n",
        "class WorkerState(BaseModel):\n",
        "    company_name: str = Field(description=\"Name of the company\")\n",
        "    completed_queries: Annotated[List[str], operator.add] = []"
      ],
      "metadata": {
        "id": "LYQiPU5zB3XB"
      },
      "execution_count": 209,
      "outputs": []
    },
    {
      "cell_type": "code",
      "source": [
        "llm_queries = llm_reasoning.with_structured_output(Queries)\n",
        "def orchestrator(state:State):\n",
        "  promot_template = PromptTemplate.from_template(\"Your are Stock Market expert. Based on the following news list out the impacts in short / long:{news}\").format(news=state.news)\n",
        "  res = llm_queries.invoke(promot_template)\n",
        "  return {'queries':res.queries}\n"
      ],
      "metadata": {
        "id": "KtJrxTWGD1Zy"
      },
      "execution_count": 210,
      "outputs": []
    },
    {
      "cell_type": "code",
      "source": [
        "promot_template = PromptTemplate.from_template(\"You are a stock market expert. Based on the following news, come up with the queries based on the news:{news}\").format(news=stock_news[2].news_abstract)\n",
        "res = llm_queries.invoke(promot_template)"
      ],
      "metadata": {
        "id": "K_uyuqiAGMNM"
      },
      "execution_count": 211,
      "outputs": []
    },
    {
      "cell_type": "code",
      "source": [
        "for query in res.queries:\n",
        "  print(query)"
      ],
      "metadata": {
        "id": "F7L1s16tNugh",
        "outputId": "10674392-7d7f-423d-f567-f876e2eaf038",
        "colab": {
          "base_uri": "https://localhost:8080/"
        }
      },
      "execution_count": 212,
      "outputs": [
        {
          "output_type": "stream",
          "name": "stdout",
          "text": [
            "What factors contributed to the 33% surge in Central Bank of India's net profit in Q1 FY26?\n",
            "How does this net profit compare to the previous quarter or the same quarter in the previous fiscal year?\n",
            "What specific improvements in core income led to this growth?\n",
            "What strategies has Central Bank of India implemented to reduce bad debts?\n",
            "How does this performance impact the bank's future growth prospects?\n",
            "What steps is Central Bank of India taking to sustain this level of profitability?\n",
            "How does Central Bank of India's performance compare to its peers in the banking sector?\n"
          ]
        }
      ]
    },
    {
      "cell_type": "code",
      "source": [
        "for queries in res.queries[:1]:\n",
        "  # Perform a search query\n",
        "  search_results = search_tool._run(\n",
        "      query=queries,\n",
        "      num_results=2,\n",
        "      text_contents_options=True,\n",
        "      highlights=True,\n",
        "  )\n",
        "  print(search_results)"
      ],
      "metadata": {
        "id": "B3FEJS5KOSmr",
        "outputId": "53f78568-f773-441a-f9a5-a8c10a3932e4",
        "colab": {
          "base_uri": "https://localhost:8080/"
        }
      },
      "execution_count": 214,
      "outputs": [
        {
          "output_type": "stream",
          "name": "stdout",
          "text": [
            "Title: Central Bank of India Q1 Results: Net profit ... - The Economic Times\n",
            "URL: https://m.economictimes.com/markets/stocks/earnings/central-bank-of-india-q1-results-net-profit-surges-33-to-rs-1169-crore/articleshow/122781433.cms\n",
            "ID: https://m.economictimes.com/markets/stocks/earnings/central-bank-of-india-q1-results-net-profit-surges-33-to-rs-1169-crore/articleshow/122781433.cms\n",
            "Score: None\n",
            "Published Date: 2025-07-19T10:24:00.000Z\n",
            "Author: PTI\n",
            "Image: https://img.etimg.com/thumb/msid-122781463,width-1200,height-630,imgsize-49010,overlay-etmarkets/articleshow.jpg\n",
            "Favicon: https://economictimes.indiatimes.com/icons/etfavicon.ico\n",
            "Extras: None\n",
            "Subpages: None\n",
            "Text: ## Central Bank of India Q1 Results: Net profit surges 33% to Rs 1,169 crore\n",
            "\n",
            "Central Bank of India Q1 Results: Net profit surges 33% to Rs 1,169 crore\n",
            "\n",
            "PTILast Updated: Jul 19, 2025, 03:54:00 PM IST\n",
            "\n",
            "Central Bank of India announced a significant 33 percent rise in net profit, reaching Rs 1,169 crore for the first quarter. This growth is attributed to improved core income and reduced bad debts. The bank's total income increased to Rs 10,374 crore. Asset quality improved, with gross NPAs declining to 3.13 percent.\n",
            "\n",
            "AgenciesCentral Bank of India reported a 33% surge in net profit, reaching Rs 1,169 crore in the first quarter of FY26.\n",
            "\n",
            "New Delhi, State-owned [Central Bank of India](https://economictimes.indiatimes.com/central-bank-of-india/stocks/companyid-11944.cms) on Saturday posted a 33 per cent growth in net profit at Rs 1,169 crore during the first quarter of this financial year, aided by improvement in core income and decline in bad debts.\n",
            "\n",
            "The Mumbai-based bank had earned a net profit of Rs 880 crore in the same quarter of the previous fiscal year.\n",
            "\n",
            "The total income rose to Rs 10,374 crore during the June quarter of 2025-26, from Rs 9,500 crore in the same quarter of FY25, Central Bank of India said in a regulatory filing.\n",
            "\n",
            "Interest earned by the bank improved to Rs 8,589 crore, as compared to Rs 8,335 crore in the June quarter FY25.\n",
            "\n",
            "During the period under review, operating profit of the bank increased to Rs 2,304 crore, as compared to Rs 1,933 crore in the same quarter a year ago.\n",
            "\n",
            "### Live Events\n",
            "\n",
            "The bank's asset quality showed improvement as gross non-performing assets (NPAs) declined to 3.13 per cent of gross advances at the end of the June quarter, from 4.54 per cent a year ago. Gross advance increased by 9.97 per cent to Rs 2,75,595 crore from Rs 2,50,615 crore at the end of June 2024. Similarly, net NPAs, or bad loans, declined to 0.49 per cent, as against 0.73 per cent in the year-ago period.\n",
            "\n",
            "As a result, provisions and contingencies halved to Rs 521 crore during the first quarter as compared to Rs 1,191 crore in the same period a year ago.\n",
            "\n",
            "Provision Coverage Ratio (PCR) improved to 97.02 per cent, from 96.17 per cent, an improvement of 85 basis points.\n",
            "\n",
            "At the same time, Return on Assets (ROA) improved to 1.02 per cent for June 2025, from 0.82 per cent at June 2024, registering an improvement of 20 bps, it said.\n",
            "\n",
            "Capital adequacy ratio of the bank rose to 17.6 per cent, from 15.6 per cent in the same quarter of FY25.\n",
            "\n",
            "Total business grew by 10.84 per cent to Rs 7,04,485 crore from Rs 6,35,564 crore at the end of June 2024. PTI\n",
            "\n",
            "#### Read More News on\n",
            "\n",
            "(What's moving [Sensex](https://economictimes.indiatimes.com/indices/sensex_30_companies) and [Nifty](https://economictimes.indiatimes.com/indices/nifty_50_companies) Track [latest market news](https://economictimes.indiatimes.com/markets/stocks), [stock tips](https://economictimes.indiatimes.com/markets/stocks/recos), [Budget 2025](https://economictimes.indiatimes.com/budget), [Share Market on Budget 2025](https://economictimes.indiatimes.com/markets/stocks/live-blog/bse-sensex-today-live-updates-nifty-50-stock-market-on-union-budget-2025-nirmala-sitharaman-speech-01-february-2025/liveblog/117809746.cms) and [expert advice](https://economictimes.indiatimes.com/markets/expert-view), on [ETMarkets](https://economictimes.indiatimes.com/markets). Also, ETMarkets.com is now on Telegram. For fastest news alerts on financial markets, investment strategies and stocks alerts, [subscribe to our Telegram feeds](https://t.me/joinchat/J60pKE7SOStsj5sI8nDmHQ) .)\n",
            "\n",
            "Subscribe to [ET Prime](https://buy.indiatimes.com/ET/plans) and read the [Economic Times ePaper](https://epaper.indiatimes.com/timesepaper/publication-the-economic-times,city-delhi.cms) Online.and [Sensex Today](https://economictimes.indiatimes.com/markets/stocks/live-blog/bse-sensex-today-live-nifty-stock-market-updates-5-june-2024/liveblog/110717623.cms).\n",
            "\n",
            "Top Trending Stocks: [SBI Share Price](https://economictimes.indiatimes.com/state-bank-of-india/stocks/companyid-11984.cms), [Axis Bank Share Price](https://economictimes.indiatimes.com/axis-bank-ltd/stocks/companyid-9175.cms), [HDFC Bank Share Price](https://economictimes.indiatimes.com/hdfc-bank-ltd/stocks/companyid-9195.cms), [Infosys Share Price](https://economictimes.indiatimes.com/infosys-ltd/stocks/companyid-10960.cms), [Wipro Share Price](https://economictimes.indiatimes.com/wipro-ltd/stocks/companyid-12799.cms), [NTPC Share Price](https://economictimes.indiatimes.com/ntpc-ltd/stocks/companyid-12316.cms)\n",
            "\n",
            "...moreless\n",
            "\n",
            "_(You can now subscribe to our [ETMarkets WhatsApp channel](https://www.whatsapp.com/channel/0029VaAr2nxHbFV91x3BKx10))_\n",
            "\n",
            "#### Read More News on\n",
            "\n",
            "(What's moving [Sensex](https://economictimes.indiatimes.com/indices/sensex_30_companies) and [Nifty](https://economictimes.indiatimes.com/indices/nifty_50_companies) Track [latest market news](https://economictimes.indiatimes.com/markets/stocks), [stock tips](https://economictimes.indiatimes.com/markets/stocks/recos), [Budget 2025](https://economictimes.indiatimes.com/budget), [Share Market on Budget 2025](https://economictimes.indiatimes.com/markets/stocks/live-blog/bse-sensex-today-live-updates-nifty-50-stock-market-on-union-budget-2025-nirmala-sitharaman-speech-01-february-2025/liveblog/117809746.cms) and [expert advice](https://economictimes.indiatimes.com/markets/expert-view), on [ETMarkets](https://economictimes.indiatimes.com/markets). Also, ETMarkets.com is now on Telegram. For fastest news alerts on financial markets, investment strategies and stocks alerts, [subscribe to our Telegram feeds](https://t.me/joinchat/J60pKE7SOStsj5sI8nDmHQ) .)\n",
            "\n",
            "Subscribe to [ET Prime](https://buy.indiatimes.com/ET/plans) and read the [Economic Times ePaper](https://epaper.indiatimes.com/timesepaper/publication-the-economic-times,city-delhi.cms) Online.and [Sensex Today](https://economictimes.indiatimes.com/markets/stocks/live-blog/bse-sensex-today-live-nifty-stock-market-updates-5-june-2024/liveblog/110717623.cms).\n",
            "\n",
            "Top Trending Stocks: [SBI Share Price](https://economictimes.indiatimes.com/state-bank-of-india/stocks/companyid-11984.cms), [Axis Bank Share Price](https://economictimes.indiatimes.com/axis-bank-ltd/stocks/companyid-9175.cms), [HDFC Bank Share Price](https://economictimes.indiatimes.com/hdfc-bank-ltd/stocks/companyid-9195.cms), [Infosys Share Price](https://economictimes.indiatimes.com/infosys-ltd/stocks/companyid-10960.cms), [Wipro Share Price](https://economictimes.indiatimes.com/wipro-ltd/stocks/companyid-12799.cms), [NTPC Share Price](https://economictimes.indiatimes.com/ntpc-ltd/stocks/companyid-12316.cms)\n",
            "\n",
            "...moreless\n",
            "\n",
            "Stories you might be interested in\n",
            "Highlights: [\"Central Bank of India announced a significant 33 percent rise in net profit, reaching Rs 1,169 crore for the first quarter. This growth is attributed to improved core income and reduced bad debts. The bank's total income increased to Rs 10,374 crore. Asset quality improved, with gross NPAs declining to 3.13 percent. New Delhi, State-owned [Central Bank of India](https://economictimes.indiatimes.com/central-bank-of-india/stocks/companyid-11944.cms) on Saturday posted a 33 per cent growth in net profit at Rs 1,169 crore during the first quarter of this financial year, aided by improvement in core income and decline in bad debts.\"]\n",
            "Highlight Scores: [4.560728073120117]\n",
            "Summary: None\n",
            "\n",
            "\n",
            "Title: Central Bank of India Q1 net profit rises 33% to ₹1169 crore\n",
            "URL: https://www.thehindu.com/business/Industry/central-bank-of-india-q1-net-profit-rises-33-to-1169-crore/article69832450.ece\n",
            "ID: https://www.thehindu.com/business/Industry/central-bank-of-india-q1-net-profit-rises-33-to-1169-crore/article69832450.ece\n",
            "Score: None\n",
            "Published Date: 2025-07-19T16:51:08.000Z\n",
            "Author: PTI\n",
            "Image: https://www.thehindu.com/theme/images/og-image.png\n",
            "Favicon: https://www.thehindu.com/favicon.ico\n",
            "Extras: None\n",
            "Subpages: None\n",
            "Text: State-owned Central Bank of India on Saturday (July 19, 2025) posted a 33% growth in net profit at ₹1,169 crore during the first quarter of this financial year, aided by improvement in core income and decline in bad debts.\n",
            "\n",
            "The Mumbai-based bank had earned a net profit of ₹880 crore in the same quarter of the previous fiscal year.\n",
            "\n",
            "The total income rose to ₹10,374 crore during the June quarter of 2025-26, from ₹9,500 crore in the same quarter of FY25, Central Bank of India said in a regulatory filing.\n",
            "\n",
            "Interest earned by the bank improved to ₹8,589 crore, as compared to ₹8,335 crore in the June quarter of FY25.\n",
            "\n",
            "During the period under review, operating profit of the bank increased to ₹2,304 crore, as compared to ₹1,933 crore in the same quarter a year ago.\n",
            "\n",
            "The bank's asset quality showed improvement as gross non-performing assets (NPAs) declined to 3.13% of gross advances at the end of the June quarter, from 4.54% a year ago.\n",
            "\n",
            "Gross advances increased by 9.97% to ₹2,75,595 crore from ₹2,50,615 crore at the end of June 2024.\n",
            "\n",
            "Similarly, net NPAs, or bad loans, declined to 0.49%, as against 0.73% in the year-ago period.\n",
            "\n",
            "As a result, provisions and contingencies halved to ₹521 crore during the first quarter as compared to ₹1,191 crore in the same period a year ago.\n",
            "\n",
            "Provision Coverage Ratio (PCR) improved to 97.02% from 96.17%, an improvement of 85 basis points.\n",
            "\n",
            "At the same time, Return on Assets (ROA) improved to 1.02% for June 2025, from 0.82% in June 2024, registering an improvement of 20 bps, it said.\n",
            "\n",
            "Capital adequacy ratio of the bank rose to 17.6%, from 15.6% in the same quarter of FY25.\n",
            "\n",
            "Total business grew by 10.84% to ₹7,04,485 crore from ₹6,35,564 crore at the end of June 2024.\n",
            "\n",
            "Published \\- July 19, 2025 10:21 pm IST\n",
            "Highlights: ['State-owned Central Bank of India on Saturday (July 19, 2025) posted a 33% growth in net profit at ₹1,169 crore during the first quarter of this financial year, aided by improvement in core income and decline in bad debts. The Mumbai-based bank had earned a net profit of ₹880 crore in the same quarter of the previous fiscal year. The total income rose to ₹10,374 crore during the June quarter of 2025-26, from ₹9,500 crore in the same quarter of FY25, Central Bank of India said in a regulatory filing. Interest earned by the bank improved to ₹8,589 crore, as compared to ₹8,335 crore in the June quarter of FY25. During the period under review, operating profit of the bank increased to ₹2,304 crore, as compared to ₹1,933 crore in the same quarter a year ago.']\n",
            "Highlight Scores: [4.000565052032471]\n",
            "Summary: None\n",
            "\n",
            "\n",
            "Autoprompt String: What factors contributed to the 33% surge in Central Bank of India's net profit in Q1 FY26?\n",
            "Resolved Search Type: neural\n",
            "CostDollars: total=0.009\n",
            "  - search: {'neural': 0.005}\n",
            "  - contents: {'text': 0.002, 'highlights': 0.002}\n"
          ]
        }
      ]
    }
  ]
}