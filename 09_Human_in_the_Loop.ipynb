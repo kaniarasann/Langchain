{
  "nbformat": 4,
  "nbformat_minor": 0,
  "metadata": {
    "colab": {
      "provenance": [],
      "authorship_tag": "ABX9TyMAO+afh1mm136oMBJ4w0OI",
      "include_colab_link": true
    },
    "kernelspec": {
      "name": "python3",
      "display_name": "Python 3"
    },
    "language_info": {
      "name": "python"
    }
  },
  "cells": [
    {
      "cell_type": "markdown",
      "metadata": {
        "id": "view-in-github",
        "colab_type": "text"
      },
      "source": [
        "<a href=\"https://colab.research.google.com/github/kaniarasann/Langchain/blob/main/09_Human_in_the_Loop.ipynb\" target=\"_parent\"><img src=\"https://colab.research.google.com/assets/colab-badge.svg\" alt=\"Open In Colab\"/></a>"
      ]
    },
    {
      "cell_type": "code",
      "execution_count": 2,
      "metadata": {
        "id": "hYlbfSJAtY9_"
      },
      "outputs": [],
      "source": [
        "#!pip install langchain langgraph langchain_groq pydantic"
      ]
    },
    {
      "cell_type": "code",
      "source": [
        "from typing import Annotated, List,Literal\n",
        "from pydantic import BaseModel, Field\n",
        "import operator\n",
        "from langchain_groq import ChatGroq\n",
        "from langchain_core.prompts import PromptTemplate\n",
        "from langchain_core.messages import HumanMessage, AIMessage, SystemMessage, BaseMessage\n",
        "from langgraph.constants import Send\n",
        "from langgraph.graph import StateGraph, START, END, MessagesState\n",
        "from langchain_groq import ChatGroq\n",
        "from langgraph.prebuilt import ToolNode,tools_condition\n",
        "from IPython.display import display, Image\n",
        "from google.colab import userdata\n",
        "from langgraph.checkpoint.memory import MemorySaver\n",
        "import pprint\n",
        "\n",
        "groq_key = userdata.get('groq_key')"
      ],
      "metadata": {
        "id": "wZkJQQKiuBej",
        "colab": {
          "base_uri": "https://localhost:8080/"
        },
        "outputId": "be9932da-ac9a-43d8-eb74-00f449c99460"
      },
      "execution_count": 3,
      "outputs": [
        {
          "output_type": "stream",
          "name": "stderr",
          "text": [
            "/tmp/ipython-input-2995777885.py:7: LangGraphDeprecatedSinceV10: Importing Send from langgraph.constants is deprecated. Please use 'from langgraph.types import Send' instead. Deprecated in LangGraph V1.0 to be removed in V2.0.\n",
            "  from langgraph.constants import Send\n"
          ]
        }
      ]
    },
    {
      "cell_type": "code",
      "source": [
        "llm = ChatGroq(api_key=groq_key, model=\"moonshotai/kimi-k2-instruct\",)"
      ],
      "metadata": {
        "id": "zMWkKQxYu7mL"
      },
      "execution_count": 4,
      "outputs": []
    },
    {
      "cell_type": "code",
      "source": [
        "def sum_two_number(a: int, b: int) -> int:\n",
        "  \"\"\"Sum two numbers\n",
        "     args\n",
        "     a: int\n",
        "     b: int\n",
        "     return: int\n",
        "  \"\"\"\n",
        "  return a + b"
      ],
      "metadata": {
        "id": "TDxlX4Ayu-P-"
      },
      "execution_count": 5,
      "outputs": []
    },
    {
      "cell_type": "code",
      "source": [
        "def subract_two_number(a: int, b: int) -> int:\n",
        "  \"\"\"Subract two numbers\n",
        "     args\n",
        "     a: int\n",
        "     b: int\n",
        "     return: int\n",
        "  \"\"\"\n",
        "  return a - b"
      ],
      "metadata": {
        "id": "dijWKTNl9GPa"
      },
      "execution_count": 6,
      "outputs": []
    },
    {
      "cell_type": "code",
      "source": [
        "llm_tool_calling = llm.bind_tools([sum_two_number,subract_two_number])"
      ],
      "metadata": {
        "id": "fOUuJxma9Wis"
      },
      "execution_count": 7,
      "outputs": []
    },
    {
      "cell_type": "code",
      "source": [
        "def assistant(state:MessagesState):\n",
        "  template = SystemMessage(content=\"Your are a helpful assistant tasked with perfoming subraction and addition on the given inputs\")\n",
        "  res = llm_tool_calling.invoke([template]+state['messages'])\n",
        "  return {\"messages\":[res]}\n"
      ],
      "metadata": {
        "id": "9-OexHEZ_5h_"
      },
      "execution_count": 8,
      "outputs": []
    },
    {
      "cell_type": "code",
      "source": [
        "graph = StateGraph(MessagesState)"
      ],
      "metadata": {
        "id": "VChMlb1n_YgS"
      },
      "execution_count": 9,
      "outputs": []
    },
    {
      "cell_type": "code",
      "source": [
        "graph.add_node(\"llm\",assistant)\n",
        "graph.add_node(\"tools\",ToolNode([sum_two_number,subract_two_number]))\n",
        "\n",
        "graph.add_edge(START,\"llm\")\n",
        "graph.add_conditional_edges(\"llm\",tools_condition)\n",
        "graph.add_edge(\"tools\",\"llm\")\n",
        "graph.add_edge(\"llm\",END)"
      ],
      "metadata": {
        "colab": {
          "base_uri": "https://localhost:8080/"
        },
        "id": "4_ASWVXO_duV",
        "outputId": "8588c7ff-e66e-4220-a56a-f6e1bcc8610d"
      },
      "execution_count": 10,
      "outputs": [
        {
          "output_type": "execute_result",
          "data": {
            "text/plain": [
              "<langgraph.graph.state.StateGraph at 0x7971ec5fab10>"
            ]
          },
          "metadata": {},
          "execution_count": 10
        }
      ]
    },
    {
      "cell_type": "code",
      "source": [
        "checkpointer = MemorySaver()\n",
        "graph_builder = graph.compile(checkpointer=checkpointer,interrupt_before=[\"llm\"])"
      ],
      "metadata": {
        "id": "OlgWyS-BGaa0"
      },
      "execution_count": 11,
      "outputs": []
    },
    {
      "cell_type": "code",
      "source": [
        "display(Image(graph_builder.get_graph().draw_mermaid_png()))"
      ],
      "metadata": {
        "colab": {
          "base_uri": "https://localhost:8080/",
          "height": 308
        },
        "id": "-MkeFEa5GngB",
        "outputId": "c5e7557f-997f-4fc1-9b7b-57988655acd6"
      },
      "execution_count": 12,
      "outputs": [
        {
          "output_type": "display_data",
          "data": {
            "image/png": "[encoded data removed]",
            "text/plain": [
              "<IPython.core.display.Image object>"
            ]
          },
          "metadata": {}
        }
      ]
    },
    {
      "cell_type": "code",
      "source": [
        "config = {\"configurable\": {\"thread_id\": \"1\"}}"
      ],
      "metadata": {
        "id": "Jep_iE01HYL1"
      },
      "execution_count": 13,
      "outputs": []
    },
    {
      "cell_type": "code",
      "source": [
        "for event in graph_builder.stream({\"messages\":HumanMessage(content=\"Add 2 and 3\")},config,stream_mode=\"values\"):\n",
        "  pprint.pprint(event['messages'])"
      ],
      "metadata": {
        "colab": {
          "base_uri": "https://localhost:8080/"
        },
        "id": "ki8xNgSHHZhr",
        "outputId": "67dbb2f0-fcad-4725-a889-3e21002f705d"
      },
      "execution_count": 14,
      "outputs": [
        {
          "output_type": "stream",
          "name": "stdout",
          "text": [
            "[HumanMessage(content='Add 2 and 3', additional_kwargs={}, response_metadata={}, id='224629f9-c0a3-4285-9391-22208aeaaeae')]\n"
          ]
        }
      ]
    },
    {
      "cell_type": "code",
      "source": [
        "res_state = graph_builder.get_state(config)"
      ],
      "metadata": {
        "id": "nxkJYWO1Isu3"
      },
      "execution_count": 15,
      "outputs": []
    },
    {
      "cell_type": "code",
      "source": [
        "res_state.next"
      ],
      "metadata": {
        "colab": {
          "base_uri": "https://localhost:8080/"
        },
        "id": "JbYp-8zCKBQN",
        "outputId": "f4fd68ca-b127-4a4f-c4c2-c3c4b856d3d2"
      },
      "execution_count": 16,
      "outputs": [
        {
          "output_type": "execute_result",
          "data": {
            "text/plain": [
              "('llm',)"
            ]
          },
          "metadata": {},
          "execution_count": 16
        }
      ]
    },
    {
      "cell_type": "code",
      "source": [
        "graph_builder.get_state_history(config)"
      ],
      "metadata": {
        "colab": {
          "base_uri": "https://localhost:8080/"
        },
        "id": "LNCby_ilKMzp",
        "outputId": "ddb0ad1c-f0ef-4558-aa74-7787c52163b2"
      },
      "execution_count": 17,
      "outputs": [
        {
          "output_type": "execute_result",
          "data": {
            "text/plain": [
              "<generator object Pregel.get_state_history at 0x7971ec5add20>"
            ]
          },
          "metadata": {},
          "execution_count": 17
        }
      ]
    },
    {
      "cell_type": "code",
      "source": [
        "for ev in graph_builder.stream(None, config, stream_mode=\"values\"):\n",
        "    ev[\"messages\"][-1].pretty_print()\n"
      ],
      "metadata": {
        "colab": {
          "base_uri": "https://localhost:8080/"
        },
        "id": "BKuq-Y27KX8l",
        "outputId": "ffbe2a3b-5b01-48b8-bed8-46cbee60bb41"
      },
      "execution_count": 18,
      "outputs": [
        {
          "output_type": "stream",
          "name": "stdout",
          "text": [
            "================================\u001b[1m Human Message \u001b[0m=================================\n",
            "\n",
            "Add 2 and 3\n",
            "==================================\u001b[1m Ai Message \u001b[0m==================================\n",
            "\n",
            "I'll add 2 and 3 for you.\n",
            "Tool Calls:\n",
            "  sum_two_number (functions.sum_two_number:0)\n",
            " Call ID: functions.sum_two_number:0\n",
            "  Args:\n",
            "    a: 2\n",
            "    b: 3\n",
            "=================================\u001b[1m Tool Message \u001b[0m=================================\n",
            "Name: sum_two_number\n",
            "\n",
            "5\n"
          ]
        }
      ]
    },
    {
      "cell_type": "markdown",
      "source": [
        "edit human feedback"
      ],
      "metadata": {
        "id": "DIeiVTbIzh_V"
      }
    },
    {
      "cell_type": "code",
      "source": [
        "config = {\"configurable\": {\"thread_id\": \"hunan_in_loop_1\"}}"
      ],
      "metadata": {
        "id": "BYnYXoeBPT52"
      },
      "execution_count": 19,
      "outputs": []
    },
    {
      "cell_type": "code",
      "source": [
        "for event in graph_builder.stream({\"messages\":HumanMessage(content=\"Add 2 and 3\")},config,stream_mode=\"values\"):\n",
        "  pprint.pprint(event['messages'])"
      ],
      "metadata": {
        "colab": {
          "base_uri": "https://localhost:8080/"
        },
        "id": "UGp-EV3p1G23",
        "outputId": "cabd123b-ad48-4049-8f68-6f72fd41a1ca"
      },
      "execution_count": 20,
      "outputs": [
        {
          "output_type": "stream",
          "name": "stdout",
          "text": [
            "[HumanMessage(content='Add 2 and 3', additional_kwargs={}, response_metadata={}, id='5291120a-1f8a-4742-b1ee-b22438950297')]\n"
          ]
        }
      ]
    },
    {
      "cell_type": "code",
      "source": [
        "graph_builder.update_state(config,{\"messages\":[HumanMessage(content=\"Subract 3 and 2\")]})"
      ],
      "metadata": {
        "colab": {
          "base_uri": "https://localhost:8080/"
        },
        "id": "y5chmoAW1M4O",
        "outputId": "fc8d4ca6-0689-489a-dd79-739bf4d0e030"
      },
      "execution_count": 21,
      "outputs": [
        {
          "output_type": "execute_result",
          "data": {
            "text/plain": [
              "{'configurable': {'thread_id': 'hunan_in_loop_1',\n",
              "  'checkpoint_ns': '',\n",
              "  'checkpoint_id': '1f0705f7-f763-68ca-8001-cce0055b74d1'}}"
            ]
          },
          "metadata": {},
          "execution_count": 21
        }
      ]
    },
    {
      "cell_type": "code",
      "source": [
        "graph_builder.get_state(config).values"
      ],
      "metadata": {
        "colab": {
          "base_uri": "https://localhost:8080/"
        },
        "id": "2P_dKn-r2Cjd",
        "outputId": "55ee009d-3ecf-4960-ff1f-4787446e43c2"
      },
      "execution_count": 22,
      "outputs": [
        {
          "output_type": "execute_result",
          "data": {
            "text/plain": [
              "{'messages': [HumanMessage(content='Add 2 and 3', additional_kwargs={}, response_metadata={}, id='5291120a-1f8a-4742-b1ee-b22438950297'),\n",
              "  HumanMessage(content='Subract 3 and 2', additional_kwargs={}, response_metadata={}, id='2376874f-7bd9-405e-9f43-2e94afa08708')]}"
            ]
          },
          "metadata": {},
          "execution_count": 22
        }
      ]
    },
    {
      "cell_type": "code",
      "source": [
        "for ev in graph_builder.stream(None, config, stream_mode=\"values\"):\n",
        "    ev[\"messages\"][-1].pretty_print()"
      ],
      "metadata": {
        "colab": {
          "base_uri": "https://localhost:8080/"
        },
        "id": "tuqcPqjM2MBd",
        "outputId": "c6381703-c870-4b57-9724-8ed5895bcdb2"
      },
      "execution_count": 23,
      "outputs": [
        {
          "output_type": "stream",
          "name": "stdout",
          "text": [
            "================================\u001b[1m Human Message \u001b[0m=================================\n",
            "\n",
            "Subract 3 and 2\n",
            "==================================\u001b[1m Ai Message \u001b[0m==================================\n",
            "Tool Calls:\n",
            "  subract_two_number (functions.subract_two_number:0)\n",
            " Call ID: functions.subract_two_number:0\n",
            "  Args:\n",
            "    a: 3\n",
            "    b: 2\n",
            "=================================\u001b[1m Tool Message \u001b[0m=================================\n",
            "Name: subract_two_number\n",
            "\n",
            "1\n"
          ]
        }
      ]
    },
    {
      "cell_type": "markdown",
      "source": [
        "With User input"
      ],
      "metadata": {
        "id": "GqyQi9FFwHE4"
      }
    },
    {
      "cell_type": "code",
      "source": [
        "config = {\"configurable\": {\"thread_id\": \"human_in_loop_with_user_input\"}}"
      ],
      "metadata": {
        "id": "zrjWIce5wk8W"
      },
      "execution_count": 26,
      "outputs": []
    },
    {
      "cell_type": "code",
      "source": [],
      "metadata": {
        "id": "mmbz0ilT0VuZ"
      },
      "execution_count": null,
      "outputs": []
    },
    {
      "cell_type": "code",
      "source": [
        "graph_builder.invoke({\"messages\":[HumanMessage(content=\"Add 2 and 3\")]},config)\n",
        "user_input= input(\"Tell me what to do\")\n",
        "graph_builder.update_state(config,{\"messages\":[HumanMessage(content=user_input)]})\n",
        "res = graph_builder.invoke(config=config,input=None)"
      ],
      "metadata": {
        "colab": {
          "base_uri": "https://localhost:8080/"
        },
        "id": "h3qiTHFowrew",
        "outputId": "21d63b59-aa88-479a-f642-6f8edd67d9e4"
      },
      "execution_count": 39,
      "outputs": [
        {
          "name": "stdout",
          "output_type": "stream",
          "text": [
            "Tell me what to doadd 2 and 3\n"
          ]
        }
      ]
    },
    {
      "cell_type": "code",
      "source": [
        "res"
      ],
      "metadata": {
        "colab": {
          "base_uri": "https://localhost:8080/"
        },
        "id": "BVEWLuQPxsbx",
        "outputId": "dba7760f-fb87-443d-d8a7-069db886a6c5"
      },
      "execution_count": 37,
      "outputs": [
        {
          "output_type": "execute_result",
          "data": {
            "text/plain": [
              "{'messages': [HumanMessage(content='Add 2 and 3', additional_kwargs={}, response_metadata={}, id='5ab7aba0-2aac-4e47-a125-308eb48cf0a4'),\n",
              "  HumanMessage(content='add 500 and 1000', additional_kwargs={}, response_metadata={}, id='e353df8a-a4c2-45b0-a14e-a1f6e28d3061'),\n",
              "  HumanMessage(content='Add 2 and 3', additional_kwargs={}, response_metadata={}, id='b028d69f-377d-4cf6-a30d-e53cd6d27061'),\n",
              "  HumanMessage(content='add 500 and 1000', additional_kwargs={}, response_metadata={}, id='e67fe99c-1c49-47d0-8650-1687bbf7a32e'),\n",
              "  HumanMessage(content='Add 2 and 3', additional_kwargs={}, response_metadata={}, id='a7ac2c7f-fcd6-4935-beb1-1292ecf346ca'),\n",
              "  HumanMessage(content='Add 500 and 1000', additional_kwargs={}, response_metadata={}, id='07eb117d-b4ee-42ee-ade4-a9c5920dd919'),\n",
              "  AIMessage(content='I will add 500 and 1000 for you.', additional_kwargs={'tool_calls': [{'id': 'functions.sum_two_number:0', 'function': {'arguments': '{\"a\":500,\"b\":1000}', 'name': 'sum_two_number'}, 'type': 'function'}]}, response_metadata={'token_usage': {'completion_tokens': 37, 'prompt_tokens': 232, 'total_tokens': 269, 'completion_time': 0.088876762, 'prompt_time': 0.020989157, 'queue_time': 0.17737297999999999, 'total_time': 0.109865919}, 'model_name': 'moonshotai/kimi-k2-instruct', 'system_fingerprint': 'fp_6e6ff3688b', 'service_tier': 'on_demand', 'finish_reason': 'tool_calls', 'logprobs': None}, id='run--9b586737-5760-4f1d-b43d-a7e9f09f17ef-0', tool_calls=[{'name': 'sum_two_number', 'args': {'a': 500, 'b': 1000}, 'id': 'functions.sum_two_number:0', 'type': 'tool_call'}], usage_metadata={'input_tokens': 232, 'output_tokens': 37, 'total_tokens': 269}),\n",
              "  ToolMessage(content='1500', name='sum_two_number', id='1f0de760-4efd-4467-ae22-ffaf40c00183', tool_call_id='functions.sum_two_number:0'),\n",
              "  HumanMessage(content='Add 2 and 3', additional_kwargs={}, response_metadata={}, id='52c4c273-0dd3-40db-840d-9b618cd61e75'),\n",
              "  HumanMessage(content='Add 2 and 3', additional_kwargs={}, response_metadata={}, id='c1eac80b-6a03-42ec-aef8-25d77aea3c3d'),\n",
              "  HumanMessage(content='Add 2 and 3', additional_kwargs={}, response_metadata={}, id='c1af56f8-1e66-4093-8662-7e7c66b0f707'),\n",
              "  HumanMessage(content='add 788+2', additional_kwargs={}, response_metadata={}, id='f0685b60-2973-4f0c-a9f7-534b4958f104'),\n",
              "  AIMessage(content='', additional_kwargs={'tool_calls': [{'id': 'functions.sum_two_number:1', 'function': {'arguments': '{\"a\":788,\"b\":2}', 'name': 'sum_two_number'}, 'type': 'function'}]}, response_metadata={'token_usage': {'completion_tokens': 24, 'prompt_tokens': 341, 'total_tokens': 365, 'completion_time': 0.035046093, 'prompt_time': 0.289387745, 'queue_time': 0.059272532000000044, 'total_time': 0.324433838}, 'model_name': 'moonshotai/kimi-k2-instruct', 'system_fingerprint': 'fp_b8565bb333', 'service_tier': 'on_demand', 'finish_reason': 'tool_calls', 'logprobs': None}, id='run--59a0b344-ede4-4b6e-8216-1446def149f5-0', tool_calls=[{'name': 'sum_two_number', 'args': {'a': 788, 'b': 2}, 'id': 'functions.sum_two_number:1', 'type': 'tool_call'}], usage_metadata={'input_tokens': 341, 'output_tokens': 24, 'total_tokens': 365}),\n",
              "  ToolMessage(content='790', name='sum_two_number', id='38f695ce-1658-46f0-a23f-60b9db3a334d', tool_call_id='functions.sum_two_number:1'),\n",
              "  HumanMessage(content='Add 2 and 3', additional_kwargs={}, response_metadata={}, id='d0bb51a8-57ce-4fbc-8559-39f3f3a51f21'),\n",
              "  HumanMessage(content='add 788 and 2', additional_kwargs={}, response_metadata={}, id='1d0bbe20-6751-4ff3-be38-fc9e01db61c3'),\n",
              "  AIMessage(content='I just added 788 and 2 for you, and the result is **790**.', additional_kwargs={}, response_metadata={'token_usage': {'completion_tokens': 19, 'prompt_tokens': 409, 'total_tokens': 428, 'completion_time': 0.046767185, 'prompt_time': 0.030938625, 'queue_time': 0.058622829, 'total_time': 0.07770581}, 'model_name': 'moonshotai/kimi-k2-instruct', 'system_fingerprint': 'fp_b8565bb333', 'service_tier': 'on_demand', 'finish_reason': 'stop', 'logprobs': None}, id='run--c5c4017e-f8e8-4f4a-8d0f-fc8294e92a4a-0', usage_metadata={'input_tokens': 409, 'output_tokens': 19, 'total_tokens': 428})]}"
            ]
          },
          "metadata": {},
          "execution_count": 37
        }
      ]
    },
    {
      "cell_type": "code",
      "source": [],
      "metadata": {
        "id": "ML22DEpDygUv"
      },
      "execution_count": null,
      "outputs": []
    }
  ]
}