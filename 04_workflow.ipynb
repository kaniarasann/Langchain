{
  "nbformat": 4,
  "nbformat_minor": 0,
  "metadata": {
    "colab": {
      "provenance": [],
      "authorship_tag": "ABX9TyOGCXJCutce+Jek6TUlFS0Z",
      "include_colab_link": true
    },
    "kernelspec": {
      "name": "python3",
      "display_name": "Python 3"
    },
    "language_info": {
      "name": "python"
    }
  },
  "cells": [
    {
      "cell_type": "markdown",
      "metadata": {
        "id": "view-in-github",
        "colab_type": "text"
      },
      "source": [
        "<a href=\"https://colab.research.google.com/github/kaniarasann/Langchain/blob/main/04_workflow.ipynb\" target=\"_parent\"><img src=\"https://colab.research.google.com/assets/colab-badge.svg\" alt=\"Open In Colab\"/></a>"
      ]
    },
    {
      "cell_type": "markdown",
      "source": [
        "Prompt Chaining\n",
        "\n",
        "\n",
        "---\n",
        "\n",
        "\n",
        "Multiple prompts are sequenced togethor to guide a model through complex task or reasoning"
      ],
      "metadata": {
        "id": "knk0mn6z5rE4"
      }
    },
    {
      "cell_type": "code",
      "execution_count": 119,
      "metadata": {
        "id": "L4uhfQ5o5aPR",
        "outputId": "5bf674db-8b4a-4512-a324-efbcffb47624",
        "colab": {
          "base_uri": "https://localhost:8080/"
        }
      },
      "outputs": [
        {
          "output_type": "stream",
          "name": "stdout",
          "text": [
            "Requirement already satisfied: langchain in /usr/local/lib/python3.11/dist-packages (0.3.26)\n",
            "Requirement already satisfied: langgraph in /usr/local/lib/python3.11/dist-packages (0.5.3)\n",
            "Requirement already satisfied: langchain_groq in /usr/local/lib/python3.11/dist-packages (0.3.6)\n",
            "Requirement already satisfied: pydantic in /usr/local/lib/python3.11/dist-packages (2.11.7)\n",
            "Requirement already satisfied: langchain-core<1.0.0,>=0.3.66 in /usr/local/lib/python3.11/dist-packages (from langchain) (0.3.68)\n",
            "Requirement already satisfied: langchain-text-splitters<1.0.0,>=0.3.8 in /usr/local/lib/python3.11/dist-packages (from langchain) (0.3.8)\n",
            "Requirement already satisfied: langsmith>=0.1.17 in /usr/local/lib/python3.11/dist-packages (from langchain) (0.4.5)\n",
            "Requirement already satisfied: SQLAlchemy<3,>=1.4 in /usr/local/lib/python3.11/dist-packages (from langchain) (2.0.41)\n",
            "Requirement already satisfied: requests<3,>=2 in /usr/local/lib/python3.11/dist-packages (from langchain) (2.32.3)\n",
            "Requirement already satisfied: PyYAML>=5.3 in /usr/local/lib/python3.11/dist-packages (from langchain) (6.0.2)\n",
            "Requirement already satisfied: langgraph-checkpoint<3.0.0,>=2.1.0 in /usr/local/lib/python3.11/dist-packages (from langgraph) (2.1.0)\n",
            "Requirement already satisfied: langgraph-prebuilt<0.6.0,>=0.5.0 in /usr/local/lib/python3.11/dist-packages (from langgraph) (0.5.2)\n",
            "Requirement already satisfied: langgraph-sdk<0.2.0,>=0.1.42 in /usr/local/lib/python3.11/dist-packages (from langgraph) (0.1.73)\n",
            "Requirement already satisfied: xxhash>=3.5.0 in /usr/local/lib/python3.11/dist-packages (from langgraph) (3.5.0)\n",
            "Requirement already satisfied: groq<1,>=0.29.0 in /usr/local/lib/python3.11/dist-packages (from langchain_groq) (0.30.0)\n",
            "Requirement already satisfied: annotated-types>=0.6.0 in /usr/local/lib/python3.11/dist-packages (from pydantic) (0.7.0)\n",
            "Requirement already satisfied: pydantic-core==2.33.2 in /usr/local/lib/python3.11/dist-packages (from pydantic) (2.33.2)\n",
            "Requirement already satisfied: typing-extensions>=4.12.2 in /usr/local/lib/python3.11/dist-packages (from pydantic) (4.14.1)\n",
            "Requirement already satisfied: typing-inspection>=0.4.0 in /usr/local/lib/python3.11/dist-packages (from pydantic) (0.4.1)\n",
            "Requirement already satisfied: anyio<5,>=3.5.0 in /usr/local/lib/python3.11/dist-packages (from groq<1,>=0.29.0->langchain_groq) (4.9.0)\n",
            "Requirement already satisfied: distro<2,>=1.7.0 in /usr/local/lib/python3.11/dist-packages (from groq<1,>=0.29.0->langchain_groq) (1.9.0)\n",
            "Requirement already satisfied: httpx<1,>=0.23.0 in /usr/local/lib/python3.11/dist-packages (from groq<1,>=0.29.0->langchain_groq) (0.28.1)\n",
            "Requirement already satisfied: sniffio in /usr/local/lib/python3.11/dist-packages (from groq<1,>=0.29.0->langchain_groq) (1.3.1)\n",
            "Requirement already satisfied: tenacity!=8.4.0,<10.0.0,>=8.1.0 in /usr/local/lib/python3.11/dist-packages (from langchain-core<1.0.0,>=0.3.66->langchain) (8.5.0)\n",
            "Requirement already satisfied: jsonpatch<2.0,>=1.33 in /usr/local/lib/python3.11/dist-packages (from langchain-core<1.0.0,>=0.3.66->langchain) (1.33)\n",
            "Requirement already satisfied: packaging<25,>=23.2 in /usr/local/lib/python3.11/dist-packages (from langchain-core<1.0.0,>=0.3.66->langchain) (24.2)\n",
            "Requirement already satisfied: ormsgpack>=1.10.0 in /usr/local/lib/python3.11/dist-packages (from langgraph-checkpoint<3.0.0,>=2.1.0->langgraph) (1.10.0)\n",
            "Requirement already satisfied: orjson>=3.10.1 in /usr/local/lib/python3.11/dist-packages (from langgraph-sdk<0.2.0,>=0.1.42->langgraph) (3.10.18)\n",
            "Requirement already satisfied: requests-toolbelt<2.0.0,>=1.0.0 in /usr/local/lib/python3.11/dist-packages (from langsmith>=0.1.17->langchain) (1.0.0)\n",
            "Requirement already satisfied: zstandard<0.24.0,>=0.23.0 in /usr/local/lib/python3.11/dist-packages (from langsmith>=0.1.17->langchain) (0.23.0)\n",
            "Requirement already satisfied: charset-normalizer<4,>=2 in /usr/local/lib/python3.11/dist-packages (from requests<3,>=2->langchain) (3.4.2)\n",
            "Requirement already satisfied: idna<4,>=2.5 in /usr/local/lib/python3.11/dist-packages (from requests<3,>=2->langchain) (3.10)\n",
            "Requirement already satisfied: urllib3<3,>=1.21.1 in /usr/local/lib/python3.11/dist-packages (from requests<3,>=2->langchain) (2.4.0)\n",
            "Requirement already satisfied: certifi>=2017.4.17 in /usr/local/lib/python3.11/dist-packages (from requests<3,>=2->langchain) (2025.7.14)\n",
            "Requirement already satisfied: greenlet>=1 in /usr/local/lib/python3.11/dist-packages (from SQLAlchemy<3,>=1.4->langchain) (3.2.3)\n",
            "Requirement already satisfied: httpcore==1.* in /usr/local/lib/python3.11/dist-packages (from httpx<1,>=0.23.0->groq<1,>=0.29.0->langchain_groq) (1.0.9)\n",
            "Requirement already satisfied: h11>=0.16 in /usr/local/lib/python3.11/dist-packages (from httpcore==1.*->httpx<1,>=0.23.0->groq<1,>=0.29.0->langchain_groq) (0.16.0)\n",
            "Requirement already satisfied: jsonpointer>=1.9 in /usr/local/lib/python3.11/dist-packages (from jsonpatch<2.0,>=1.33->langchain-core<1.0.0,>=0.3.66->langchain) (3.0.0)\n"
          ]
        }
      ],
      "source": [
        "!pip install langchain langgraph langchain_groq pydantic"
      ]
    },
    {
      "cell_type": "code",
      "source": [
        "from langchain_groq import ChatGroq\n",
        "from google.colab import userdata\n",
        "groq_key = userdata.get('groq_key')\n",
        "\n",
        "llm = ChatGroq(api_key=groq_key, model=\"meta-llama/llama-4-scout-17b-16e-instruct\",)"
      ],
      "metadata": {
        "id": "4Is6kRzZ6DH_"
      },
      "execution_count": 120,
      "outputs": []
    },
    {
      "cell_type": "code",
      "source": [
        "llm.invoke(\"Hello\")"
      ],
      "metadata": {
        "id": "NIDNQw8q6OnQ",
        "outputId": "21248ff1-409f-4edc-df48-12e032580a36",
        "colab": {
          "base_uri": "https://localhost:8080/"
        }
      },
      "execution_count": 121,
      "outputs": [
        {
          "output_type": "execute_result",
          "data": {
            "text/plain": [
              "AIMessage(content=\"Hello! It's nice to meet you. Is there something I can help you with, or would you like to chat?\", additional_kwargs={}, response_metadata={'token_usage': {'completion_tokens': 25, 'prompt_tokens': 11, 'total_tokens': 36, 'completion_time': 0.057161739, 'prompt_time': 0.002457306, 'queue_time': 0.19518105900000002, 'total_time': 0.059619045}, 'model_name': 'meta-llama/llama-4-scout-17b-16e-instruct', 'system_fingerprint': 'fp_79da0e0073', 'service_tier': 'on_demand', 'finish_reason': 'stop', 'logprobs': None}, id='run--f52f6061-33f6-4b0a-bf70-f4817c1afef1-0', usage_metadata={'input_tokens': 11, 'output_tokens': 25, 'total_tokens': 36})"
            ]
          },
          "metadata": {},
          "execution_count": 121
        }
      ]
    },
    {
      "cell_type": "code",
      "source": [
        "from typing_extensions import Annotated\n",
        "from langgraph.graph import StateGraph,START,END\n",
        "from IPython.display import display, Image\n",
        "from pydantic import BaseModel"
      ],
      "metadata": {
        "id": "7TIFNlAZ6UiV"
      },
      "execution_count": 122,
      "outputs": []
    },
    {
      "cell_type": "code",
      "source": [
        "from typing import Optional\n",
        "class State(BaseModel):\n",
        "  topic:str\n",
        "  story:Optional[str] =''\n",
        "  improved_story:Optional[str] =''\n",
        "  final_story:Optional[str] = ''\n"
      ],
      "metadata": {
        "id": "RFDfNRer6eKW"
      },
      "execution_count": 123,
      "outputs": []
    },
    {
      "cell_type": "code",
      "source": [
        "def generate_story(state:State) -> State:\n",
        "  msg = llm.invoke(f\"write a one sentence story premise about {state.topic}\")\n",
        "  state.story = msg.content\n",
        "  return state"
      ],
      "metadata": {
        "id": "wIeYSbeG7CML"
      },
      "execution_count": 124,
      "outputs": []
    },
    {
      "cell_type": "code",
      "source": [
        "def check_conflit(state:State) -> str:\n",
        "    if \"?\" in state.story or \"!\" in state.story :\n",
        "      return \"Fail\"\n",
        "    return \"Pass\""
      ],
      "metadata": {
        "id": "7rUwhih87x2y"
      },
      "execution_count": 125,
      "outputs": []
    },
    {
      "cell_type": "code",
      "source": [
        "def improved_story(state:State) -> State:\n",
        "  msg = llm.invoke(f\"Enhance this store with Vivid details : {state.story}\")\n",
        "  state.improved_story = msg.content\n",
        "  return state\n"
      ],
      "metadata": {
        "id": "8z9BYhz58R58"
      },
      "execution_count": 126,
      "outputs": []
    },
    {
      "cell_type": "code",
      "source": [
        "def polished_Story(state:State) -> State:\n",
        "  msg = llm.invoke(f\"Add an unexpected twist to this story premise: {state.improved_story}\")\n",
        "  state.final_story = msg.content\n",
        "  return state"
      ],
      "metadata": {
        "id": "oAZCCSHY8o5i"
      },
      "execution_count": 127,
      "outputs": []
    },
    {
      "cell_type": "code",
      "source": [
        "graph = StateGraph(State)"
      ],
      "metadata": {
        "id": "H1f5Ofgm83Re"
      },
      "execution_count": 128,
      "outputs": []
    },
    {
      "cell_type": "code",
      "source": [
        "graph.add_node(\"generate\",generate_story)\n",
        "graph.add_node(\"improve\",improved_story)\n",
        "graph.add_node(\"polish\",polished_Story)"
      ],
      "metadata": {
        "id": "FPKH7mk-8-DX",
        "outputId": "24c544d3-dd2a-4615-e610-10fe39161bd7",
        "colab": {
          "base_uri": "https://localhost:8080/"
        }
      },
      "execution_count": 129,
      "outputs": [
        {
          "output_type": "execute_result",
          "data": {
            "text/plain": [
              "<langgraph.graph.state.StateGraph at 0x791cb4838a90>"
            ]
          },
          "metadata": {},
          "execution_count": 129
        }
      ]
    },
    {
      "cell_type": "code",
      "source": [
        "graph.add_edge(START,\"generate\")\n",
        "graph.add_conditional_edges(\"generate\",check_conflit,{\"Pass\":\"improve\",\"Fail\":\"generate\"})\n",
        "graph.add_edge(\"generate\",\"improve\")\n",
        "graph.add_edge(\"improve\",\"polish\")\n",
        "graph.add_edge(\"polish\",END)"
      ],
      "metadata": {
        "id": "X3vwWTrf9NeL",
        "outputId": "4ed6c167-3bbf-4e39-b9b4-2d21e959f8a2",
        "colab": {
          "base_uri": "https://localhost:8080/"
        }
      },
      "execution_count": 130,
      "outputs": [
        {
          "output_type": "execute_result",
          "data": {
            "text/plain": [
              "<langgraph.graph.state.StateGraph at 0x791cb4838a90>"
            ]
          },
          "metadata": {},
          "execution_count": 130
        }
      ]
    },
    {
      "cell_type": "code",
      "source": [
        "graph_builder = graph.compile()"
      ],
      "metadata": {
        "id": "EBEn9X8T9pBu"
      },
      "execution_count": 131,
      "outputs": []
    },
    {
      "cell_type": "code",
      "source": [
        "display(Image(graph_builder.get_graph().draw_mermaid_png()))"
      ],
      "metadata": {
        "id": "_-vGJz3692nq",
        "outputId": "49304a45-618a-4399-f3cb-cb4e6f0a0fe7",
        "colab": {
          "base_uri": "https://localhost:8080/",
          "height": 473
        }
      },
      "execution_count": 132,
      "outputs": [
        {
          "output_type": "display_data",
          "data": {
            "image/png": "[encoded data removed]",
            "text/plain": [
              "<IPython.core.display.Image object>"
            ]
          },
          "metadata": {}
        }
      ]
    },
    {
      "cell_type": "code",
      "source": [
        "state = State(topic=\"The Great Gatsby\")\n",
        "res=graph_builder.invoke(state)"
      ],
      "metadata": {
        "id": "ChAfubpz-CNE"
      },
      "execution_count": 133,
      "outputs": []
    },
    {
      "cell_type": "code",
      "source": [
        "res['final_story']"
      ],
      "metadata": {
        "id": "LrpaXhPM-eR1",
        "outputId": "28136413-6fc5-4267-ef51-b2427aed298d",
        "colab": {
          "base_uri": "https://localhost:8080/",
          "height": 126
        }
      },
      "execution_count": 134,
      "outputs": [
        {
          "output_type": "execute_result",
          "data": {
            "text/plain": [
              "'**Step into the Roaring Twenties: A World of Enchantment and Tragedy... and Interdimensional Portals**\\n\\nImagine yourself transported to the vibrant streets of Long Island\\'s West Egg, where the jazz era comes alive with the sound of speakeasies and flappers dancing the Charleston. It\\'s here that Nick Carraway, a young and ambitious bond salesman from the Midwest, finds himself enthralled by the mystique of his neighbor, Jay Gatsby. But little does Nick know, Gatsby\\'s mansion is not just a grand estate – it\\'s a nexus point for interdimensional travel.\\n\\nAs Nick gazes out at the glittering lights of Gatsby\\'s mansion, he begins to notice strange, unexplained occurrences. The jazz music seems to be coming from multiple directions at once, and the champagne glasses clinking in the background seem to be refilling themselves. The air is alive with the sweet scent of blooming flowers, but also a faint hint of ozone and burning fuel. The soft glow of candelabras and string lights illuminating Gatsby\\'s mansion seems to be pulsing with an otherworldly energy.\\n\\n**The Enigmatic Gatsby: A Man Shrouded in Mystery and Multiverse Travel**\\n\\nAs Nick becomes more acquainted with Gatsby, he learns that the enigmatic millionaire is not just a wealthy businessman – he\\'s a multiverse traveler. Gatsby has been using his parties as a cover for his interdimensional excursions, seeking out parallel universes where he can relive his lost love with Daisy. The vibrant colors of flapper dresses and suits, juxtaposed with the dull, monotonous tones of the Valley of Ashes, seem to be shifting and rippling like the surface of a pond.\\n\\nBut Gatsby\\'s actions have not gone unnoticed. A rival multiverse traveler, known only as \"The Timekeeper,\" has been tracking Gatsby\\'s movements, seeking to prevent him from altering the course of history. The Timekeeper appears to be a mysterious figure with an army of agents from various timelines, all working to prevent Gatsby from winning Daisy back.\\n\\n**The Tragic Tale of Gatsby and Daisy: A Love Forever Lost Across the Multiverse**\\n\\nAs Nick becomes more entangled in Gatsby\\'s world, he learns that Daisy is not just a beautiful socialite – she\\'s a nexus point for multiple parallel universes. Gatsby\\'s love for Daisy has created a rift in the fabric of reality, causing alternate versions of themselves to appear across the multiverse. The clinking of ice in whiskey glasses and the murmur of hushed conversations at the speakeasy seem to be echoing from different dimensions.\\n\\nBut what if Daisy is not just a passive love interest? What if she\\'s a powerful multiverse traveler in her own right, seeking to prevent Gatsby from altering the course of history? As Gatsby and Daisy\\'s love rekindles, the boundaries between their different parallel universes begin to blur, threatening to collapse the entire multiverse.\\n\\n**The Corrupt and Glamorous World of the Buchanans: A Multiverse Crime Syndicate**\\n\\nBut the Buchanans are not just wealthy and corrupt – they\\'re also multiverse smugglers. Tom Buchanan has been using his wealth and influence to traffic goods and people across the multiverse, while Myrtle Wilson is a skilled agent working to take down the Buchanan\\'s operation. The corrupt and glamorous world of the Buchanans seems to be just a facade for their true activities.\\n\\n**Experience the Timeless Classic... with a Twist**\\n\\nJoin Nick Carraway on his journey into the heart of the American Dream, where the allure of wealth and status is contrasted with the devastating consequences of chasing an unattainable goal across the multiverse. Witness the tragic tale of Gatsby\\'s doomed pursuit of Daisy, a love that ultimately proves to be the undoing of them all – and the fabric of reality itself.\\n\\n**Vivid Details:**\\n\\n* The sound of jazz music and champagne glasses clinking in the background, echoing from different dimensions\\n* The scent of expensive perfume and fresh-cut grass wafting through the air, mixed with the faint hint of ozone and burning fuel\\n* The soft glow of candelabras and string lights illuminating Gatsby\\'s mansion, pulsing with an otherworldly energy\\n* The vibrant colors of flapper dresses and suits, juxtaposed with the dull, monotonous tones of the Valley of Ashes, shifting and rippling like the surface of a pond\\n* The clinking of ice in whiskey glasses and the murmur of hushed conversations at the speakeasy, echoing from different dimensions\\n\\n**Step into the world of The Great Gatsby and experience the roaring twenties like never before – with a multiverse twist.**'"
            ],
            "application/vnd.google.colaboratory.intrinsic+json": {
              "type": "string"
            }
          },
          "metadata": {},
          "execution_count": 134
        }
      ]
    },
    {
      "cell_type": "markdown",
      "source": [
        "Parallezation\n",
        "\n",
        "\n",
        "\n",
        "---\n",
        "\n",
        "We can execute the code parallelly"
      ],
      "metadata": {
        "id": "BO1WEBqbA43h"
      }
    },
    {
      "cell_type": "code",
      "source": [
        "from langchain_core.prompts import PromptTemplate\n",
        "from langchain_core.runnables import RunnableLambda\n",
        "character_prompt = PromptTemplate.from_template(\"create three character with supier hero abilities reurn only their names\")\n",
        "premise_prompt = PromptTemplate.from_template(\"write a one sentence about the premise where the story take place\")\n",
        "villan_prompt = PromptTemplate.from_template(\"write a one sentence about the villan with some supier powers\")\n",
        "story_prompt = PromptTemplate.from_template(\"write a story where the following are the lead charcther with their power:{character} and the story happens at premise :{premise} and villan of the story is :{villan} \")"
      ],
      "metadata": {
        "id": "KYoUUhq7_BxE"
      },
      "execution_count": 135,
      "outputs": []
    },
    {
      "cell_type": "code",
      "source": [
        "class ParallelState(BaseModel):\n",
        "  character:Optional[str] =''\n",
        "  premise:Optional[str]=''\n",
        "  villan:Optional[str]=''\n",
        "  story:Optional[str]=''"
      ],
      "metadata": {
        "id": "nPh-FOV0B405"
      },
      "execution_count": 136,
      "outputs": []
    },
    {
      "cell_type": "code",
      "source": [
        "def get_character(state:ParallelState) -> State:\n",
        "  msg = character_prompt | llm\n",
        "  return {\"character\": msg.invoke({}).content}\n",
        "\n",
        "def get_premise(state:ParallelState) -> State:\n",
        "    msg = premise_prompt | llm\n",
        "    return {\"premise\": msg.invoke({}).content}\n",
        "\n",
        "def get_villan(state:ParallelState) -> State:\n",
        "    msg = villan_prompt | llm\n",
        "    return {\"villan\": msg.invoke({}).content}"
      ],
      "metadata": {
        "id": "7KPz54IlClZR"
      },
      "execution_count": 137,
      "outputs": []
    },
    {
      "cell_type": "code",
      "source": [
        "def combibe_story(state:ParallelState) -> State:\n",
        "  msg = story_prompt | llm\n",
        "  res = msg.invoke({\"character\":state.character,\"premise\":state.premise,\"villan\":state.villan}).content\n",
        "  return {\"story\": res}"
      ],
      "metadata": {
        "id": "viFCae-UCu8V"
      },
      "execution_count": 138,
      "outputs": []
    },
    {
      "cell_type": "code",
      "source": [
        "parallel_graph = StateGraph(ParallelState)\n",
        "parallel_graph.add_node(\"get_character\",get_character)\n",
        "parallel_graph.add_node(\"get_premise\",get_premise)\n",
        "parallel_graph.add_node(\"get_villan\",get_villan)\n",
        "parallel_graph.add_node(\"combibe_story\",combibe_story)\n",
        "\n",
        "parallel_graph.add_edge(START,\"get_character\")\n",
        "parallel_graph.add_edge(START,\"get_premise\")\n",
        "parallel_graph.add_edge(START,\"get_villan\")\n",
        "parallel_graph.add_edge(\"get_character\",\"combibe_story\")\n",
        "parallel_graph.add_edge(\"get_premise\",\"combibe_story\")\n",
        "parallel_graph.add_edge(\"get_villan\",\"combibe_story\")\n",
        "\n",
        "parallel_graph.add_edge(\"combibe_story\",END)\n",
        "\n",
        "parallel_graph_builder = parallel_graph.compile()"
      ],
      "metadata": {
        "id": "cifdO2d3Cxih"
      },
      "execution_count": 139,
      "outputs": []
    },
    {
      "cell_type": "code",
      "source": [
        "display(Image(parallel_graph_builder.get_graph().draw_mermaid_png()))"
      ],
      "metadata": {
        "id": "iHbo6zewETlL",
        "outputId": "18d54152-f908-4887-bd64-417b466ac5d8",
        "colab": {
          "base_uri": "https://localhost:8080/",
          "height": 350
        }
      },
      "execution_count": 140,
      "outputs": [
        {
          "output_type": "display_data",
          "data": {
            "image/png": "[encoded data removed]",
            "text/plain": [
              "<IPython.core.display.Image object>"
            ]
          },
          "metadata": {}
        }
      ]
    },
    {
      "cell_type": "code",
      "source": [
        "parallel_state = ParallelState()\n",
        "parallel_res = parallel_graph_builder.invoke(parallel_state)\n"
      ],
      "metadata": {
        "id": "CfIoTyPfEeS9"
      },
      "execution_count": 141,
      "outputs": []
    },
    {
      "cell_type": "code",
      "source": [
        "res_list = list(filter(lambda x: x.strip() != '', parallel_res['story'].split('\\n')))\n",
        "res_list"
      ],
      "metadata": {
        "id": "yX4hE8ZmKYl9",
        "outputId": "91d54143-9fc9-482b-c4b8-04610f6542ac",
        "colab": {
          "base_uri": "https://localhost:8080/"
        }
      },
      "execution_count": 151,
      "outputs": [
        {
          "output_type": "execute_result",
          "data": {
            "text/plain": [
              "[\"Let's create a story with the given characters and premise.\",\n",
              " 'In the mystical realm of Aethoria, where the skies were painted with colors of sapphire and amethyst, and ancient magic dwelled within the whispers of the wind, three young individuals with extraordinary abilities were about to embark on a perilous quest.',\n",
              " \"**Apex**, a skilled warrior with superhuman strength and agility, was training in the heart of the Dragon's Spine mountains. His powers allowed him to leap great distances and strike with precision, making him a formidable opponent in combat.\",\n",
              " '**Starlight**, a celestial mage with the ability to control and manipulate light, was studying the ancient lore of Aethoria in the grand library of the Crystal Spire. Her powers enabled her to create blindingly bright illusions, heal wounds with gentle rays of light, and even fly by propelling herself with her luminescent magic.',\n",
              " \"**Quantum**, a brilliant inventor with the ability to manipulate matter and energy, was tinkering in his laboratory beneath the bustling streets of the kingdom's capital, Eldrador. His powers allowed him to teleport short distances, create complex devices, and even bend the fabric of reality to his will.\",\n",
              " 'The three individuals were unaware that their lives were about to intersect in a quest to save the kingdom from an impending darkness. Eira, a young apprentice, stumbled upon a long-lost prophecy hidden within the ancient tomes of the Crystal Spire. The prophecy spoke of a great evil, known as \"Oblivion,\" who sought to engulf Aethoria in an eternal darkness.',\n",
              " 'Oblivion, a diabolical villain with the ability to manipulate darkness and shadows, had been secretly gathering his strength in the shadows. He could teleport short distances, create shadowy illusions, and even absorb and nullify any form of light-based attacks. His ultimate goal was to claim the fabled Amulet of Light, a powerful artifact that maintained balance and order in Aethoria.',\n",
              " \"As Eira deciphered the prophecy, she realized that she was the chosen one, tasked with finding and defeating Oblivion. However, she knew she couldn't accomplish this feat alone. Eira set out to find three companions with extraordinary abilities, and her search led her to Apex, Starlight, and Quantum.\",\n",
              " \"The four individuals converged on the outskirts of Eldrador, where Eira revealed the prophecy and their shared destiny. Apex, Starlight, and Quantum were initially skeptical, but Eira's determination and the urgency of the situation convinced them to join forces.\",\n",
              " 'As they embarked on their perilous quest, they encountered numerous challenges and obstacles. They traversed treacherous landscapes, battled fearsome creatures, and unraveled ancient puzzles. Along the way, they discovered that their powers complemented each other perfectly, making them a formidable team.',\n",
              " \"Apex's brute strength and agility proved invaluable in combat, while Starlight's luminescent magic illuminated their path and repelled the shadows. Quantum's inventive genius allowed them to overcome seemingly insurmountable obstacles, and Eira's knowledge of the prophecy guided them toward their ultimate goal.\",\n",
              " \"As they journeyed deeper into the heart of Aethoria, the darkness began to stir. Oblivion's presence grew stronger, and the land itself began to change. The skies turned a sickly shade of gray, and the wind whispers grew more ominous.\",\n",
              " 'The four companions knew they were closing in on their enemy. They steeled themselves for the ultimate battle, ready to face Oblivion and save Aethoria from the brink of destruction.',\n",
              " 'How would you like the story to proceed?',\n",
              " '1. **The Battle Against Oblivion**: The companions face off against Oblivion in an epic battle, using their combined powers to try and defeat the villain.',\n",
              " \"2. **The Quest for the Amulet of Light**: The companions embark on a perilous journey to find the Amulet of Light, knowing that it's the key to defeating Oblivion.\",\n",
              " '3. **The Dark Past of Oblivion**: The companions discover the dark past of Oblivion, revealing the motivations behind his evil deeds and the true nature of his powers.',\n",
              " 'Please choose one of the options or provide a specific request to help guide the story.']"
            ]
          },
          "metadata": {},
          "execution_count": 151
        }
      ]
    },
    {
      "cell_type": "code",
      "source": [],
      "metadata": {
        "id": "k8xIt_GvLRow"
      },
      "execution_count": null,
      "outputs": []
    }
  ]
}