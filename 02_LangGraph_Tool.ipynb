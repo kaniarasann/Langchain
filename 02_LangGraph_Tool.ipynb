{
  "nbformat": 4,
  "nbformat_minor": 0,
  "metadata": {
    "colab": {
      "provenance": [],
      "authorship_tag": "ABX9TyMeJZFBvdLwkpc4TvYzMNGJ",
      "include_colab_link": true
    },
    "kernelspec": {
      "name": "python3",
      "display_name": "Python 3"
    },
    "language_info": {
      "name": "python"
    }
  },
  "cells": [
    {
      "cell_type": "markdown",
      "metadata": {
        "id": "view-in-github",
        "colab_type": "text"
      },
      "source": [
        "<a href=\"https://colab.research.google.com/github/kaniarasann/Langchain/blob/main/02_LangGraph_Tool.ipynb\" target=\"_parent\"><img src=\"https://colab.research.google.com/assets/colab-badge.svg\" alt=\"Open In Colab\"/></a>"
      ]
    },
    {
      "cell_type": "code",
      "execution_count": 927,
      "metadata": {
        "id": "hIregihOnUt7",
        "colab": {
          "base_uri": "https://localhost:8080/"
        },
        "outputId": "af534b0a-fcb8-467b-bade-685946ac68cd"
      },
      "outputs": [
        {
          "output_type": "stream",
          "name": "stdout",
          "text": [
            "Requirement already satisfied: langgraph in /usr/local/lib/python3.11/dist-packages (0.5.2)\n",
            "Requirement already satisfied: langchain_groq in /usr/local/lib/python3.11/dist-packages (0.3.6)\n",
            "Requirement already satisfied: langchain in /usr/local/lib/python3.11/dist-packages (0.3.26)\n",
            "Requirement already satisfied: langchain-google-genai in /usr/local/lib/python3.11/dist-packages (2.1.7)\n",
            "Requirement already satisfied: pydantic in /usr/local/lib/python3.11/dist-packages (2.11.7)\n",
            "Requirement already satisfied: langchain-core>=0.1 in /usr/local/lib/python3.11/dist-packages (from langgraph) (0.3.68)\n",
            "Requirement already satisfied: langgraph-checkpoint<3.0.0,>=2.1.0 in /usr/local/lib/python3.11/dist-packages (from langgraph) (2.1.0)\n",
            "Requirement already satisfied: langgraph-prebuilt<0.6.0,>=0.5.0 in /usr/local/lib/python3.11/dist-packages (from langgraph) (0.5.2)\n",
            "Requirement already satisfied: langgraph-sdk<0.2.0,>=0.1.42 in /usr/local/lib/python3.11/dist-packages (from langgraph) (0.1.72)\n",
            "Requirement already satisfied: xxhash>=3.5.0 in /usr/local/lib/python3.11/dist-packages (from langgraph) (3.5.0)\n",
            "Requirement already satisfied: groq<1,>=0.29.0 in /usr/local/lib/python3.11/dist-packages (from langchain_groq) (0.30.0)\n",
            "Requirement already satisfied: langchain-text-splitters<1.0.0,>=0.3.8 in /usr/local/lib/python3.11/dist-packages (from langchain) (0.3.8)\n",
            "Requirement already satisfied: langsmith>=0.1.17 in /usr/local/lib/python3.11/dist-packages (from langchain) (0.4.4)\n",
            "Requirement already satisfied: SQLAlchemy<3,>=1.4 in /usr/local/lib/python3.11/dist-packages (from langchain) (2.0.41)\n",
            "Requirement already satisfied: requests<3,>=2 in /usr/local/lib/python3.11/dist-packages (from langchain) (2.32.3)\n",
            "Requirement already satisfied: PyYAML>=5.3 in /usr/local/lib/python3.11/dist-packages (from langchain) (6.0.2)\n",
            "Requirement already satisfied: filetype<2.0.0,>=1.2.0 in /usr/local/lib/python3.11/dist-packages (from langchain-google-genai) (1.2.0)\n",
            "Requirement already satisfied: google-ai-generativelanguage<0.7.0,>=0.6.18 in /usr/local/lib/python3.11/dist-packages (from langchain-google-genai) (0.6.18)\n",
            "Requirement already satisfied: annotated-types>=0.6.0 in /usr/local/lib/python3.11/dist-packages (from pydantic) (0.7.0)\n",
            "Requirement already satisfied: pydantic-core==2.33.2 in /usr/local/lib/python3.11/dist-packages (from pydantic) (2.33.2)\n",
            "Requirement already satisfied: typing-extensions>=4.12.2 in /usr/local/lib/python3.11/dist-packages (from pydantic) (4.14.1)\n",
            "Requirement already satisfied: typing-inspection>=0.4.0 in /usr/local/lib/python3.11/dist-packages (from pydantic) (0.4.1)\n",
            "Requirement already satisfied: google-api-core!=2.0.*,!=2.1.*,!=2.10.*,!=2.2.*,!=2.3.*,!=2.4.*,!=2.5.*,!=2.6.*,!=2.7.*,!=2.8.*,!=2.9.*,<3.0.0,>=1.34.1 in /usr/local/lib/python3.11/dist-packages (from google-api-core[grpc]!=2.0.*,!=2.1.*,!=2.10.*,!=2.2.*,!=2.3.*,!=2.4.*,!=2.5.*,!=2.6.*,!=2.7.*,!=2.8.*,!=2.9.*,<3.0.0,>=1.34.1->google-ai-generativelanguage<0.7.0,>=0.6.18->langchain-google-genai) (2.25.1)\n",
            "Requirement already satisfied: google-auth!=2.24.0,!=2.25.0,<3.0.0,>=2.14.1 in /usr/local/lib/python3.11/dist-packages (from google-ai-generativelanguage<0.7.0,>=0.6.18->langchain-google-genai) (2.38.0)\n",
            "Requirement already satisfied: proto-plus<2.0.0,>=1.22.3 in /usr/local/lib/python3.11/dist-packages (from google-ai-generativelanguage<0.7.0,>=0.6.18->langchain-google-genai) (1.26.1)\n",
            "Requirement already satisfied: protobuf!=4.21.0,!=4.21.1,!=4.21.2,!=4.21.3,!=4.21.4,!=4.21.5,<7.0.0,>=3.20.2 in /usr/local/lib/python3.11/dist-packages (from google-ai-generativelanguage<0.7.0,>=0.6.18->langchain-google-genai) (5.29.5)\n",
            "Requirement already satisfied: anyio<5,>=3.5.0 in /usr/local/lib/python3.11/dist-packages (from groq<1,>=0.29.0->langchain_groq) (4.9.0)\n",
            "Requirement already satisfied: distro<2,>=1.7.0 in /usr/local/lib/python3.11/dist-packages (from groq<1,>=0.29.0->langchain_groq) (1.9.0)\n",
            "Requirement already satisfied: httpx<1,>=0.23.0 in /usr/local/lib/python3.11/dist-packages (from groq<1,>=0.29.0->langchain_groq) (0.28.1)\n",
            "Requirement already satisfied: sniffio in /usr/local/lib/python3.11/dist-packages (from groq<1,>=0.29.0->langchain_groq) (1.3.1)\n",
            "Requirement already satisfied: tenacity!=8.4.0,<10.0.0,>=8.1.0 in /usr/local/lib/python3.11/dist-packages (from langchain-core>=0.1->langgraph) (8.5.0)\n",
            "Requirement already satisfied: jsonpatch<2.0,>=1.33 in /usr/local/lib/python3.11/dist-packages (from langchain-core>=0.1->langgraph) (1.33)\n",
            "Requirement already satisfied: packaging<25,>=23.2 in /usr/local/lib/python3.11/dist-packages (from langchain-core>=0.1->langgraph) (24.2)\n",
            "Requirement already satisfied: ormsgpack>=1.10.0 in /usr/local/lib/python3.11/dist-packages (from langgraph-checkpoint<3.0.0,>=2.1.0->langgraph) (1.10.0)\n",
            "Requirement already satisfied: orjson>=3.10.1 in /usr/local/lib/python3.11/dist-packages (from langgraph-sdk<0.2.0,>=0.1.42->langgraph) (3.10.18)\n",
            "Requirement already satisfied: requests-toolbelt<2.0.0,>=1.0.0 in /usr/local/lib/python3.11/dist-packages (from langsmith>=0.1.17->langchain) (1.0.0)\n",
            "Requirement already satisfied: zstandard<0.24.0,>=0.23.0 in /usr/local/lib/python3.11/dist-packages (from langsmith>=0.1.17->langchain) (0.23.0)\n",
            "Requirement already satisfied: charset-normalizer<4,>=2 in /usr/local/lib/python3.11/dist-packages (from requests<3,>=2->langchain) (3.4.2)\n",
            "Requirement already satisfied: idna<4,>=2.5 in /usr/local/lib/python3.11/dist-packages (from requests<3,>=2->langchain) (3.10)\n",
            "Requirement already satisfied: urllib3<3,>=1.21.1 in /usr/local/lib/python3.11/dist-packages (from requests<3,>=2->langchain) (2.4.0)\n",
            "Requirement already satisfied: certifi>=2017.4.17 in /usr/local/lib/python3.11/dist-packages (from requests<3,>=2->langchain) (2025.7.9)\n",
            "Requirement already satisfied: greenlet>=1 in /usr/local/lib/python3.11/dist-packages (from SQLAlchemy<3,>=1.4->langchain) (3.2.3)\n",
            "Requirement already satisfied: googleapis-common-protos<2.0.0,>=1.56.2 in /usr/local/lib/python3.11/dist-packages (from google-api-core!=2.0.*,!=2.1.*,!=2.10.*,!=2.2.*,!=2.3.*,!=2.4.*,!=2.5.*,!=2.6.*,!=2.7.*,!=2.8.*,!=2.9.*,<3.0.0,>=1.34.1->google-api-core[grpc]!=2.0.*,!=2.1.*,!=2.10.*,!=2.2.*,!=2.3.*,!=2.4.*,!=2.5.*,!=2.6.*,!=2.7.*,!=2.8.*,!=2.9.*,<3.0.0,>=1.34.1->google-ai-generativelanguage<0.7.0,>=0.6.18->langchain-google-genai) (1.70.0)\n",
            "Requirement already satisfied: grpcio<2.0.0,>=1.33.2 in /usr/local/lib/python3.11/dist-packages (from google-api-core[grpc]!=2.0.*,!=2.1.*,!=2.10.*,!=2.2.*,!=2.3.*,!=2.4.*,!=2.5.*,!=2.6.*,!=2.7.*,!=2.8.*,!=2.9.*,<3.0.0,>=1.34.1->google-ai-generativelanguage<0.7.0,>=0.6.18->langchain-google-genai) (1.73.1)\n",
            "Requirement already satisfied: grpcio-status<2.0.0,>=1.33.2 in /usr/local/lib/python3.11/dist-packages (from google-api-core[grpc]!=2.0.*,!=2.1.*,!=2.10.*,!=2.2.*,!=2.3.*,!=2.4.*,!=2.5.*,!=2.6.*,!=2.7.*,!=2.8.*,!=2.9.*,<3.0.0,>=1.34.1->google-ai-generativelanguage<0.7.0,>=0.6.18->langchain-google-genai) (1.71.2)\n",
            "Requirement already satisfied: cachetools<6.0,>=2.0.0 in /usr/local/lib/python3.11/dist-packages (from google-auth!=2.24.0,!=2.25.0,<3.0.0,>=2.14.1->google-ai-generativelanguage<0.7.0,>=0.6.18->langchain-google-genai) (5.5.2)\n",
            "Requirement already satisfied: pyasn1-modules>=0.2.1 in /usr/local/lib/python3.11/dist-packages (from google-auth!=2.24.0,!=2.25.0,<3.0.0,>=2.14.1->google-ai-generativelanguage<0.7.0,>=0.6.18->langchain-google-genai) (0.4.2)\n",
            "Requirement already satisfied: rsa<5,>=3.1.4 in /usr/local/lib/python3.11/dist-packages (from google-auth!=2.24.0,!=2.25.0,<3.0.0,>=2.14.1->google-ai-generativelanguage<0.7.0,>=0.6.18->langchain-google-genai) (4.9.1)\n",
            "Requirement already satisfied: httpcore==1.* in /usr/local/lib/python3.11/dist-packages (from httpx<1,>=0.23.0->groq<1,>=0.29.0->langchain_groq) (1.0.9)\n",
            "Requirement already satisfied: h11>=0.16 in /usr/local/lib/python3.11/dist-packages (from httpcore==1.*->httpx<1,>=0.23.0->groq<1,>=0.29.0->langchain_groq) (0.16.0)\n",
            "Requirement already satisfied: jsonpointer>=1.9 in /usr/local/lib/python3.11/dist-packages (from jsonpatch<2.0,>=1.33->langchain-core>=0.1->langgraph) (3.0.0)\n",
            "Requirement already satisfied: pyasn1<0.7.0,>=0.6.1 in /usr/local/lib/python3.11/dist-packages (from pyasn1-modules>=0.2.1->google-auth!=2.24.0,!=2.25.0,<3.0.0,>=2.14.1->google-ai-generativelanguage<0.7.0,>=0.6.18->langchain-google-genai) (0.6.1)\n"
          ]
        }
      ],
      "source": [
        "!pip install langgraph langchain_groq langchain langchain-google-genai pydantic"
      ]
    },
    {
      "cell_type": "markdown",
      "source": [
        "Tool Management"
      ],
      "metadata": {
        "id": "T8gdTovjokeO"
      }
    },
    {
      "cell_type": "code",
      "source": [
        "from typing import Union\n",
        "\n",
        "def add_two_number(a:Union[int, str] ,b:Union[int, str] ) -> int:\n",
        "    \"\"\"\n",
        "    This function add two numbers\n",
        "\n",
        "    Args:\n",
        "        a (int): Paramater a of type int\n",
        "        b (int): Paramater b of type int\n",
        "\n",
        "    Returns:\n",
        "        int: Sum of two valus\n",
        "    \"\"\"\n",
        "    int_a = int(a)\n",
        "    int_b = int(b)\n",
        "\n",
        "    return int_a+int_b\n",
        "\n",
        "def subtract_two_number(a:Union[int,str],b:Union[int,str]) -> int:\n",
        "    \"\"\"_summary_\n",
        "     This function subtract two numbers\n",
        "\n",
        "    Args:\n",
        "        a (int): Paramater a of type int\n",
        "        b (int): Paramater b of type int\n",
        "\n",
        "    Returns:\n",
        "        int: Subtract two valus\n",
        "    \"\"\"\n",
        "    int_a = int(a)\n",
        "    int_b = int(b)\n",
        "\n",
        "    return a-b\n",
        "\n",
        "def multiply_two_number(a:Union[int,str],b:Union[int,str]) -> int:\n",
        "    \"\"\"_summary_\n",
        "     This function multiply two numbers\n",
        "\n",
        "    Args:\n",
        "        a (int): Paramater a of type int\n",
        "        b (int): Paramater b of type int\n",
        "\n",
        "    Returns:\n",
        "        int: multiply two valus\n",
        "    \"\"\"\n",
        "    int_a = int(a)\n",
        "    int_b = int(b)\n",
        "\n",
        "    return a*b"
      ],
      "metadata": {
        "id": "rnPBIlq5oqHd"
      },
      "execution_count": 928,
      "outputs": []
    },
    {
      "cell_type": "markdown",
      "source": [
        "Model"
      ],
      "metadata": {
        "id": "uSJS6Mk7sUKU"
      }
    },
    {
      "cell_type": "code",
      "source": [
        "from langchain_core.messages import AnyMessage\n",
        "from langgraph.graph.message import add_messages\n",
        "from typing_extensions import TypedDict,Annotated\n",
        "\n",
        "class State(TypedDict):\n",
        "    messages:Annotated[list[AnyMessage],add_messages]"
      ],
      "metadata": {
        "id": "0YfImd4ksS5C"
      },
      "execution_count": 929,
      "outputs": []
    },
    {
      "cell_type": "markdown",
      "source": [
        "LLM With Tools"
      ],
      "metadata": {
        "id": "J53j0U-tpKVt"
      }
    },
    {
      "cell_type": "code",
      "source": [
        "from langchain_groq import ChatGroq\n",
        "from google.colab import userdata\n",
        "\n",
        "llm = ChatGroq(\n",
        "    model=\"meta-llama/llama-4-scout-17b-16e-instruct\",\n",
        "    api_key= userdata.get(\"groq_key\")\n",
        ")\n",
        "\n",
        "llm_bind_tools = llm.bind_tools([add_two_number,subtract_two_number, multiply_two_number])"
      ],
      "metadata": {
        "id": "XXASsEjIpccS"
      },
      "execution_count": 930,
      "outputs": []
    },
    {
      "cell_type": "markdown",
      "source": [
        "Invoke LLM"
      ],
      "metadata": {
        "id": "faOBHqwSqHlS"
      }
    },
    {
      "cell_type": "code",
      "source": [
        "invoke_llm = llm_bind_tools.invoke(\"What is the result of adding 2 and 5?\")\n",
        "invoke_llm.tool_calls"
      ],
      "metadata": {
        "colab": {
          "base_uri": "https://localhost:8080/"
        },
        "id": "BTzR6DfoteIb",
        "outputId": "eef6516c-8926-496f-99bd-df64f54cebb5"
      },
      "execution_count": 931,
      "outputs": [
        {
          "output_type": "execute_result",
          "data": {
            "text/plain": [
              "[{'name': 'add_two_number',\n",
              "  'args': {'a': '2', 'b': '5'},\n",
              "  'id': 'crxfck76d',\n",
              "  'type': 'tool_call'}]"
            ]
          },
          "metadata": {},
          "execution_count": 931
        }
      ]
    },
    {
      "cell_type": "markdown",
      "source": [
        "LangGraph Tool Calling"
      ],
      "metadata": {
        "id": "JQuwUwGkt8ba"
      }
    },
    {
      "cell_type": "code",
      "source": [
        "def llm_tool_calling(state: State) -> State:\n",
        "    \"\"\"\n",
        "    This function is called to invoke the LLM with tools.\n",
        "\n",
        "    :param state: The current state containing messages\n",
        "    :return: Updated state with the response from the LLM\n",
        "    \"\"\"\n",
        "    response = llm_bind_tools.invoke(state[\"messages\"])\n",
        "    state[\"messages\"].append(response)\n",
        "    return state"
      ],
      "metadata": {
        "id": "a7Wr5F10wPVk"
      },
      "execution_count": 932,
      "outputs": []
    },
    {
      "cell_type": "code",
      "source": [
        "from langgraph.graph import StateGraph, START, END\n",
        "from langgraph.prebuilt import ToolNode\n",
        "from langgraph.prebuilt import tools_condition"
      ],
      "metadata": {
        "id": "BVUSww6muF21"
      },
      "execution_count": 933,
      "outputs": []
    },
    {
      "cell_type": "code",
      "source": [
        "graph = StateGraph(State)"
      ],
      "metadata": {
        "id": "KpbAhxBXvpfM"
      },
      "execution_count": 934,
      "outputs": []
    },
    {
      "cell_type": "code",
      "source": [
        "graph.add_node(\"llm\", llm_tool_calling)\n",
        "graph.add_node(\"tools\", ToolNode(tools=[add_two_number]))"
      ],
      "metadata": {
        "colab": {
          "base_uri": "https://localhost:8080/"
        },
        "id": "hp-GGpG_v3jf",
        "outputId": "555c4705-1543-4b69-e0e0-693cffcf6941"
      },
      "execution_count": 935,
      "outputs": [
        {
          "output_type": "execute_result",
          "data": {
            "text/plain": [
              "<langgraph.graph.state.StateGraph at 0x7fe853afa450>"
            ]
          },
          "metadata": {},
          "execution_count": 935
        }
      ]
    },
    {
      "cell_type": "code",
      "source": [
        "graph.add_edge(START, \"llm\")\n",
        "graph.add_conditional_edges(\"llm\", tools_condition)\n",
        "graph.add_edge(\"tools\", \"llm\")"
      ],
      "metadata": {
        "colab": {
          "base_uri": "https://localhost:8080/"
        },
        "id": "rNYXvdX_wcTB",
        "outputId": "f6b5d244-8577-4532-e106-3e3384d3fc69"
      },
      "execution_count": 936,
      "outputs": [
        {
          "output_type": "execute_result",
          "data": {
            "text/plain": [
              "<langgraph.graph.state.StateGraph at 0x7fe853afa450>"
            ]
          },
          "metadata": {},
          "execution_count": 936
        }
      ]
    },
    {
      "cell_type": "code",
      "source": [
        "graph_builder = graph.compile()"
      ],
      "metadata": {
        "id": "4TtRmyyYww5D"
      },
      "execution_count": 937,
      "outputs": []
    },
    {
      "cell_type": "markdown",
      "source": [
        "Print and verify the created Graph"
      ],
      "metadata": {
        "id": "10NID0LUw5U3"
      }
    },
    {
      "cell_type": "code",
      "source": [
        "from IPython.display import display, Image\n",
        "display(Image(graph_builder.get_graph().draw_mermaid_png()))"
      ],
      "metadata": {
        "colab": {
          "base_uri": "https://localhost:8080/",
          "height": 266
        },
        "id": "_xaQmX1jw8l3",
        "outputId": "1ddabded-a440-40a0-ffb5-4191fd6fa29b"
      },
      "execution_count": 938,
      "outputs": [
        {
          "output_type": "display_data",
          "data": {
            "image/png": "[encoded data removed]",
            "text/plain": [
              "<IPython.core.display.Image object>"
            ]
          },
          "metadata": {}
        }
      ]
    },
    {
      "cell_type": "markdown",
      "source": [
        "Invoke LLM"
      ],
      "metadata": {
        "id": "4wLKUdX4xbDT"
      }
    },
    {
      "cell_type": "code",
      "source": [
        "from langchain_core.messages import HumanMessage, SystemMessage,AIMessage\n",
        "state = State(messages= HumanMessage(content=\"sum these two number 2 and 5\"))"
      ],
      "metadata": {
        "id": "_cEMYMwTxcql"
      },
      "execution_count": 939,
      "outputs": []
    },
    {
      "cell_type": "code",
      "source": [
        "output = graph_builder.invoke(state)"
      ],
      "metadata": {
        "id": "JMNxIscrxrPu"
      },
      "execution_count": 940,
      "outputs": []
    },
    {
      "cell_type": "code",
      "source": [
        "import pprint\n",
        "for msg in output['messages']:\n",
        "     msg.pretty_print()"
      ],
      "metadata": {
        "colab": {
          "base_uri": "https://localhost:8080/"
        },
        "id": "D4h2AE9bxwK8",
        "outputId": "d148b3d7-bebf-4b96-afeb-d55620007340"
      },
      "execution_count": 941,
      "outputs": [
        {
          "output_type": "stream",
          "name": "stdout",
          "text": [
            "================================\u001b[1m Human Message \u001b[0m=================================\n",
            "\n",
            "sum these two number 2 and 5\n",
            "==================================\u001b[1m Ai Message \u001b[0m==================================\n",
            "Tool Calls:\n",
            "  add_two_number (3dn3gapqb)\n",
            " Call ID: 3dn3gapqb\n",
            "  Args:\n",
            "    a: 2\n",
            "    b: 5\n",
            "=================================\u001b[1m Tool Message \u001b[0m=================================\n",
            "Name: add_two_number\n",
            "\n",
            "7\n",
            "==================================\u001b[1m Ai Message \u001b[0m==================================\n",
            "\n",
            "The sum of 2 and 5 is 7.\n"
          ]
        }
      ]
    },
    {
      "cell_type": "markdown",
      "source": [
        "We can also chain one or more tools togethor"
      ],
      "metadata": {
        "id": "2FYG6Ik9zjco"
      }
    },
    {
      "cell_type": "code",
      "source": [
        "multiple_tool_graph = StateGraph(State)"
      ],
      "metadata": {
        "id": "OQS5nnUI011M"
      },
      "execution_count": 942,
      "outputs": []
    },
    {
      "cell_type": "code",
      "source": [
        "tools = [add_two_number, subtract_two_number, multiply_two_number]\n",
        "tool_node = ToolNode(tools=tools)\n",
        "\n",
        "multiple_tool_graph.add_node(\"llm\", llm_tool_calling)\n",
        "multiple_tool_graph.add_node(\"tools\", ToolNode(tools=tools))"
      ],
      "metadata": {
        "colab": {
          "base_uri": "https://localhost:8080/"
        },
        "id": "7hsEgeeF013g",
        "outputId": "73ff00be-8751-4660-a86d-b5e43ba3f5e6"
      },
      "execution_count": 943,
      "outputs": [
        {
          "output_type": "execute_result",
          "data": {
            "text/plain": [
              "<langgraph.graph.state.StateGraph at 0x7fe854049150>"
            ]
          },
          "metadata": {},
          "execution_count": 943
        }
      ]
    },
    {
      "cell_type": "code",
      "source": [
        "multiple_tool_graph.add_edge(START, \"llm\")\n",
        "multiple_tool_graph.add_conditional_edges(\"llm\", tools_condition)\n",
        "multiple_tool_graph.add_edge(\"tools\", \"llm\")"
      ],
      "metadata": {
        "colab": {
          "base_uri": "https://localhost:8080/"
        },
        "id": "Ozzuj3QZ1Oe2",
        "outputId": "982a4a2f-65a7-49fb-fa60-61e7edbfecb0"
      },
      "execution_count": 944,
      "outputs": [
        {
          "output_type": "execute_result",
          "data": {
            "text/plain": [
              "<langgraph.graph.state.StateGraph at 0x7fe854049150>"
            ]
          },
          "metadata": {},
          "execution_count": 944
        }
      ]
    },
    {
      "cell_type": "code",
      "source": [
        "graph_builder_multiple_tools = multiple_tool_graph.compile()"
      ],
      "metadata": {
        "id": "mX5nocjK1eQ8"
      },
      "execution_count": 945,
      "outputs": []
    },
    {
      "cell_type": "code",
      "source": [
        "display(Image(graph_builder_multiple_tools.get_graph().draw_mermaid_png()))"
      ],
      "metadata": {
        "colab": {
          "base_uri": "https://localhost:8080/",
          "height": 266
        },
        "id": "Ld_rhsOB25sc",
        "outputId": "d54c6612-a524-481f-e4f4-bc99e3294952"
      },
      "execution_count": 946,
      "outputs": [
        {
          "output_type": "display_data",
          "data": {
            "image/png": "[encoded data removed]",
            "text/plain": [
              "<IPython.core.display.Image object>"
            ]
          },
          "metadata": {}
        }
      ]
    },
    {
      "cell_type": "code",
      "source": [
        "state_message = State(messages= HumanMessage(content=\"Multiply 2 and 3 and add 5 to the output \"))"
      ],
      "metadata": {
        "id": "P626VyJ3015p"
      },
      "execution_count": 947,
      "outputs": []
    },
    {
      "cell_type": "code",
      "source": [
        "result = graph_builder_multiple_tools.invoke(state_message)"
      ],
      "metadata": {
        "id": "od0s1WY60174"
      },
      "execution_count": 948,
      "outputs": []
    },
    {
      "cell_type": "code",
      "source": [
        "for item in result['messages']:\n",
        "    item.pretty_print()"
      ],
      "metadata": {
        "colab": {
          "base_uri": "https://localhost:8080/"
        },
        "id": "7Wkj3z1-01_A",
        "outputId": "a942a1a3-1da3-427c-9c2d-f620a210ffb4"
      },
      "execution_count": 949,
      "outputs": [
        {
          "output_type": "stream",
          "name": "stdout",
          "text": [
            "================================\u001b[1m Human Message \u001b[0m=================================\n",
            "\n",
            "Multiply 2 and 3 and add 5 to the output \n",
            "==================================\u001b[1m Ai Message \u001b[0m==================================\n",
            "Tool Calls:\n",
            "  add_two_number (rnwa5e274)\n",
            " Call ID: rnwa5e274\n",
            "  Args:\n",
            "    a: 5\n",
            "    b: 6\n",
            "  multiply_two_number (y0gy4md8t)\n",
            " Call ID: y0gy4md8t\n",
            "  Args:\n",
            "    a: 2\n",
            "    b: 3\n",
            "=================================\u001b[1m Tool Message \u001b[0m=================================\n",
            "Name: add_two_number\n",
            "\n",
            "11\n",
            "=================================\u001b[1m Tool Message \u001b[0m=================================\n",
            "Name: multiply_two_number\n",
            "\n",
            "Error: TypeError(\"can't multiply sequence by non-int of type 'str'\")\n",
            " Please fix your mistakes.\n",
            "==================================\u001b[1m Ai Message \u001b[0m==================================\n",
            "Tool Calls:\n",
            "  add_two_number (hw3r8xbtc)\n",
            " Call ID: hw3r8xbtc\n",
            "  Args:\n",
            "    a: 5\n",
            "    b: 6\n",
            "  multiply_two_number (356npb8ws)\n",
            " Call ID: 356npb8ws\n",
            "  Args:\n",
            "    a: 2\n",
            "    b: 3\n",
            "=================================\u001b[1m Tool Message \u001b[0m=================================\n",
            "Name: add_two_number\n",
            "\n",
            "11\n",
            "=================================\u001b[1m Tool Message \u001b[0m=================================\n",
            "Name: multiply_two_number\n",
            "\n",
            "Error: TypeError(\"can't multiply sequence by non-int of type 'str'\")\n",
            " Please fix your mistakes.\n",
            "==================================\u001b[1m Ai Message \u001b[0m==================================\n",
            "Tool Calls:\n",
            "  multiply_two_number (a468k1bkx)\n",
            " Call ID: a468k1bkx\n",
            "  Args:\n",
            "    a: 2\n",
            "    b: 3\n",
            "=================================\u001b[1m Tool Message \u001b[0m=================================\n",
            "Name: multiply_two_number\n",
            "\n",
            "Error: TypeError(\"can't multiply sequence by non-int of type 'str'\")\n",
            " Please fix your mistakes.\n",
            "==================================\u001b[1m Ai Message \u001b[0m==================================\n",
            "Tool Calls:\n",
            "  multiply_two_number (kfbmvhw3k)\n",
            " Call ID: kfbmvhw3k\n",
            "  Args:\n",
            "    a: 2\n",
            "    b: 3\n",
            "  add_two_number (8athm7109)\n",
            " Call ID: 8athm7109\n",
            "  Args:\n",
            "    a: 6\n",
            "    b: 5\n",
            "=================================\u001b[1m Tool Message \u001b[0m=================================\n",
            "Name: multiply_two_number\n",
            "\n",
            "6\n",
            "=================================\u001b[1m Tool Message \u001b[0m=================================\n",
            "Name: add_two_number\n",
            "\n",
            "11\n",
            "==================================\u001b[1m Ai Message \u001b[0m==================================\n",
            "Tool Calls:\n",
            "  add_two_number (k31q4c4yt)\n",
            " Call ID: k31q4c4yt\n",
            "  Args:\n",
            "    a: 6\n",
            "    b: 5\n",
            "  multiply_two_number (pe4mm0wxe)\n",
            " Call ID: pe4mm0wxe\n",
            "  Args:\n",
            "    a: 2\n",
            "    b: 3\n",
            "=================================\u001b[1m Tool Message \u001b[0m=================================\n",
            "Name: add_two_number\n",
            "\n",
            "11\n",
            "=================================\u001b[1m Tool Message \u001b[0m=================================\n",
            "Name: multiply_two_number\n",
            "\n",
            "6\n",
            "==================================\u001b[1m Ai Message \u001b[0m==================================\n",
            "\n",
            "The result of multiplying 2 and 3 is 6. Adding 5 to 6 results in 11. \n",
            "\n",
            "So the final result is 11.\n"
          ]
        }
      ]
    },
    {
      "cell_type": "markdown",
      "source": [
        "Agent without memory"
      ],
      "metadata": {
        "id": "la9_JFRp9iVe"
      }
    },
    {
      "cell_type": "code",
      "source": [
        "#output_res = graph_builder_multiple_tools.invoke(HumanMessage(content=\"what is the output from previous query\" ))"
      ],
      "metadata": {
        "id": "yxNRUN91IlYG"
      },
      "execution_count": 950,
      "outputs": []
    },
    {
      "cell_type": "code",
      "source": [
        "# for item in output_res['messages']:\n",
        "#     item.pretty_print()"
      ],
      "metadata": {
        "id": "CVvRj7qsI2ar"
      },
      "execution_count": 951,
      "outputs": []
    },
    {
      "cell_type": "markdown",
      "source": [
        "Agent with memory"
      ],
      "metadata": {
        "id": "pXXL7kuCCpm4"
      }
    },
    {
      "cell_type": "code",
      "source": [
        "from langgraph.checkpoint.memory import MemorySaver\n",
        "memory = MemorySaver()"
      ],
      "metadata": {
        "id": "LCQuW6zfCwyV"
      },
      "execution_count": 952,
      "outputs": []
    },
    {
      "cell_type": "code",
      "source": [
        "multiple_tool_graph = StateGraph(State)\n",
        "multiple_tool_graph.add_node(\"llm\", llm_tool_calling)\n",
        "multiple_tool_graph.add_node(\"tools\", ToolNode(tools=[add_two_number,subtract_two_number,multiply_two_number]))\n",
        "multiple_tool_graph.add_edge(START, \"llm\")\n",
        "multiple_tool_graph.add_conditional_edges(\"llm\", tools_condition)\n",
        "multiple_tool_graph.add_edge(\"tools\", END)\n",
        "graph_builder_memory = multiple_tool_graph.compile(checkpointer=memory)"
      ],
      "metadata": {
        "id": "epRubsQTDQst"
      },
      "execution_count": 953,
      "outputs": []
    },
    {
      "cell_type": "code",
      "source": [
        "state_message = State(messages= HumanMessage(content=\"Add two number 2 and 5\"))"
      ],
      "metadata": {
        "id": "AVO4amIoDpG9"
      },
      "execution_count": 954,
      "outputs": []
    },
    {
      "cell_type": "code",
      "source": [
        "config = {\"configurable\":{\"thread_id\":\"1\"}}"
      ],
      "metadata": {
        "id": "1Q9KEMGREdZT"
      },
      "execution_count": 955,
      "outputs": []
    },
    {
      "cell_type": "code",
      "source": [
        "res1 = graph_builder_memory.invoke(\n",
        "    {\"messages\": [HumanMessage(content=\"Add two numbers 2 and 5\")]},\n",
        "    config\n",
        ")"
      ],
      "metadata": {
        "id": "9U106SdmEwak"
      },
      "execution_count": 956,
      "outputs": []
    },
    {
      "cell_type": "code",
      "source": [
        "res2 = graph_builder_memory.invoke(\n",
        "    {\"messages\": [HumanMessage(content=\"Add 25 to that number\")]},\n",
        "    config\n",
        ")\n"
      ],
      "metadata": {
        "id": "DlqMDVQMFDF6"
      },
      "execution_count": 957,
      "outputs": []
    },
    {
      "cell_type": "code",
      "source": [
        "for item in res2['messages']:\n",
        "  item.pretty_print()"
      ],
      "metadata": {
        "colab": {
          "base_uri": "https://localhost:8080/"
        },
        "id": "a3DKdhQTFSe6",
        "outputId": "1debc92a-0086-4220-a461-819f933e009c"
      },
      "execution_count": 958,
      "outputs": [
        {
          "output_type": "stream",
          "name": "stdout",
          "text": [
            "================================\u001b[1m Human Message \u001b[0m=================================\n",
            "\n",
            "Add two numbers 2 and 5\n",
            "==================================\u001b[1m Ai Message \u001b[0m==================================\n",
            "Tool Calls:\n",
            "  add_two_number (9c2qq6v5c)\n",
            " Call ID: 9c2qq6v5c\n",
            "  Args:\n",
            "    a: 2\n",
            "    b: 5\n",
            "=================================\u001b[1m Tool Message \u001b[0m=================================\n",
            "Name: add_two_number\n",
            "\n",
            "7\n",
            "================================\u001b[1m Human Message \u001b[0m=================================\n",
            "\n",
            "Add 25 to that number\n",
            "==================================\u001b[1m Ai Message \u001b[0m==================================\n",
            "Tool Calls:\n",
            "  add_two_number (0kpf5v7sh)\n",
            " Call ID: 0kpf5v7sh\n",
            "  Args:\n",
            "    a: 7\n",
            "    b: 25\n",
            "=================================\u001b[1m Tool Message \u001b[0m=================================\n",
            "Name: add_two_number\n",
            "\n",
            "32\n"
          ]
        }
      ]
    },
    {
      "cell_type": "code",
      "source": [
        "res_memory = graph_builder_memory.invoke(HumanMessage(content=\"Add 35 to the output\" ),config)"
      ],
      "metadata": {
        "id": "sTvCiWyGHLDD"
      },
      "execution_count": 959,
      "outputs": []
    },
    {
      "cell_type": "code",
      "source": [
        "for item in res_memory['messages']:\n",
        "  item.pretty_print()"
      ],
      "metadata": {
        "id": "KOlZciatHOa6",
        "outputId": "9f17beb2-ff4e-432e-fad8-9e0f469fad91",
        "colab": {
          "base_uri": "https://localhost:8080/"
        }
      },
      "execution_count": 960,
      "outputs": [
        {
          "output_type": "stream",
          "name": "stdout",
          "text": [
            "================================\u001b[1m Human Message \u001b[0m=================================\n",
            "\n",
            "Add two numbers 2 and 5\n",
            "==================================\u001b[1m Ai Message \u001b[0m==================================\n",
            "Tool Calls:\n",
            "  add_two_number (9c2qq6v5c)\n",
            " Call ID: 9c2qq6v5c\n",
            "  Args:\n",
            "    a: 2\n",
            "    b: 5\n",
            "=================================\u001b[1m Tool Message \u001b[0m=================================\n",
            "Name: add_two_number\n",
            "\n",
            "7\n",
            "================================\u001b[1m Human Message \u001b[0m=================================\n",
            "\n",
            "Add 25 to that number\n",
            "==================================\u001b[1m Ai Message \u001b[0m==================================\n",
            "Tool Calls:\n",
            "  add_two_number (0kpf5v7sh)\n",
            " Call ID: 0kpf5v7sh\n",
            "  Args:\n",
            "    a: 7\n",
            "    b: 25\n",
            "=================================\u001b[1m Tool Message \u001b[0m=================================\n",
            "Name: add_two_number\n",
            "\n",
            "32\n",
            "==================================\u001b[1m Ai Message \u001b[0m==================================\n",
            "\n",
            "The result of adding 25 to 7 is 32.\n"
          ]
        }
      ]
    }
  ]
}