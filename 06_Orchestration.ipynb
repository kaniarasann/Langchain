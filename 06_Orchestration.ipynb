{
  "nbformat": 4,
  "nbformat_minor": 0,
  "metadata": {
    "colab": {
      "provenance": [],
      "authorship_tag": "ABX9TyOhlx7RJIqBdV7H5mXUEitS",
      "include_colab_link": true
    },
    "kernelspec": {
      "name": "python3",
      "display_name": "Python 3"
    },
    "language_info": {
      "name": "python"
    }
  },
  "cells": [
    {
      "cell_type": "markdown",
      "metadata": {
        "id": "view-in-github",
        "colab_type": "text"
      },
      "source": [
        "<a href=\"https://colab.research.google.com/github/kaniarasann/Langchain/blob/main/06_Orchestration.ipynb\" target=\"_parent\"><img src=\"https://colab.research.google.com/assets/colab-badge.svg\" alt=\"Open In Colab\"/></a>"
      ]
    },
    {
      "cell_type": "code",
      "execution_count": 46,
      "metadata": {
        "id": "OLMsqreu_OA0"
      },
      "outputs": [],
      "source": [
        "#!pip install langchain langgraph langchain_groq pydantic"
      ]
    },
    {
      "cell_type": "code",
      "source": [
        "from typing import Annotated, List\n",
        "from pydantic import BaseModel, Field\n",
        "import operator\n",
        "from langchain_groq import ChatGroq\n",
        "from langchain_core.prompts import PromptTemplate\n",
        "from langgraph.constants import Send\n",
        "from langgraph.graph import StateGraph, START, END"
      ],
      "metadata": {
        "id": "a1i11U7o_YLl"
      },
      "execution_count": 47,
      "outputs": []
    },
    {
      "cell_type": "code",
      "source": [
        "from langchain_groq import ChatGroq\n",
        "from google.colab import userdata\n",
        "groq_key = userdata.get('groq_key')"
      ],
      "metadata": {
        "id": "aX9jJGsC_gVw"
      },
      "execution_count": 48,
      "outputs": []
    },
    {
      "cell_type": "code",
      "source": [
        "llm = ChatGroq(api_key=groq_key, model=\"llama-3.3-70b-versatile\",)"
      ],
      "metadata": {
        "id": "ld1Bb71D_sH3"
      },
      "execution_count": 49,
      "outputs": []
    },
    {
      "cell_type": "code",
      "source": [
        "class Section(BaseModel):\n",
        "    name: str = ''\n",
        "    description: str = ''\n",
        "\n",
        "class Sections(BaseModel):\n",
        "    sections: List[Section]\n",
        "\n",
        "class State(BaseModel):\n",
        "    topic: str\n",
        "    sections: List[Section] = []                          # <- no reducer\n",
        "    completed_sections: Annotated[List[str], operator.add] = []\n",
        "    final_report: str = \"\"\n",
        "\n",
        "class WorkerState(BaseModel):\n",
        "    section: Section\n",
        "    completed_sections: Annotated[List[str], operator.add] = []"
      ],
      "metadata": {
        "id": "4dGRTHW__vC9"
      },
      "execution_count": 50,
      "outputs": []
    },
    {
      "cell_type": "code",
      "source": [
        "planner = llm.with_structured_output(Sections)"
      ],
      "metadata": {
        "id": "HgQbga8YDa7F"
      },
      "execution_count": 51,
      "outputs": []
    },
    {
      "cell_type": "code",
      "source": [
        "def orchestrate(state: State):\n",
        "    prompt = PromptTemplate.from_template(\n",
        "        \"Generate a detailed section plan for a report titled '{topic}'.\"\n",
        "    ).format(topic=state.topic)\n",
        "    plan: Sections = planner.invoke(prompt)\n",
        "    return {\"sections\": plan.sections}  # <- LIST, not wrapper"
      ],
      "metadata": {
        "id": "EwP9o_xzj9j0"
      },
      "execution_count": 52,
      "outputs": []
    },
    {
      "cell_type": "code",
      "source": [
        "def llm_call(state):\n",
        "    prompt = PromptTemplate.from_template(\n",
        "        \"Write a Markdown section called '{name}'. Description: {description}\"\n",
        "    ) | llm\n",
        "    md = prompt.invoke(\n",
        "        {\"name\": state['section'].name, \"description\": state['section'].description}\n",
        "    )\n",
        "    return {\"completed_sections\": [md.content]}"
      ],
      "metadata": {
        "id": "8eCORFkxwqF6"
      },
      "execution_count": 53,
      "outputs": []
    },
    {
      "cell_type": "code",
      "source": [
        "def assign_workers(state: State):\n",
        "    return [Send(\"llm_call\", {\"section\": s}) for s in state.sections]"
      ],
      "metadata": {
        "id": "Omgwqz_swt0Y"
      },
      "execution_count": 54,
      "outputs": []
    },
    {
      "cell_type": "code",
      "source": [
        "def synthesizer(state: State):\n",
        "    body = \"\\n\\n---\\n\\n\".join(state.completed_sections)\n",
        "    return {\"final_report\": f\"# Report on {state.topic}\\n\\n{body}\"}"
      ],
      "metadata": {
        "id": "2P0anooeww3v"
      },
      "execution_count": 55,
      "outputs": []
    },
    {
      "cell_type": "code",
      "source": [
        "graph = StateGraph(State)\n",
        "graph.add_node(\"orchestration\", orchestrate)\n",
        "graph.add_node(\"llm_call\", llm_call)\n",
        "graph.add_node(\"synthesizer\", synthesizer)\n",
        "\n",
        "graph.add_edge(START, \"orchestration\")\n",
        "graph.add_conditional_edges(\"orchestration\", assign_workers, [\"llm_call\"])\n",
        "graph.add_edge(\"llm_call\", \"synthesizer\")\n",
        "graph.add_edge(\"synthesizer\", END)\n",
        "\n",
        "builder = graph.compile()"
      ],
      "metadata": {
        "id": "nOeBo8kXw0kB"
      },
      "execution_count": 56,
      "outputs": []
    },
    {
      "cell_type": "code",
      "source": [
        "result = builder.invoke({\"topic\": \"History of Tamils\"})\n",
        "print(result[\"final_report\"])"
      ],
      "metadata": {
        "colab": {
          "base_uri": "https://localhost:8080/"
        },
        "id": "2bWEcum_xCP-",
        "outputId": "003033cd-96b9-4ba4-f307-50f44bffc851"
      },
      "execution_count": 57,
      "outputs": [
        {
          "output_type": "stream",
          "name": "stdout",
          "text": [
            "# Report on History of Tamils\n",
            "\n",
            "### Introduction\n",
            "This report provides a comprehensive overview of the current state of affairs, highlighting key trends, challenges, and opportunities. The significance of this report lies in its ability to inform stakeholders, guide decision-making, and facilitate strategic planning. By examining the latest developments and insights, this report aims to equip readers with a deeper understanding of the complex issues at play, ultimately contributing to more effective solutions and improved outcomes.\n",
            "\n",
            "---\n",
            "\n",
            "### Ancient Tamil Civilization\n",
            "The ancient Tamil civilization, which flourished from ancient times to the 5th century CE, was a rich and vibrant culture that played a significant role in shaping the history of the Indian subcontinent. The Tamil people, who inhabited the southern part of the Indian peninsula, developed a unique and distinct civilization that was characterized by its own language, literature, art, architecture, and traditions.\n",
            "\n",
            "#### Early History (3000 BCE - 300 BCE)\n",
            "The early history of the Tamil people is not well-documented, but it is believed that they migrated to the Indian subcontinent from the Mediterranean region around 3000 BCE. The Tamil people established themselves in the southern part of the peninsula, which is now modern-day Tamil Nadu, Kerala, and parts of Karnataka and Andhra Pradesh. During this period, the Tamil people developed a complex society with their own system of government, economy, and culture.\n",
            "\n",
            "#### Sangam Period (300 BCE - 300 CE)\n",
            "The Sangam period, which lasted from 300 BCE to 300 CE, is considered the golden age of Tamil civilization. During this period, the Tamil people made significant contributions to literature, art, and architecture. The Sangam literature, which includes works such as the Tirukkural and the Silappatikaram, is considered some of the greatest works of Tamil literature. The Tamil people also developed a unique system of government, with the Chera, Chola, and Pandya kingdoms being the most prominent.\n",
            "\n",
            "#### Tamil Kingdoms (300 - 500 CE)\n",
            "The Tamil kingdoms, which emerged during the Sangam period, continued to flourish until the 5th century CE. The Chera, Chola, and Pandya kingdoms were the most powerful kingdoms of the time, and they played a significant role in shaping the history of the Indian subcontinent. The Tamil kingdoms were known for their military prowess, economic prosperity, and cultural achievements. The Tamil people also developed a unique system of trade and commerce, with the port city of Puhar being an important center of trade.\n",
            "\n",
            "#### Legacy of Ancient Tamil Civilization\n",
            "The ancient Tamil civilization has left a lasting legacy in the modern world. The Tamil language, which is one of the oldest languages in the world, is still spoken by millions of people around the world. The Tamil literature, art, and architecture have also had a significant impact on the development of Indian culture. The Tamil people's contributions to science, technology, and mathematics have also been significant, with the Tamil mathematician Aryabhata being one of the most notable examples. Overall, the ancient Tamil civilization was a rich and vibrant culture that continues to inspire and influence people around the world.\n",
            "\n",
            "---\n",
            "\n",
            "### Medieval Period\n",
            "The medieval period in Tamil history, spanning from the 6th to the 13th century CE, was a transformative era marked by the rise and fall of powerful dynasties. This period is particularly notable for the dominance of the Chola and Pandya dynasties, which not only shaped the political landscape but also contributed significantly to the cultural, architectural, and literary heritage of the region.\n",
            "\n",
            "#### The Chola Dynasty\n",
            "The Chola dynasty, which ruled from the 3rd century BCE to the 13th century CE, reached the zenith of its power during the medieval period. Under the leadership of kings such as Rajaraja Chola and Rajendra Chola, the Cholas expanded their empire, conquering vast territories beyond their traditional domains in Tamil Nadu. Their military campaigns extended into Southeast Asia and the Ganges Valley, establishing the Cholas as a major maritime and military power of their time. The Chola period is also renowned for its architectural achievements, including the construction of magnificent temples like the Brihadeeswara Temple at Thanjavur, a UNESCO World Heritage Site.\n",
            "\n",
            "#### The Pandya Dynasty\n",
            "The Pandya dynasty, another significant power in medieval Tamil Nadu, ruled from Madurai. Like the Cholas, the Pandyas had a long history dating back to the Sangam period but experienced a resurgence in power during the medieval era. The Pandyas were known for their extensive trade networks, both within the Indian subcontinent and with foreign lands, including the Roman Empire. Their capital, Madurai, was an important cultural and commercial center, celebrated for its vibrant markets, religious festivals, and literary salons. The Pandyas also made significant contributions to Tamil literature and architecture, with the Meenakshi Amman Temple in Madurai being one of their most enduring legacies.\n",
            "\n",
            "#### Cultural and Literary Achievements\n",
            "The medieval period in Tamil Nadu was a time of great cultural and literary flourishing. The Tamil language reached new heights of expression, with the composition of epic poems like the \"Kambaramayanam\" (a Tamil version of the Ramayana) and numerous works of poetry and drama. The Bhakti movement, which emphasized personal devotion to a deity, also emerged during this time, influencing the spiritual and literary landscape of the region. The works of the Alvars (Vaishnavite saints) and the Nayanmars (Shaivite saints) are exemplary of this period's devotional literature, which continues to be revered in Tamil Nadu.\n",
            "\n",
            "#### Legacy of the Medieval Period\n",
            "The medieval period in Tamil history laid the foundation for many of the region's current cultural, linguistic, and architectural traditions. The Chola and Pandya dynasties, through their administrative, military, and cultural achievements, set a high standard for subsequent rulers and left behind a rich heritage that continues to inspire and influence contemporary Tamil society. The period's emphasis on literature, architecture, and spirituality has provided Tamil Nadu with a distinctive identity, making it one of the most culturally vibrant and historically rich regions in India.\n",
            "\n",
            "---\n",
            "\n",
            "### Vijayanagara and Nayak Periods\n",
            "The Vijayanagara and Nayak periods, spanning from the 14th to the 17th century CE, were pivotal in shaping the history of Tamil Nadu. During this time, the region witnessed the rise and fall of the Vijayanagara Empire, as well as the emergence of the Nayak rulers.\n",
            "\n",
            "#### Vijayanagara Empire\n",
            "The Vijayanagara Empire, founded in 1336 CE, played a significant role in Tamil history. Although the empire's capital, Vijayanagara, was located in present-day Karnataka, its influence extended to Tamil Nadu. The empire's rulers, particularly Krishnadeva Raya, patronized Tamil art, literature, and culture. The Vijayanagara period saw the construction of numerous temples, including the famous Virabhadra temple at Lepakshi and the Kailasanathar temple at Kanchipuram.\n",
            "\n",
            "#### Nayak Rulers\n",
            "Following the decline of the Vijayanagara Empire, the Nayak rulers emerged as powerful leaders in Tamil Nadu. The Nayaks, who were originally governors under the Vijayanagara Empire, established their own kingdoms in Madurai, Thanjavur, and Gingee. The Nayak period, which lasted from the 16th to the 17th century CE, is notable for its cultural achievements. The Nayak rulers were patrons of Tamil literature, music, and art, and their courts attracted scholars and poets from all over India.\n",
            "\n",
            "#### Cultural Achievements\n",
            "The Vijayanagara and Nayak periods were marked by significant cultural achievements in Tamil Nadu. The construction of temples, such as the Meenakshi Amman temple at Madurai and the Brihadeeswarar temple at Thanjavur, showcased the architectural prowess of the time. The period also saw the emergence of renowned Tamil poets, including Arunachala Kavirayar and Tirikootarachanamanip Pulavar. The Nayak rulers' patronage of music and dance led to the development of the Bharatanatyam dance form, which remains an integral part of Tamil culture.\n",
            "\n",
            "#### Legacy\n",
            "The Vijayanagara and Nayak periods have left a lasting legacy in Tamil Nadu. The temples, literature, and art from this era continue to inspire and influence contemporary Tamil culture. The region's rich cultural heritage, shaped by the Vijayanagara Empire and the Nayak rulers, remains an essential part of Tamil identity and history.\n",
            "\n",
            "---\n",
            "\n",
            "### Colonial Era\n",
            "Tamil history under British colonial rule from the 18th to the 20th century CE was marked by significant social, economic, and cultural changes. The British East India Company's establishment of a trading post in Madras in 1639 laid the foundation for British expansion in the region. By the mid-18th century, the British had gained control over much of Tamil Nadu, and the area became part of the British Empire.\n",
            "\n",
            "During this period, the British introduced various reforms, including the establishment of a modern education system, which led to an increase in literacy rates and the emergence of a new Tamil middle class. The British also promoted the development of infrastructure, such as roads, railways, and ports, which facilitated trade and commerce.\n",
            "\n",
            "However, British colonial rule also had a profound impact on Tamil society and culture. The imposition of English as the language of administration and education led to a decline in the use of Tamil, and many traditional Tamil customs and practices were suppressed. The British also exploited Tamil Nadu's natural resources, leading to economic stagnation and poverty in many areas.\n",
            "\n",
            "Despite these challenges, the Tamil people resisted British colonial rule through various forms of protest and rebellion. The Dravidian movement, which emerged in the early 20th century, sought to promote Tamil identity and self-rule, and played a significant role in the struggle for Indian independence. Key figures such as EV Ramasamy, also known as Periyar, and CN Annadurai, worked tirelessly to promote social justice and equality for the Tamil people.\n",
            "\n",
            "The colonial era came to an end with India's independence in 1947, and Tamil Nadu became part of the Indian union. However, the legacy of British colonial rule continues to shape Tamil society and culture to this day, with ongoing debates about language, identity, and self-determination.\n",
            "\n",
            "---\n",
            "\n",
            "### Independence and Modern Period\n",
            "Tamil history from the mid-20th century CE to the present day is marked by significant socio-political developments that have shaped the region into its current form. The mid-20th century saw India gaining independence from British colonial rule in 1947. This period was crucial for the Tamil region as it led to the formation of the state of Tamil Nadu in 1969, previously known as the Madras State.\n",
            "\n",
            "#### Formation of Tamil Nadu\n",
            "The formation of Tamil Nadu was a result of the States Reorganisation Act of 1956, which aimed to reorganize the states of India along linguistic lines. The Madras State, which included areas where Tamil, Telugu, Malayalam, and Kannada were spoken, was divided, and the Tamil-speaking areas were consolidated to form the state of Tamil Nadu. This move was largely driven by the Tamil Nadu state formation movements and the efforts of various political and social organizations that advocated for a separate state for the Tamil-speaking population.\n",
            "\n",
            "#### Socio-Political Landscape\n",
            "The modern period in Tamil Nadu has been marked by a vibrant socio-political landscape. The state has a long tradition of democratic participation and has been ruled by various political parties, including the Indian National Congress, the All India Anna Dravida Munnetra Kazhagam (AIADMK), and the Dravida Munnetra Kazhagam (DMK). These parties have played significant roles in shaping the state's policies, particularly in areas such as education, healthcare, and industrial development.\n",
            "\n",
            "#### Economic Development\n",
            "Tamil Nadu has experienced significant economic growth over the years, driven by industries such as textiles, automotive, and information technology. The state is home to several major industrial hubs, including Chennai, Coimbatore, and Tiruchirappalli, which have attracted investments from both domestic and international companies. This economic growth has contributed to the state's high Human Development Index (HDI) and has improved the standard of living for many of its citizens.\n",
            "\n",
            "#### Social Movements\n",
            "The modern period in Tamil Nadu has also seen the emergence of various social movements, including the Dravidian movement, which has played a significant role in shaping the state's socio-political landscape. The movement, which emphasizes social justice, equality, and the rights of the marginalized, has influenced the state's policies and has contributed to the empowerment of various social groups, including the Dalits and women.\n",
            "\n",
            "#### Cultural Developments\n",
            "Tamil Nadu is known for its rich cultural heritage, which includes a vibrant tradition of music, dance, and literature. The state is home to several prestigious cultural institutions, including the Kalakshetra Foundation and the Tamil Nadu Music and Fine Arts University. These institutions have played a significant role in promoting and preserving Tamil culture, both within the state and internationally.\n",
            "\n",
            "In conclusion, the independence and modern period in Tamil Nadu has been marked by significant developments in the state's socio-political, economic, and cultural landscapes. From the formation of the state to its current status as a major economic and cultural hub, Tamil Nadu continues to evolve and grow, driven by the efforts of its people and the policies of its government.\n",
            "\n",
            "---\n",
            "\n",
            "## Conclusion\n",
            "This report has presented a comprehensive analysis of the key findings and their implications. The main conclusions can be summarized as follows: \n",
            "* A summary of the key findings from the report \n",
            "* An overview of the implications of these findings \n",
            "* Recommendations for future actions based on the report's conclusions. \n",
            "Overall, this report aims to provide a clear understanding of the subject matter and its relevance to the field, highlighting the importance of considering these findings for future decision-making and strategic planning.\n"
          ]
        }
      ]
    },
    {
      "cell_type": "code",
      "source": [],
      "metadata": {
        "id": "2P-xGt-MxCqa"
      },
      "execution_count": 57,
      "outputs": []
    }
  ]
}