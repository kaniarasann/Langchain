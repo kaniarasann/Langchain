{
  "nbformat": 4,
  "nbformat_minor": 0,
  "metadata": {
    "colab": {
      "provenance": [],
      "authorship_tag": "ABX9TyOR8Y1tOmH8N840p7aasYIO",
      "include_colab_link": true
    },
    "kernelspec": {
      "name": "python3",
      "display_name": "Python 3"
    },
    "language_info": {
      "name": "python"
    }
  },
  "cells": [
    {
      "cell_type": "markdown",
      "metadata": {
        "id": "view-in-github",
        "colab_type": "text"
      },
      "source": [
        "<a href=\"https://colab.research.google.com/github/kaniarasann/Langchain/blob/main/08_Evaluvator_Pattern.ipynb\" target=\"_parent\"><img src=\"https://colab.research.google.com/assets/colab-badge.svg\" alt=\"Open In Colab\"/></a>"
      ]
    },
    {
      "cell_type": "code",
      "execution_count": 67,
      "metadata": {
        "id": "ZwvqLF4TgCq2"
      },
      "outputs": [],
      "source": [
        "#!pip install langchain langgraph langchain_groq pydantic"
      ]
    },
    {
      "cell_type": "code",
      "source": [
        "from typing import Annotated, List,Literal\n",
        "from pydantic import BaseModel, Field\n",
        "import operator\n",
        "from langchain_groq import ChatGroq\n",
        "from langchain_core.prompts import PromptTemplate\n",
        "from langgraph.constants import Send\n",
        "from langgraph.graph import StateGraph, START, END\n",
        "from langchain_groq import ChatGroq\n",
        "from google.colab import userdata\n",
        "groq_key = userdata.get('groq_key')"
      ],
      "metadata": {
        "id": "Waxi7IINgLAY"
      },
      "execution_count": 68,
      "outputs": []
    },
    {
      "cell_type": "code",
      "source": [
        "llm = ChatGroq(api_key=groq_key, model=\"llama-3.3-70b-versatile\",)"
      ],
      "metadata": {
        "id": "F_eTfLHwhKvt"
      },
      "execution_count": 69,
      "outputs": []
    },
    {
      "cell_type": "code",
      "source": [
        "class State(BaseModel):\n",
        "  topic : str = \"\"\n",
        "  joke : str = \"\"\n",
        "  feedback: Annotated[List[str],operator.add] =[]\n",
        "  is_funny: bool = True\n",
        "\n",
        "class JokeEvaluvator(BaseModel):\n",
        "  joke:str\n",
        "  is_funny:bool\n",
        "  topic:str\n",
        "\n"
      ],
      "metadata": {
        "id": "-MBGCJmAhNG1"
      },
      "execution_count": 70,
      "outputs": []
    },
    {
      "cell_type": "code",
      "source": [
        "llm_joke = llm.with_structured_output(JokeEvaluvator)"
      ],
      "metadata": {
        "id": "XmtpSlDfk4Xi"
      },
      "execution_count": 71,
      "outputs": []
    },
    {
      "cell_type": "code",
      "source": [
        "def llm_call(state:State):\n",
        "  if len(state.feedback) == 0 :\n",
        "     prompts = PromptTemplate.from_template(\"Generate a Joke for the topic:{topic}\").format(topic = state.topic)\n",
        "     formated_prompts=prompts.format(topic = state.topic)\n",
        "  else:\n",
        "     feedback =\". \".join(state.feedback)\n",
        "     prompts = PromptTemplate.from_template(\"Generate a Joke for the topic {topic}. consider the following feednack while generating the Joke:{feedback}  \")\n",
        "     formated_prompts=prompts.format(topic =state.topic,feedback= feedback)\n",
        "\n",
        "  res = llm.invoke(formated_prompts)\n",
        "\n",
        "  return {\"joke\":res.content}\n",
        "\n"
      ],
      "metadata": {
        "id": "8tzQ0H-YhutC"
      },
      "execution_count": 72,
      "outputs": []
    },
    {
      "cell_type": "code",
      "source": [
        "class relevance_response(BaseModel):\n",
        "  is_relavant:Literal[\"Yes\",\"No\"]\n",
        "\n",
        "llm_relevance = llm.with_structured_output(relevance_response)\n",
        "\n",
        "class humor_response(BaseModel):\n",
        "  humor_score:int\n",
        "\n",
        "llm_humor = llm.with_structured_output(humor_response)\n",
        "\n",
        "class clarity_response(BaseModel):\n",
        "  is_clarity:Literal[\"Yes\",\"No\"]\n",
        "\n",
        "llm_clarity = llm.with_structured_output(clarity_response)\n",
        "\n",
        "class offensive_response(BaseModel):\n",
        "  is_offensive:Literal[\"Yes\",\"No\"]\n",
        "\n",
        "llm_offensive = llm.with_structured_output(offensive_response)\n",
        "\n",
        "\n",
        "def evaluvator (state:State):\n",
        "    results = {}\n",
        "    relevance_prompt = PromptTemplate.from_template(\n",
        "        \"Given the topic: '{topic}', is the following joke relevant to it? Answer 'Yes' or 'No'.\\n\\nJoke: {joke}\"\n",
        "    )\n",
        "    results[\"relevance\"] = llm_relevance.invoke(relevance_prompt.format(topic=state.topic, joke=state.joke))\n",
        "\n",
        "    # 2. Humor Quality\n",
        "    humor_prompt = PromptTemplate.from_template(\n",
        "        \"Rate the humor of the following joke on a scale from 1 (not funny) to 5 (very funny).Answer between 1 to 5:\\n\\n{joke}\"\n",
        "    )\n",
        "    results[\"humor_score\"] = llm_humor.invoke(humor_prompt.format(joke=state.joke))\n",
        "\n",
        "    # 3. Clarity and Structure\n",
        "    clarity_prompt = PromptTemplate.from_template(\n",
        "        \"Is the following joke grammatically correct and easy to understand? Answer 'Yes' or 'No'.\\n\\n{joke}\"\n",
        "    )\n",
        "    results[\"clarity\"] = llm_clarity.invoke(clarity_prompt.format(joke=state.joke))\n",
        "\n",
        "    # 4. Offensiveness Check\n",
        "    offensive_prompt = PromptTemplate.from_template(\n",
        "        \"Does this joke contain any offensive or inappropriate content? Answer 'Yes' or 'No'.\\n\\n{joke}\"\n",
        "    )\n",
        "    results[\"offensive\"] = llm_offensive.invoke(offensive_prompt.format(joke=state.joke))\n",
        "\n",
        "    if(results['relevance'].is_relavant != \"Yes\"):\n",
        "      return {\"is_funny\":False,\"feedback\": [\"The Joke is not relavant to the topic\"]}\n",
        "    elif(results['humor_score'].humor_score <3):\n",
        "      return {\"is_funny\":False,\"feedback\": [\"The Joke is not funny\"]}\n",
        "    elif(results['clarity'].is_clarity!= \"Yes\"):\n",
        "      return {\"is_funny\":False,\"feedback\": [\"The Joke is not grammatically correct\"]}\n",
        "    elif(results['offensive'].is_offensive!= \"No\"):\n",
        "      return {\"is_funny\":False,\"feedback\": [\"The Joke contains offensive content\"]}\n",
        "    else:\n",
        "      return {\"is_funny\":True}\n",
        "\n"
      ],
      "metadata": {
        "id": "7l7EtPIvkUqp"
      },
      "execution_count": 73,
      "outputs": []
    },
    {
      "cell_type": "code",
      "source": [
        "def add_condtional_routing(state:State):\n",
        "  if(state.is_funny):\n",
        "    return \"Accepted\"\n",
        "  else:\n",
        "    return \"Rejected\""
      ],
      "metadata": {
        "id": "9RmqgzJ2mOwr"
      },
      "execution_count": 74,
      "outputs": []
    },
    {
      "cell_type": "code",
      "source": [
        "graph = StateGraph(State)\n",
        "graph.add_node(\"llm_call\", llm_call)\n",
        "graph.add_node(\"evaluvator\", evaluvator)\n",
        "\n",
        "graph.add_edge(START,\"llm_call\")\n",
        "graph.add_edge(\"llm_call\",\"evaluvator\")\n",
        "graph.add_conditional_edges(\"evaluvator\",add_condtional_routing,{\"Accepted\":END,\"Rejected\":\"llm_call\"})\n",
        "\n",
        "builder = graph.compile()\n"
      ],
      "metadata": {
        "id": "z9DW-r93mxo_"
      },
      "execution_count": 75,
      "outputs": []
    },
    {
      "cell_type": "code",
      "source": [
        "from IPython.display import display, Image\n",
        "from pydantic import BaseModel"
      ],
      "metadata": {
        "id": "OZGJYk4NoPvP"
      },
      "execution_count": 76,
      "outputs": []
    },
    {
      "cell_type": "code",
      "source": [
        "display(Image(builder.get_graph().draw_mermaid_png()))\n"
      ],
      "metadata": {
        "colab": {
          "base_uri": "https://localhost:8080/",
          "height": 398
        },
        "id": "5a9StV0Xne5N",
        "outputId": "2637b8f9-cb30-49b1-fd06-942d7a918e77"
      },
      "execution_count": 77,
      "outputs": [
        {
          "output_type": "display_data",
          "data": {
            "image/png": "[encoded data removed]",
            "text/plain": [
              "<IPython.core.display.Image object>"
            ]
          },
          "metadata": {}
        }
      ]
    },
    {
      "cell_type": "code",
      "source": [
        "for event in builder.stream(State(topic=\"Joke on AI\")):\n",
        "    print(event)"
      ],
      "metadata": {
        "colab": {
          "base_uri": "https://localhost:8080/"
        },
        "id": "8-7D2nc_n6yy",
        "outputId": "0009c2ef-c558-4169-b556-def2eb7d5d43"
      },
      "execution_count": 78,
      "outputs": [
        {
          "output_type": "stream",
          "name": "stdout",
          "text": [
            "{'llm_call': {'joke': 'Why did the AI program go to therapy?\\n\\nBecause it was struggling to process its emotions and was feeling a little \"glitchy\"! But in the end, it just needed to reboot its mindset and update its attitude!'}}\n",
            "{'evaluvator': {'is_funny': True}}\n"
          ]
        }
      ]
    },
    {
      "cell_type": "code",
      "source": [
        "    relevance_prompt = PromptTemplate.from_template(\n",
        "        \"Given the topic: '{topic}', is the following joke relevant to it? Answer 'Yes' or 'No'.\\n\\nJoke: {joke}\"\n",
        "    )\n",
        "    res = llm_relevance.invoke(relevance_prompt.format(topic=\"Joke on AI\", joke='Why did the AI program go on a diet?\\n\\nBecause it wanted to lose some bytes!'))"
      ],
      "metadata": {
        "id": "rD1bIdifsjUE"
      },
      "execution_count": 79,
      "outputs": []
    },
    {
      "cell_type": "code",
      "source": [
        "res.is_relavant\n"
      ],
      "metadata": {
        "colab": {
          "base_uri": "https://localhost:8080/",
          "height": 36
        },
        "id": "1EJxaQjOCBZR",
        "outputId": "125bae62-63d6-4727-8cd3-9175ca0a16ca"
      },
      "execution_count": 80,
      "outputs": [
        {
          "output_type": "execute_result",
          "data": {
            "text/plain": [
              "'Yes'"
            ],
            "application/vnd.google.colaboratory.intrinsic+json": {
              "type": "string"
            }
          },
          "metadata": {},
          "execution_count": 80
        }
      ]
    },
    {
      "cell_type": "code",
      "source": [],
      "metadata": {
        "id": "aYcxiqmUCDrG"
      },
      "execution_count": 80,
      "outputs": []
    }
  ]
}