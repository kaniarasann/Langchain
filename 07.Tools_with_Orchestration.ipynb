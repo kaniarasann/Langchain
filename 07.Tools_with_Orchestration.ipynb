{
  "nbformat": 4,
  "nbformat_minor": 0,
  "metadata": {
    "colab": {
      "provenance": [],
      "authorship_tag": "ABX9TyMk8X3lW+pZP9/UMBc126lI",
      "include_colab_link": true
    },
    "kernelspec": {
      "name": "python3",
      "display_name": "Python 3"
    },
    "language_info": {
      "name": "python"
    }
  },
  "cells": [
    {
      "cell_type": "markdown",
      "metadata": {
        "id": "view-in-github",
        "colab_type": "text"
      },
      "source": [
        "<a href=\"https://colab.research.google.com/github/kaniarasann/Langchain/blob/main/07.Tools_with_Orchestration.ipynb\" target=\"_parent\"><img src=\"https://colab.research.google.com/assets/colab-badge.svg\" alt=\"Open In Colab\"/></a>"
      ]
    },
    {
      "cell_type": "code",
      "execution_count": 25,
      "metadata": {
        "id": "_ku_MX_n8RYy"
      },
      "outputs": [],
      "source": [
        "#!pip install langchain langgraph langchain_groq pydantic feedparser beautifulsoup4 langchain-community langchain-exa"
      ]
    },
    {
      "cell_type": "markdown",
      "source": [
        "Imports"
      ],
      "metadata": {
        "id": "7aFVrbq09PUV"
      }
    },
    {
      "cell_type": "code",
      "source": [
        "from pydantic import BaseModel,Field\n",
        "from datetime import datetime\n",
        "from dateutil import parser as dtparser\n",
        "import feedparser\n",
        "from langchain_groq import ChatGroq\n",
        "from google.colab import userdata\n",
        "from langchain_core.prompts import PromptTemplate\n",
        "from typing import List\n",
        "import operator\n",
        "from typing_extensions import Annotated\n",
        "from langchain_exa import ExaSearchResults\n",
        "from langgraph.constants import Send\n",
        "from langgraph.graph import StateGraph, START, END\n",
        "import re"
      ],
      "metadata": {
        "id": "vTUxBNcy9O7E"
      },
      "execution_count": 26,
      "outputs": []
    },
    {
      "cell_type": "markdown",
      "source": [
        "Get top 5 news from the economic times this can be achieved with the help of RSS Feed : https://economictimes.indiatimes.com/markets/rssfeeds/1977021501.cms"
      ],
      "metadata": {
        "id": "wVgvfPPm8r3n"
      }
    },
    {
      "cell_type": "code",
      "source": [
        "url = 'https://economictimes.indiatimes.com/markets/rssfeeds/1977021501.cms'"
      ],
      "metadata": {
        "id": "DtnX6xq191-7"
      },
      "execution_count": 27,
      "outputs": []
    },
    {
      "cell_type": "code",
      "source": [
        "# Class required for converting the Feed to pydantic class\n",
        "class EconomicTime(BaseModel):\n",
        "    title: str =''\n",
        "    link: str = ''\n",
        "    published: datetime =''\n",
        "    content :str =''"
      ],
      "metadata": {
        "id": "it4L88C78gcw"
      },
      "execution_count": 28,
      "outputs": []
    },
    {
      "cell_type": "code",
      "source": [
        "#feed parse the Url add the nessecary package\n",
        "feeds = feedparser.parse(url)"
      ],
      "metadata": {
        "id": "aEdCRu3W9hyY"
      },
      "execution_count": 29,
      "outputs": []
    },
    {
      "cell_type": "code",
      "source": [
        "#iterate through the first 5 feed\n",
        "economic_times:list[EconomicTime] = []\n",
        "for feed in feeds.entries[:5]:\n",
        "    economic_times.append(EconomicTime(\n",
        "        title = feed.title,\n",
        "        link = feed.link,\n",
        "        published = dtparser.parse(feed.published)\n",
        "\n",
        "    ))\n",
        ""
      ],
      "metadata": {
        "id": "d4QXS9rI94m2"
      },
      "execution_count": 30,
      "outputs": []
    },
    {
      "cell_type": "code",
      "source": [
        "economic_times"
      ],
      "metadata": {
        "id": "YpXsS4dogFkF",
        "outputId": "dbaffc15-031d-43a4-b208-bde3cc52ba7d",
        "colab": {
          "base_uri": "https://localhost:8080/"
        }
      },
      "execution_count": 31,
      "outputs": [
        {
          "output_type": "execute_result",
          "data": {
            "text/plain": [
              "[EconomicTime(title='Is momentum only about price? ICICI Prudential wants to redefine momentum investing', link='https://economictimes.indiatimes.com/markets/expert-view/is-momentum-only-about-price-icici-prudential-wants-to-redefine-momentum-investing/articleshow/122796495.cms', published=datetime.datetime(2025, 7, 20, 16, 18, 42, tzinfo=tzoffset(None, 19800)), content=''),\n",
              " EconomicTime(title='Apollo Tyres, Brigade Enterprises among 10 small-cap stocks trading below industry PE; may rally up to 43%', link='https://economictimes.indiatimes.com/markets/stocks/news/apollo-tyres-brigade-enterprises-among-10-small-cap-stocks-trading-below-industry-pe-may-rally-up-to-43/slideshow/122796421.cms', published=datetime.datetime(2025, 7, 20, 15, 58, 41, tzinfo=tzoffset(None, 19800)), content=''),\n",
              " EconomicTime(title='How to Calculate Dividend Yield: A key metric for income investors', link='https://economictimes.indiatimes.com/markets/stocks/news/how-to-calculate-dividend-yield-a-key-metric-for-income-investors/slideshow/122796207.cms', published=datetime.datetime(2025, 7, 20, 15, 43, 57, tzinfo=tzoffset(None, 19800)), content=''),\n",
              " EconomicTime(title='Will meaningful profit growth continue to elude Corporate India?', link='https://economictimes.indiatimes.com/markets/stocks/news/will-meaningful-profit-growth-continue-to-elude-corporate-india/articleshow/122795893.cms', published=datetime.datetime(2025, 7, 20, 15, 13, 51, tzinfo=tzoffset(None, 19800)), content=''),\n",
              " EconomicTime(title='Eternal Q1 Results Preview: PAT may fall up to 70% YoY amid margin hit. 5 things to watch out for', link='https://economictimes.indiatimes.com/markets/stocks/earnings/eternal-q1-results-preview-pat-may-fall-yoy-up-to-70-amid-margin-hit-5-things-to-watch-out-for/articleshow/122795814.cms', published=datetime.datetime(2025, 7, 20, 14, 59, 41, tzinfo=tzoffset(None, 19800)), content='')]"
            ]
          },
          "metadata": {},
          "execution_count": 31
        }
      ]
    },
    {
      "cell_type": "code",
      "source": [
        "#get the content by using beautiful soup\n",
        "from bs4 import BeautifulSoup\n",
        "import requests\n",
        "\n",
        "for news in economic_times:\n",
        "    headers = {\"User-Agent\": \"Mozilla/5.0\"}\n",
        "    response = requests.get(news.link, headers=headers)\n",
        "    soup = BeautifulSoup(response.text, 'html.parser')\n",
        "    article_div = soup.find(\"article\")\n",
        "    if article_div is None:\n",
        "        continue\n",
        "    article_text = article_div.get_text(strip=True)\n",
        "    news.content = article_text"
      ],
      "metadata": {
        "id": "npSW6JNE95MF"
      },
      "execution_count": 32,
      "outputs": []
    },
    {
      "cell_type": "code",
      "source": [
        "#create LLM\n",
        "groq_key = userdata.get('groq_key')\n",
        "llm = ChatGroq(api_key=groq_key, model=\"qwen/qwen3-32b\",max_retries=5)\n",
        "llm_reasoning = ChatGroq(api_key=groq_key, model=\"meta-llama/llama-4-scout-17b-16e-instruct\",max_retries=5)\n",
        "llm_deep_seek = ChatGroq(api_key=groq_key, model=\"deepseek-r1-distill-llama-70b\",max_retries=5)\n",
        "search_tool = ExaSearchResults(exa_api_key= userdata.get('exa_api_key'))\n"
      ],
      "metadata": {
        "id": "HDs6EXEm_Ovq"
      },
      "execution_count": 33,
      "outputs": []
    },
    {
      "cell_type": "code",
      "source": [
        "class Stock(BaseModel):\n",
        "    name: str = Field(description=\"Name of the stock\")\n",
        "    news_abstract: str = Field(description=\"Abstract of the news article related to the stock\")"
      ],
      "metadata": {
        "id": "NyEaazA-_md-"
      },
      "execution_count": 34,
      "outputs": []
    },
    {
      "cell_type": "code",
      "source": [
        "llm_stock_news = llm.with_structured_output(Stock)"
      ],
      "metadata": {
        "id": "tVTLlrcXBOBz"
      },
      "execution_count": 35,
      "outputs": []
    },
    {
      "cell_type": "code",
      "source": [
        "stock_news:list[Stock] = []\n",
        "def abstract_stock_new(news):\n",
        "  prompt_stock = PromptTemplate.from_template(\"Following is the news:{news}. provide the company name and abstract news \").format(news=news.content)\n",
        "  return llm_stock_news.invoke(prompt_stock)\n",
        "\n",
        "for news in economic_times[:1]:\n",
        "  stock_news.append(abstract_stock_new(news))\n"
      ],
      "metadata": {
        "id": "h-s_cSn5_9eM"
      },
      "execution_count": 36,
      "outputs": []
    },
    {
      "cell_type": "code",
      "source": [
        "#Create State\n",
        "class State(BaseModel):\n",
        "    company_name: str = Field(description=\"Name of the company\")\n",
        "    news_abstract: str = Field(description=\"Abstract of the news article related to the company\")\n",
        "    queries:List[str] = []\n",
        "    completed_queries: Annotated[List[str], operator.add] = []\n",
        "    final_result: str = ''\n",
        "\n",
        "class Query(BaseModel):\n",
        "   query:str = ''\n",
        "\n",
        "class Queries(BaseModel):\n",
        "  queries:List[str] = []"
      ],
      "metadata": {
        "id": "hq4zmR3DB3ZN"
      },
      "execution_count": 37,
      "outputs": []
    },
    {
      "cell_type": "code",
      "source": [
        "#Worker State\n",
        "class WorkerState(BaseModel):\n",
        "    queries: str = ''\n",
        "    completed_queries: Annotated[List[str], operator.add] = []"
      ],
      "metadata": {
        "id": "LYQiPU5zB3XB"
      },
      "execution_count": 38,
      "outputs": []
    },
    {
      "cell_type": "code",
      "source": [
        "llm_queries = llm_reasoning.with_structured_output(Queries)\n",
        "def orchestrator(state:State):\n",
        "  promot_template = PromptTemplate.from_template(\"Your are Stock Market expert. Based on the following news list out the impacts in short / long:{news}\").format(news=state.news_abstract)\n",
        "  res = llm_queries.invoke(promot_template)\n",
        "  return {'queries':res.queries}\n",
        "\n",
        "def llm_call(query):\n",
        "    \"\"\"Worker queries web for queries\"\"\"\n",
        "    search_results = search_tool._run(\n",
        "          query=query['query'],\n",
        "          num_results=1,\n",
        "          text_contents_options=True,\n",
        "          highlights=True,\n",
        "      )\n",
        "    prompt_stock = PromptTemplate.from_template(\"Following is the news:{news}. provide the abstract\").format(news=search_results)\n",
        "    res_abs = llm.invoke(prompt_stock)\n",
        "    return {'completed_queries':[remove_think_blocks(res_abs.content)]} # Wrap the content in a list\n",
        "\n",
        "def assign_workers(state: State):\n",
        "    return [Send(\"llm_call\", {\"query\": s}) for s in state.queries]\n",
        "\n",
        "def synthesizer(state: State):\n",
        "    body = \"\".join(state.completed_queries)\n",
        "    promot_template = PromptTemplate.from_template(\"Your are Stock Market expert.Provide an abstract on the following news and do a analysis:{news}\").format(news=body)\n",
        "    res = llm_deep_seek.invoke(promot_template)\n",
        "    return {\"final_result\": remove_think_blocks(res.content)}\n",
        "\n",
        "def remove_think_blocks(text: str) -> str:\n",
        "    # This pattern removes everything between <think> and </think>, including the tags\n",
        "    return re.sub(r\"<think>.*?</think>\", \"\", text, flags=re.DOTALL).strip()\n"
      ],
      "metadata": {
        "id": "KtJrxTWGD1Zy"
      },
      "execution_count": 39,
      "outputs": []
    },
    {
      "cell_type": "code",
      "source": [
        "graph = StateGraph(State)\n",
        "graph.add_node(\"orchestration\", orchestrator)\n",
        "graph.add_node(\"llm_call\", llm_call)\n",
        "graph.add_node(\"synthesizer\", synthesizer)\n",
        "\n",
        "graph.add_edge(START, \"orchestration\")\n",
        "graph.add_conditional_edges(\"orchestration\", assign_workers, [\"llm_call\"])\n",
        "graph.add_edge(\"llm_call\", \"synthesizer\")\n",
        "graph.add_edge(\"synthesizer\", END)\n",
        "\n",
        "builder = graph.compile()"
      ],
      "metadata": {
        "id": "MrPuJTdNiPiC"
      },
      "execution_count": 40,
      "outputs": []
    },
    {
      "cell_type": "code",
      "source": [
        "#state = State(company_name=\"TCS\",news_abstract=)\n",
        "selector = stock_news[0]\n",
        "state = State(company_name=selector.name,news_abstract=selector.news_abstract)"
      ],
      "metadata": {
        "id": "_pzbCPCHzeAa"
      },
      "execution_count": 41,
      "outputs": []
    },
    {
      "cell_type": "code",
      "source": [
        "res_date = builder.invoke(state)\n"
      ],
      "metadata": {
        "id": "qvlg1k9C0v3D"
      },
      "execution_count": 42,
      "outputs": []
    },
    {
      "cell_type": "code",
      "source": [
        "res_date"
      ],
      "metadata": {
        "colab": {
          "base_uri": "https://localhost:8080/"
        },
        "id": "aFwdjxpd1ANB",
        "outputId": "198299f2-1c15-4caa-a9b3-12a54a85a949"
      },
      "execution_count": 43,
      "outputs": [
        {
          "output_type": "execute_result",
          "data": {
            "text/plain": [
              "{'company_name': 'ICICI Prudential Active Momentum Fund',\n",
              " 'news_abstract': 'ICICI Prudential AMC has launched the Active Momentum Fund, focusing on earnings momentum rather than stock price trends. Managed by Manasvi Shah, the strategy prioritizes sustainable earnings growth to drive intrinsic value, aiming to avoid sentiment-driven market volatility. The fund employs a cycle-agnostic approach, blending bottom-up and top-down methods to diversify across sectors and market caps. It targets long-term alpha by leveraging earnings revisions, maintaining flexibility to adapt to macro events, and controlling turnover through stability in earnings-focused selections. The benchmark is the Nifty 500, reflecting its capitalization-agnostic stance.',\n",
              " 'queries': ['ICICI Prudential Active Momentum Fund short-term impact',\n",
              "  'ICICI Prudential Active Momentum Fund long-term impact'],\n",
              " 'completed_queries': ['**Abstract:**  \\nICICI Prudential AMC’s newly launched **Active Momentum Fund** redefines traditional momentum investing by prioritizing **earnings momentum** over price trends. Designed as an \"all-weather equity strategy,\" the fund targets sustainable value by identifying companies and sectors with strengthening earnings trajectories, leveraging a cycle-agnostic, research-driven approach. Unlike conventional price-chasing strategies vulnerable to market sentiment, this fund focuses on intrinsic value drivers, differentiating between durable earnings growth and short-lived market hype. It employs a blend of bottom-up and top-down analysis to mitigate sector overexposure, while maintaining flexibility across market capitalizations (large, mid, small caps) to capitalize on earnings momentum wherever it emerges. The strategy emphasizes long-term alpha generation through disciplined stock selection, controlled portfolio turnover, and adaptive cash allocation to manage drawdowns during market corrections. By anchoring decisions to earnings revisions and macroeconomic triggers, the fund aims to deliver consistent performance across market cycles, challenging the dominance of sentiment-driven momentum investing in India’s mutual fund landscape.',\n",
              "  '**Abstract:**  \\nICICI Prudential AMC’s newly launched Active Momentum Fund redefines traditional momentum investing by prioritizing **earnings momentum** over price trends, aiming to capture sustainable value through companies with strengthening earnings trajectories. Unlike conventional strategies that chase rising stock prices and market sentiment, this fund employs a **cycle-agnostic, research-driven approach** to identify firms with durable earnings growth, mitigating risks tied to speculative market hype. The strategy blends bottom-up stock analysis with top-down sector insights, maintaining diversification across market capitalizations (large, mid, small caps) and avoiding high concentration. By focusing on fundamental earnings revisions rather than volatile price movements, the fund seeks long-term alpha while managing drawdowns through strategic cash allocation. Positioning itself as an \"all-weather equity strategy,\" it adapts to macroeconomic shifts and sectoral shifts, offering a novel framework in India’s mutual fund landscape. The approach emphasizes stability, lower turnover, and resilience during corrections, marking a potential evolution in momentum investing.'],\n",
              " 'final_result': '**Final Answer:**\\n\\nThe ICICI Prudential AMC\\'s Active Momentum Fund introduces a novel approach to momentum investing by focusing on earnings growth rather than price trends, aiming to deliver sustainable value across various market conditions. This \"all-weather\" strategy employs a cycle-agnostic approach, analyzing both individual companies (bottom-up) and broader economic trends (top-down) to identify growth opportunities across all market capitalizations. By emphasizing earnings revisions and macroeconomic factors, the fund seeks to generate long-term alpha with controlled portfolio turnover and adaptive cash allocation, mitigating risks during market downturns. While it offers a promising, diversified strategy, challenges include the potential for earnings growth not translating to market recognition and the lack of a long-term track record. This fund is ideal for investors seeking a stable, research-driven investment approach.'}"
            ]
          },
          "metadata": {},
          "execution_count": 43
        }
      ]
    },
    {
      "cell_type": "code",
      "source": [],
      "metadata": {
        "id": "bHf1wMwU8bCE"
      },
      "execution_count": 43,
      "outputs": []
    }
  ]
}