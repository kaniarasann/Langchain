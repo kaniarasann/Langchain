{
  "nbformat": 4,
  "nbformat_minor": 0,
  "metadata": {
    "colab": {
      "provenance": [],
      "authorship_tag": "ABX9TyPADm+zelhdzvKTk09O9AVv",
      "include_colab_link": true
    },
    "kernelspec": {
      "name": "python3",
      "display_name": "Python 3"
    },
    "language_info": {
      "name": "python"
    }
  },
  "cells": [
    {
      "cell_type": "markdown",
      "metadata": {
        "id": "view-in-github",
        "colab_type": "text"
      },
      "source": [
        "<a href=\"https://colab.research.google.com/github/kaniarasann/Langchain/blob/main/02_LangGraph_Tool.ipynb\" target=\"_parent\"><img src=\"https://colab.research.google.com/assets/colab-badge.svg\" alt=\"Open In Colab\"/></a>"
      ]
    },
    {
      "cell_type": "code",
      "execution_count": 91,
      "metadata": {
        "id": "hIregihOnUt7",
        "colab": {
          "base_uri": "https://localhost:8080/"
        },
        "outputId": "b4b6cfa9-c8f2-4d16-dfe6-ece84fe51311"
      },
      "outputs": [
        {
          "output_type": "stream",
          "name": "stdout",
          "text": [
            "Requirement already satisfied: langchain in /usr/local/lib/python3.11/dist-packages (from -r requirement.txt (line 1)) (0.3.26)\n",
            "Requirement already satisfied: langgraph in /usr/local/lib/python3.11/dist-packages (from -r requirement.txt (line 2)) (0.5.2)\n",
            "Requirement already satisfied: langchain-community in /usr/local/lib/python3.11/dist-packages (from -r requirement.txt (line 3)) (0.3.27)\n",
            "Requirement already satisfied: langchain-groq in /usr/local/lib/python3.11/dist-packages (from -r requirement.txt (line 4)) (0.3.6)\n",
            "Requirement already satisfied: langchain-core<1.0.0,>=0.3.66 in /usr/local/lib/python3.11/dist-packages (from langchain->-r requirement.txt (line 1)) (0.3.68)\n",
            "Requirement already satisfied: langchain-text-splitters<1.0.0,>=0.3.8 in /usr/local/lib/python3.11/dist-packages (from langchain->-r requirement.txt (line 1)) (0.3.8)\n",
            "Requirement already satisfied: langsmith>=0.1.17 in /usr/local/lib/python3.11/dist-packages (from langchain->-r requirement.txt (line 1)) (0.4.4)\n",
            "Requirement already satisfied: pydantic<3.0.0,>=2.7.4 in /usr/local/lib/python3.11/dist-packages (from langchain->-r requirement.txt (line 1)) (2.11.7)\n",
            "Requirement already satisfied: SQLAlchemy<3,>=1.4 in /usr/local/lib/python3.11/dist-packages (from langchain->-r requirement.txt (line 1)) (2.0.41)\n",
            "Requirement already satisfied: requests<3,>=2 in /usr/local/lib/python3.11/dist-packages (from langchain->-r requirement.txt (line 1)) (2.32.3)\n",
            "Requirement already satisfied: PyYAML>=5.3 in /usr/local/lib/python3.11/dist-packages (from langchain->-r requirement.txt (line 1)) (6.0.2)\n",
            "Requirement already satisfied: langgraph-checkpoint<3.0.0,>=2.1.0 in /usr/local/lib/python3.11/dist-packages (from langgraph->-r requirement.txt (line 2)) (2.1.0)\n",
            "Requirement already satisfied: langgraph-prebuilt<0.6.0,>=0.5.0 in /usr/local/lib/python3.11/dist-packages (from langgraph->-r requirement.txt (line 2)) (0.5.2)\n",
            "Requirement already satisfied: langgraph-sdk<0.2.0,>=0.1.42 in /usr/local/lib/python3.11/dist-packages (from langgraph->-r requirement.txt (line 2)) (0.1.72)\n",
            "Requirement already satisfied: xxhash>=3.5.0 in /usr/local/lib/python3.11/dist-packages (from langgraph->-r requirement.txt (line 2)) (3.5.0)\n",
            "Requirement already satisfied: aiohttp<4.0.0,>=3.8.3 in /usr/local/lib/python3.11/dist-packages (from langchain-community->-r requirement.txt (line 3)) (3.11.15)\n",
            "Requirement already satisfied: tenacity!=8.4.0,<10,>=8.1.0 in /usr/local/lib/python3.11/dist-packages (from langchain-community->-r requirement.txt (line 3)) (8.5.0)\n",
            "Requirement already satisfied: dataclasses-json<0.7,>=0.5.7 in /usr/local/lib/python3.11/dist-packages (from langchain-community->-r requirement.txt (line 3)) (0.6.7)\n",
            "Requirement already satisfied: pydantic-settings<3.0.0,>=2.4.0 in /usr/local/lib/python3.11/dist-packages (from langchain-community->-r requirement.txt (line 3)) (2.10.1)\n",
            "Requirement already satisfied: httpx-sse<1.0.0,>=0.4.0 in /usr/local/lib/python3.11/dist-packages (from langchain-community->-r requirement.txt (line 3)) (0.4.1)\n",
            "Requirement already satisfied: numpy>=1.26.2 in /usr/local/lib/python3.11/dist-packages (from langchain-community->-r requirement.txt (line 3)) (2.0.2)\n",
            "Requirement already satisfied: groq<1,>=0.29.0 in /usr/local/lib/python3.11/dist-packages (from langchain-groq->-r requirement.txt (line 4)) (0.30.0)\n",
            "Requirement already satisfied: aiohappyeyeballs>=2.3.0 in /usr/local/lib/python3.11/dist-packages (from aiohttp<4.0.0,>=3.8.3->langchain-community->-r requirement.txt (line 3)) (2.6.1)\n",
            "Requirement already satisfied: aiosignal>=1.1.2 in /usr/local/lib/python3.11/dist-packages (from aiohttp<4.0.0,>=3.8.3->langchain-community->-r requirement.txt (line 3)) (1.4.0)\n",
            "Requirement already satisfied: attrs>=17.3.0 in /usr/local/lib/python3.11/dist-packages (from aiohttp<4.0.0,>=3.8.3->langchain-community->-r requirement.txt (line 3)) (25.3.0)\n",
            "Requirement already satisfied: frozenlist>=1.1.1 in /usr/local/lib/python3.11/dist-packages (from aiohttp<4.0.0,>=3.8.3->langchain-community->-r requirement.txt (line 3)) (1.7.0)\n",
            "Requirement already satisfied: multidict<7.0,>=4.5 in /usr/local/lib/python3.11/dist-packages (from aiohttp<4.0.0,>=3.8.3->langchain-community->-r requirement.txt (line 3)) (6.6.3)\n",
            "Requirement already satisfied: propcache>=0.2.0 in /usr/local/lib/python3.11/dist-packages (from aiohttp<4.0.0,>=3.8.3->langchain-community->-r requirement.txt (line 3)) (0.3.2)\n",
            "Requirement already satisfied: yarl<2.0,>=1.17.0 in /usr/local/lib/python3.11/dist-packages (from aiohttp<4.0.0,>=3.8.3->langchain-community->-r requirement.txt (line 3)) (1.20.1)\n",
            "Requirement already satisfied: marshmallow<4.0.0,>=3.18.0 in /usr/local/lib/python3.11/dist-packages (from dataclasses-json<0.7,>=0.5.7->langchain-community->-r requirement.txt (line 3)) (3.26.1)\n",
            "Requirement already satisfied: typing-inspect<1,>=0.4.0 in /usr/local/lib/python3.11/dist-packages (from dataclasses-json<0.7,>=0.5.7->langchain-community->-r requirement.txt (line 3)) (0.9.0)\n",
            "Requirement already satisfied: anyio<5,>=3.5.0 in /usr/local/lib/python3.11/dist-packages (from groq<1,>=0.29.0->langchain-groq->-r requirement.txt (line 4)) (4.9.0)\n",
            "Requirement already satisfied: distro<2,>=1.7.0 in /usr/local/lib/python3.11/dist-packages (from groq<1,>=0.29.0->langchain-groq->-r requirement.txt (line 4)) (1.9.0)\n",
            "Requirement already satisfied: httpx<1,>=0.23.0 in /usr/local/lib/python3.11/dist-packages (from groq<1,>=0.29.0->langchain-groq->-r requirement.txt (line 4)) (0.28.1)\n",
            "Requirement already satisfied: sniffio in /usr/local/lib/python3.11/dist-packages (from groq<1,>=0.29.0->langchain-groq->-r requirement.txt (line 4)) (1.3.1)\n",
            "Requirement already satisfied: typing-extensions<5,>=4.10 in /usr/local/lib/python3.11/dist-packages (from groq<1,>=0.29.0->langchain-groq->-r requirement.txt (line 4)) (4.14.1)\n",
            "Requirement already satisfied: jsonpatch<2.0,>=1.33 in /usr/local/lib/python3.11/dist-packages (from langchain-core<1.0.0,>=0.3.66->langchain->-r requirement.txt (line 1)) (1.33)\n",
            "Requirement already satisfied: packaging<25,>=23.2 in /usr/local/lib/python3.11/dist-packages (from langchain-core<1.0.0,>=0.3.66->langchain->-r requirement.txt (line 1)) (24.2)\n",
            "Requirement already satisfied: ormsgpack>=1.10.0 in /usr/local/lib/python3.11/dist-packages (from langgraph-checkpoint<3.0.0,>=2.1.0->langgraph->-r requirement.txt (line 2)) (1.10.0)\n",
            "Requirement already satisfied: orjson>=3.10.1 in /usr/local/lib/python3.11/dist-packages (from langgraph-sdk<0.2.0,>=0.1.42->langgraph->-r requirement.txt (line 2)) (3.10.18)\n",
            "Requirement already satisfied: requests-toolbelt<2.0.0,>=1.0.0 in /usr/local/lib/python3.11/dist-packages (from langsmith>=0.1.17->langchain->-r requirement.txt (line 1)) (1.0.0)\n",
            "Requirement already satisfied: zstandard<0.24.0,>=0.23.0 in /usr/local/lib/python3.11/dist-packages (from langsmith>=0.1.17->langchain->-r requirement.txt (line 1)) (0.23.0)\n",
            "Requirement already satisfied: annotated-types>=0.6.0 in /usr/local/lib/python3.11/dist-packages (from pydantic<3.0.0,>=2.7.4->langchain->-r requirement.txt (line 1)) (0.7.0)\n",
            "Requirement already satisfied: pydantic-core==2.33.2 in /usr/local/lib/python3.11/dist-packages (from pydantic<3.0.0,>=2.7.4->langchain->-r requirement.txt (line 1)) (2.33.2)\n",
            "Requirement already satisfied: typing-inspection>=0.4.0 in /usr/local/lib/python3.11/dist-packages (from pydantic<3.0.0,>=2.7.4->langchain->-r requirement.txt (line 1)) (0.4.1)\n",
            "Requirement already satisfied: python-dotenv>=0.21.0 in /usr/local/lib/python3.11/dist-packages (from pydantic-settings<3.0.0,>=2.4.0->langchain-community->-r requirement.txt (line 3)) (1.1.1)\n",
            "Requirement already satisfied: charset-normalizer<4,>=2 in /usr/local/lib/python3.11/dist-packages (from requests<3,>=2->langchain->-r requirement.txt (line 1)) (3.4.2)\n",
            "Requirement already satisfied: idna<4,>=2.5 in /usr/local/lib/python3.11/dist-packages (from requests<3,>=2->langchain->-r requirement.txt (line 1)) (3.10)\n",
            "Requirement already satisfied: urllib3<3,>=1.21.1 in /usr/local/lib/python3.11/dist-packages (from requests<3,>=2->langchain->-r requirement.txt (line 1)) (2.4.0)\n",
            "Requirement already satisfied: certifi>=2017.4.17 in /usr/local/lib/python3.11/dist-packages (from requests<3,>=2->langchain->-r requirement.txt (line 1)) (2025.7.9)\n",
            "Requirement already satisfied: greenlet>=1 in /usr/local/lib/python3.11/dist-packages (from SQLAlchemy<3,>=1.4->langchain->-r requirement.txt (line 1)) (3.2.3)\n",
            "Requirement already satisfied: httpcore==1.* in /usr/local/lib/python3.11/dist-packages (from httpx<1,>=0.23.0->groq<1,>=0.29.0->langchain-groq->-r requirement.txt (line 4)) (1.0.9)\n",
            "Requirement already satisfied: h11>=0.16 in /usr/local/lib/python3.11/dist-packages (from httpcore==1.*->httpx<1,>=0.23.0->groq<1,>=0.29.0->langchain-groq->-r requirement.txt (line 4)) (0.16.0)\n",
            "Requirement already satisfied: jsonpointer>=1.9 in /usr/local/lib/python3.11/dist-packages (from jsonpatch<2.0,>=1.33->langchain-core<1.0.0,>=0.3.66->langchain->-r requirement.txt (line 1)) (3.0.0)\n",
            "Requirement already satisfied: mypy-extensions>=0.3.0 in /usr/local/lib/python3.11/dist-packages (from typing-inspect<1,>=0.4.0->dataclasses-json<0.7,>=0.5.7->langchain-community->-r requirement.txt (line 3)) (1.1.0)\n"
          ]
        }
      ],
      "source": [
        "!pip install -r requirement.txt"
      ]
    },
    {
      "cell_type": "markdown",
      "source": [
        "Tool Management"
      ],
      "metadata": {
        "id": "T8gdTovjokeO"
      }
    },
    {
      "cell_type": "code",
      "source": [
        "def add_two_number(a:int,b:int) -> int:\n",
        "    \"\"\"\n",
        "    This function add two numbers\n",
        "\n",
        "    Args:\n",
        "        a (int): Paramater a of type int\n",
        "        b (int): Paramater b of type int\n",
        "\n",
        "    Returns:\n",
        "        int: Sum of two valus\n",
        "    \"\"\"\n",
        "    int_a = int(a)\n",
        "    int_b = int(b)\n",
        "\n",
        "    return int_a+int_b"
      ],
      "metadata": {
        "id": "rnPBIlq5oqHd"
      },
      "execution_count": 92,
      "outputs": []
    },
    {
      "cell_type": "markdown",
      "source": [
        "Model"
      ],
      "metadata": {
        "id": "uSJS6Mk7sUKU"
      }
    },
    {
      "cell_type": "code",
      "source": [
        "from langchain_core.messages import AnyMessage\n",
        "from langgraph.graph.message import add_messages\n",
        "from typing_extensions import TypedDict,Annotated\n",
        "\n",
        "class State(TypedDict):\n",
        "    messages:Annotated[list[AnyMessage],add_messages]"
      ],
      "metadata": {
        "id": "0YfImd4ksS5C"
      },
      "execution_count": 93,
      "outputs": []
    },
    {
      "cell_type": "markdown",
      "source": [
        "LLM With Tools"
      ],
      "metadata": {
        "id": "J53j0U-tpKVt"
      }
    },
    {
      "cell_type": "code",
      "source": [
        "from langchain_groq import ChatGroq\n",
        "from google.colab import userdata\n",
        "\n",
        "llm = ChatGroq(\n",
        "    model=\"deepseek-r1-distill-llama-70b\",\n",
        "    api_key= userdata.get(\"groq_key\")\n",
        ")\n",
        "\n",
        "llm_bind_tools = llm.bind_tools([add_two_number])"
      ],
      "metadata": {
        "id": "XXASsEjIpccS"
      },
      "execution_count": 94,
      "outputs": []
    },
    {
      "cell_type": "markdown",
      "source": [
        "Invoke LLM"
      ],
      "metadata": {
        "id": "faOBHqwSqHlS"
      }
    },
    {
      "cell_type": "code",
      "source": [
        "invoke_llm = llm_bind_tools.invoke(\"add two_numbe 2 and 5\")"
      ],
      "metadata": {
        "id": "_qVfFwr5q-GS"
      },
      "execution_count": 95,
      "outputs": []
    },
    {
      "cell_type": "code",
      "source": [
        "invoke_llm.tool_calls"
      ],
      "metadata": {
        "colab": {
          "base_uri": "https://localhost:8080/"
        },
        "id": "BTzR6DfoteIb",
        "outputId": "22e8b323-c49e-4202-e0c5-2f99d8d304ef"
      },
      "execution_count": 96,
      "outputs": [
        {
          "output_type": "execute_result",
          "data": {
            "text/plain": [
              "[{'name': 'add_two_number',\n",
              "  'args': {'a': 2, 'b': 5},\n",
              "  'id': 'bxd0mwg7g',\n",
              "  'type': 'tool_call'}]"
            ]
          },
          "metadata": {},
          "execution_count": 96
        }
      ]
    },
    {
      "cell_type": "markdown",
      "source": [
        "LangGraph Tool Calling"
      ],
      "metadata": {
        "id": "JQuwUwGkt8ba"
      }
    },
    {
      "cell_type": "code",
      "source": [
        "def llm_tool_calling(state: State) -> State:\n",
        "    \"\"\"\n",
        "    This function is called to invoke the LLM with tools.\n",
        "\n",
        "    :param state: The current state containing messages\n",
        "    :return: Updated state with the response from the LLM\n",
        "    \"\"\"\n",
        "    response = llm_bind_tools.invoke(state[\"messages\"])\n",
        "    state[\"messages\"].append(response)\n",
        "    return state"
      ],
      "metadata": {
        "id": "a7Wr5F10wPVk"
      },
      "execution_count": 97,
      "outputs": []
    },
    {
      "cell_type": "code",
      "source": [
        "from langgraph.graph import StateGraph, START, END\n",
        "from langgraph.prebuilt import ToolNode\n",
        "from langgraph.prebuilt import tools_condition"
      ],
      "metadata": {
        "id": "BVUSww6muF21"
      },
      "execution_count": 98,
      "outputs": []
    },
    {
      "cell_type": "code",
      "source": [
        "graph = StateGraph(State)"
      ],
      "metadata": {
        "id": "KpbAhxBXvpfM"
      },
      "execution_count": 99,
      "outputs": []
    },
    {
      "cell_type": "code",
      "source": [
        "graph.add_node(\"llm\", llm_tool_calling)\n",
        "graph.add_node(\"tools\", ToolNode(tools=[add_two_number]))"
      ],
      "metadata": {
        "colab": {
          "base_uri": "https://localhost:8080/"
        },
        "id": "hp-GGpG_v3jf",
        "outputId": "8ba5ab6a-d129-44e2-a4c3-6a425b1280f6"
      },
      "execution_count": 100,
      "outputs": [
        {
          "output_type": "execute_result",
          "data": {
            "text/plain": [
              "<langgraph.graph.state.StateGraph at 0x7d4b31c95150>"
            ]
          },
          "metadata": {},
          "execution_count": 100
        }
      ]
    },
    {
      "cell_type": "code",
      "source": [
        "graph.add_edge(START, \"llm\")\n",
        "graph.add_conditional_edges(\"llm\", tools_condition)\n",
        "graph.add_edge(\"tools\", END)"
      ],
      "metadata": {
        "colab": {
          "base_uri": "https://localhost:8080/"
        },
        "id": "rNYXvdX_wcTB",
        "outputId": "97cda8a2-742c-42a3-c4f1-bb3c6c1a7d04"
      },
      "execution_count": 101,
      "outputs": [
        {
          "output_type": "execute_result",
          "data": {
            "text/plain": [
              "<langgraph.graph.state.StateGraph at 0x7d4b31c95150>"
            ]
          },
          "metadata": {},
          "execution_count": 101
        }
      ]
    },
    {
      "cell_type": "code",
      "source": [
        "graph_builder = graph.compile()"
      ],
      "metadata": {
        "id": "4TtRmyyYww5D"
      },
      "execution_count": 102,
      "outputs": []
    },
    {
      "cell_type": "markdown",
      "source": [
        "Print and verify the created Graph"
      ],
      "metadata": {
        "id": "10NID0LUw5U3"
      }
    },
    {
      "cell_type": "code",
      "source": [
        "from IPython.display import display, Image\n",
        "display(Image(graph_builder.get_graph().draw_mermaid_png()))"
      ],
      "metadata": {
        "colab": {
          "base_uri": "https://localhost:8080/",
          "height": 350
        },
        "id": "_xaQmX1jw8l3",
        "outputId": "5317bfc1-d16b-450c-d749-e4b8c11eb603"
      },
      "execution_count": 103,
      "outputs": [
        {
          "output_type": "display_data",
          "data": {
            "image/png": "[encoded data removed]",
            "text/plain": [
              "<IPython.core.display.Image object>"
            ]
          },
          "metadata": {}
        }
      ]
    },
    {
      "cell_type": "markdown",
      "source": [
        "Invoke LLM"
      ],
      "metadata": {
        "id": "4wLKUdX4xbDT"
      }
    },
    {
      "cell_type": "code",
      "source": [
        "from langchain_core.messages import HumanMessage, SystemMessage,AIMessage\n",
        "state = State(messages= HumanMessage(content=\"Add two number 2 and 5\"))"
      ],
      "metadata": {
        "id": "_cEMYMwTxcql"
      },
      "execution_count": 104,
      "outputs": []
    },
    {
      "cell_type": "code",
      "source": [
        "output = graph_builder.invoke(state)"
      ],
      "metadata": {
        "id": "JMNxIscrxrPu"
      },
      "execution_count": 105,
      "outputs": []
    },
    {
      "cell_type": "code",
      "source": [
        "import pprint\n",
        "for msg in output['messages']:\n",
        "     msg.pretty_print()"
      ],
      "metadata": {
        "colab": {
          "base_uri": "https://localhost:8080/"
        },
        "id": "D4h2AE9bxwK8",
        "outputId": "e71843fb-a9dd-4b31-e353-ab553ff61675"
      },
      "execution_count": 106,
      "outputs": [
        {
          "output_type": "stream",
          "name": "stdout",
          "text": [
            "================================\u001b[1m Human Message \u001b[0m=================================\n",
            "\n",
            "Add two number 2 and 5\n",
            "==================================\u001b[1m Ai Message \u001b[0m==================================\n",
            "Tool Calls:\n",
            "  add_two_number (sc1zmas01)\n",
            " Call ID: sc1zmas01\n",
            "  Args:\n",
            "    a: 2\n",
            "    b: 5\n",
            "=================================\u001b[1m Tool Message \u001b[0m=================================\n",
            "Name: add_two_number\n",
            "\n",
            "7\n"
          ]
        }
      ]
    },
    {
      "cell_type": "markdown",
      "source": [
        "We can also chain one or more tools togethor"
      ],
      "metadata": {
        "id": "2FYG6Ik9zjco"
      }
    },
    {
      "cell_type": "code",
      "source": [
        "def subtract_two_number(a:int,b:int) -> int:\n",
        "    \"\"\"_summary_\n",
        "     This function subtract two numbers\n",
        "\n",
        "    Args:\n",
        "        a (int): Paramater a of type int\n",
        "        b (int): Paramater b of type int\n",
        "\n",
        "    Returns:\n",
        "        int: Subtract two valus\n",
        "    \"\"\"\n",
        "    int_a = int(a)\n",
        "    int_b = int(b)\n",
        "\n",
        "    return a-b\n",
        "\n",
        "def multiply_two_number(a:int,b:int) -> int:\n",
        "    \"\"\"_summary_\n",
        "     This function multiply two numbers\n",
        "\n",
        "    Args:\n",
        "        a (int): Paramater a of type int\n",
        "        b (int): Paramater b of type int\n",
        "\n",
        "    Returns:\n",
        "        int: multiply two valus\n",
        "    \"\"\"\n",
        "    int_a = int(a)\n",
        "    int_b = int(b)\n",
        "\n",
        "    return a*b\n"
      ],
      "metadata": {
        "id": "01B8vCAGzozR"
      },
      "execution_count": 107,
      "outputs": []
    },
    {
      "cell_type": "code",
      "source": [
        "multiple_tool_graph = StateGraph(State)"
      ],
      "metadata": {
        "id": "OQS5nnUI011M"
      },
      "execution_count": 108,
      "outputs": []
    },
    {
      "cell_type": "code",
      "source": [
        "multiple_tool_graph.add_node(\"llm\", llm_tool_calling)\n",
        "multiple_tool_graph.add_node(\"tools\", ToolNode(tools=[add_two_number,subtract_two_number,multiply_two_number]))"
      ],
      "metadata": {
        "id": "7hsEgeeF013g",
        "outputId": "36324e36-1d55-483f-8982-2c1e7c3c92e9",
        "colab": {
          "base_uri": "https://localhost:8080/"
        }
      },
      "execution_count": 109,
      "outputs": [
        {
          "output_type": "execute_result",
          "data": {
            "text/plain": [
              "<langgraph.graph.state.StateGraph at 0x7d4b31cbc910>"
            ]
          },
          "metadata": {},
          "execution_count": 109
        }
      ]
    },
    {
      "cell_type": "code",
      "source": [
        "multiple_tool_graph.add_edge(START, \"llm\")\n",
        "multiple_tool_graph.add_conditional_edges(\"llm\", tools_condition)\n",
        "multiple_tool_graph.add_edge(\"tools\", END)"
      ],
      "metadata": {
        "id": "Ozzuj3QZ1Oe2",
        "outputId": "118dc0b9-7b05-41bc-8ba0-6fb0dced1b13",
        "colab": {
          "base_uri": "https://localhost:8080/"
        }
      },
      "execution_count": 110,
      "outputs": [
        {
          "output_type": "execute_result",
          "data": {
            "text/plain": [
              "<langgraph.graph.state.StateGraph at 0x7d4b31cbc910>"
            ]
          },
          "metadata": {},
          "execution_count": 110
        }
      ]
    },
    {
      "cell_type": "code",
      "source": [
        "graph_builder_multiple_tools = multiple_tool_graph.compile()"
      ],
      "metadata": {
        "id": "mX5nocjK1eQ8"
      },
      "execution_count": 111,
      "outputs": []
    },
    {
      "cell_type": "code",
      "source": [
        "state_message = State(messages= HumanMessage(content=\"Add two number 2 and 5 and then multiply it with 10 and subtarct it with 5\"))"
      ],
      "metadata": {
        "id": "P626VyJ3015p"
      },
      "execution_count": 112,
      "outputs": []
    },
    {
      "cell_type": "code",
      "source": [
        "result = graph_builder_multiple_tools.invoke(state_message)"
      ],
      "metadata": {
        "id": "od0s1WY60174"
      },
      "execution_count": 115,
      "outputs": []
    },
    {
      "cell_type": "code",
      "source": [
        "for item in result['messages']:\n",
        "    item.pretty_print()"
      ],
      "metadata": {
        "id": "7Wkj3z1-01_A",
        "outputId": "feb2aa39-e820-471f-c78f-fdde99eb5c8c",
        "colab": {
          "base_uri": "https://localhost:8080/"
        }
      },
      "execution_count": 116,
      "outputs": [
        {
          "output_type": "stream",
          "name": "stdout",
          "text": [
            "================================\u001b[1m Human Message \u001b[0m=================================\n",
            "\n",
            "Add two number 2 and 5 and then multiply it with 10 and subtarct it with 5\n",
            "==================================\u001b[1m Ai Message \u001b[0m==================================\n",
            "\n",
            "To solve the problem step by step:\n",
            "\n",
            "1. **Add two numbers (2 and 5):**\n",
            "   \\[\n",
            "   2 + 5 = 7\n",
            "   \\]\n",
            "2. **Multiply the result by 10:**\n",
            "   \\[\n",
            "   7 \\times 10 = 70\n",
            "   \\]\n",
            "3. **Subtract 5 from the product:**\n",
            "   \\[\n",
            "   70 - 5 = 65\n",
            "   \\]\n",
            "\n",
            "The final result is **65**.\n"
          ]
        }
      ]
    },
    {
      "cell_type": "code",
      "source": [],
      "metadata": {
        "id": "Elo6qTwc12LD"
      },
      "execution_count": 114,
      "outputs": []
    }
  ]
}