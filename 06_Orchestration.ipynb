{
  "nbformat": 4,
  "nbformat_minor": 0,
  "metadata": {
    "colab": {
      "provenance": [],
      "authorship_tag": "ABX9TyMktpKsEjhAYcPQJTZ2cHoN",
      "include_colab_link": true
    },
    "kernelspec": {
      "name": "python3",
      "display_name": "Python 3"
    },
    "language_info": {
      "name": "python"
    }
  },
  "cells": [
    {
      "cell_type": "markdown",
      "metadata": {
        "id": "view-in-github",
        "colab_type": "text"
      },
      "source": [
        "<a href=\"https://colab.research.google.com/github/kaniarasann/Langchain/blob/main/06_Orchestration.ipynb\" target=\"_parent\"><img src=\"https://colab.research.google.com/assets/colab-badge.svg\" alt=\"Open In Colab\"/></a>"
      ]
    },
    {
      "cell_type": "code",
      "execution_count": 212,
      "metadata": {
        "id": "OLMsqreu_OA0"
      },
      "outputs": [],
      "source": [
        "#!pip install langchain langgraph langchain_groq pydantic"
      ]
    },
    {
      "cell_type": "code",
      "source": [
        "from typing import Annotated, List\n",
        "from pydantic import BaseModel, Field\n",
        "import operator\n",
        "from langchain_groq import ChatGroq\n",
        "from langchain_core.prompts import PromptTemplate\n",
        "from langgraph.constants import Send\n",
        "from langgraph.graph import StateGraph, START, END"
      ],
      "metadata": {
        "id": "a1i11U7o_YLl"
      },
      "execution_count": 213,
      "outputs": []
    },
    {
      "cell_type": "code",
      "source": [
        "from langchain_groq import ChatGroq\n",
        "from google.colab import userdata\n",
        "groq_key = userdata.get('groq_key')"
      ],
      "metadata": {
        "id": "aX9jJGsC_gVw"
      },
      "execution_count": 214,
      "outputs": []
    },
    {
      "cell_type": "code",
      "source": [
        "llm = ChatGroq(api_key=groq_key, model=\"llama-3.3-70b-versatile\",)"
      ],
      "metadata": {
        "id": "ld1Bb71D_sH3"
      },
      "execution_count": 215,
      "outputs": []
    },
    {
      "cell_type": "code",
      "source": [
        "class Section(BaseModel):\n",
        "    name: str = Field(description=\"Name of the section\")\n",
        "    description: str = Field(description=\"Description of the section\")\n",
        "\n",
        "class Sections(BaseModel):\n",
        "    \"\"\"Container for multiple sections\"\"\"\n",
        "    sections: List[Section] = Field(description=\"List of sections for the report\")\n",
        "\n",
        "class State(BaseModel):\n",
        "    topic: str\n",
        "    sections: List[Section]= []\n",
        "    completed_sections: Annotated[List[str], operator.add] = []\n",
        "    final_report: str = \"\"\n",
        "\n",
        "class WorkerState(BaseModel):\n",
        "    section: Section\n",
        "    completed_sections: Annotated[List[str], operator.add] = []"
      ],
      "metadata": {
        "id": "4dGRTHW__vC9"
      },
      "execution_count": 216,
      "outputs": []
    },
    {
      "cell_type": "code",
      "source": [
        "planner = llm.with_structured_output(Sections)"
      ],
      "metadata": {
        "id": "HgQbga8YDa7F"
      },
      "execution_count": 217,
      "outputs": []
    },
    {
      "cell_type": "code",
      "source": [
        "def orchestrate(state: State):\n",
        "    prompt = PromptTemplate.from_template(\n",
        "        \"Generate a detailed section plan for a report titled '{topic}'.\"\n",
        "    ).format(topic=state.topic)\n",
        "    plan: Sections = planner.invoke(prompt)\n",
        "    return {\"sections\": plan.sections}  # <- LIST, not wrapper\n",
        "\n",
        "def llm_call(state):                         # ① accept raw dict\n",
        "    prompt_template = PromptTemplate.from_template(\n",
        "        \"Write a Markdown section called '{name}'. Description: {description}\"\n",
        "    )\n",
        "    res = prompt_template | llm\n",
        "    markdown = res.invoke({\n",
        "        \"name\": state[\"section\"].name,       # ② dictionary lookup\n",
        "        \"description\": state[\"section\"].description\n",
        "    })\n",
        "    return {\"completed_sections\": [markdown.content]}\n",
        "\n",
        "def assign_workers(state: State):\n",
        "    return [Send(\"llm_call\", {\"section\": s}) for s in state.sections]\n",
        "\n",
        "def synthesizer(state: State):\n",
        "    body = \"\\n\\n---\\n\\n\".join(state.completed_sections)\n",
        "    return {\"final_report\": f\"# Report on {state.topic}\\n\\n{body}\"}"
      ],
      "metadata": {
        "id": "5ON-52NVlgaP"
      },
      "execution_count": 218,
      "outputs": []
    },
    {
      "cell_type": "code",
      "source": [
        "# Graph setup\n",
        "graph = StateGraph(State)\n",
        "graph.add_node(\"orchestration\", orchestrate)\n",
        "graph.add_node(\"llm_call\", llm_call)\n",
        "graph.add_node(\"synthesizer\", synthesizer)\n",
        "graph.add_edge(START, \"orchestration\")\n",
        "graph.add_conditional_edges(\"orchestration\", assign_workers, [\"llm_call\"])\n",
        "graph.add_edge(\"llm_call\", \"synthesizer\")\n",
        "graph.add_edge(\"synthesizer\", END)\n",
        "\n"
      ],
      "metadata": {
        "colab": {
          "base_uri": "https://localhost:8080/"
        },
        "id": "lmTDopQLlh25",
        "outputId": "75c6e5f5-135d-4b54-a50d-e3498f05dc24"
      },
      "execution_count": 219,
      "outputs": [
        {
          "output_type": "execute_result",
          "data": {
            "text/plain": [
              "<langgraph.graph.state.StateGraph at 0x7b6a64688bd0>"
            ]
          },
          "metadata": {},
          "execution_count": 219
        }
      ]
    },
    {
      "cell_type": "code",
      "source": [
        "builder = graph.compile()\n",
        "result = builder.invoke({\"topic\": \"History of Tamils\"})\n",
        "print(result[\"final_report\"])"
      ],
      "metadata": {
        "colab": {
          "base_uri": "https://localhost:8080/"
        },
        "id": "Ms8fPYWBlm6s",
        "outputId": "4ac31eb1-881d-49c7-d094-77320694e995"
      },
      "execution_count": 220,
      "outputs": [
        {
          "output_type": "stream",
          "name": "stdout",
          "text": [
            "# Report on History of Tamils\n",
            "\n",
            "### Introduction to Tamil History\n",
            "Tamil history is a rich and diverse field of study that spans over two millennia, encompassing the social, cultural, and political developments of the Tamil people. This report aims to provide an overview of the significant events, kingdoms, and cultural achievements that have shaped the course of Tamil history. \n",
            "\n",
            "The significance of Tamil history lies in its unique blend of indigenous and external influences, which have contributed to the development of a distinct Tamil identity. From the ancient Tamil kingdoms of the Chera, Chola, and Pandya dynasties to the medieval period of Tamil literature and art, each era has left an indelible mark on the region's culture and society.\n",
            "\n",
            "Understanding Tamil history is essential for several reasons:\n",
            "* It provides insight into the evolution of Tamil language, literature, and art, which have had a profound impact on the region's cultural heritage.\n",
            "* It highlights the significant contributions of Tamil people to the fields of science, technology, and philosophy, which have shaped the course of human civilization.\n",
            "* It offers a unique perspective on the complex interactions between different cultures and empires, which have influenced the development of Tamil society over time.\n",
            "\n",
            "This report will delve into the key aspects of Tamil history, exploring the major events, figures, and cultural achievements that have defined the Tamil people and their place in the world. By examining the complexities and nuances of Tamil history, we can gain a deeper appreciation for the richness and diversity of this ancient civilization.\n",
            "\n",
            "---\n",
            "\n",
            "### Ancient Tamil Kingdoms\n",
            "The ancient Tamil kingdoms played a significant role in shaping the rich cultural heritage of Tamil Nadu, a state in southern India. These kingdoms, which flourished from the 3rd century BCE to the 13th century CE, were instrumental in developing the Tamil language, literature, art, and architecture.\n",
            "\n",
            "#### The Three Crowned Kings\n",
            "The ancient Tamil kingdoms were ruled by three powerful dynasties: the Cheras, Cholas, and Pandyas. These dynasties were known as the \"Three Crowned Kings\" and were revered for their military prowess, administrative skills, and patronage of the arts.\n",
            "\n",
            "*   **Chera Kingdom**: The Chera kingdom was one of the earliest Tamil kingdoms, with its capital in Vanji (modern-day Karur). The Cheras were known for their trade relationships with the Romans and their contributions to Tamil literature, particularly in the Sangam period.\n",
            "*   **Chola Kingdom**: The Chola kingdom was a major power in southern India, with its capital in Uraiyur (modern-day Tiruchirappalli). The Cholas were renowned for their military conquests, administrative reforms, and architectural achievements, including the construction of the famous Brihadeeswara Temple in Thanjavur.\n",
            "*   **Pandya Kingdom**: The Pandya kingdom was a powerful dynasty that ruled from Madurai, a city in southern Tamil Nadu. The Pandyas were known for their patronage of Tamil literature and their contributions to the development of the Tamil language.\n",
            "\n",
            "#### Contributions to Tamil Culture\n",
            "The ancient Tamil kingdoms made significant contributions to Tamil culture, including:\n",
            "\n",
            "1.  **Tamil Literature**: The ancient Tamil kingdoms were the cradle of Tamil literature, with the Sangam period (3rd century BCE to 3rd century CE) being the golden age of Tamil literature. The Sangam literature includes works such as the Tirukkural, a collection of couplets on ethics and morality.\n",
            "2.  **Art and Architecture**: The ancient Tamil kingdoms were known for their architectural achievements, including the construction of temples, palaces, and monuments. The temples built during this period, such as the Brihadeeswara Temple, are renowned for their intricate carvings, sculptures, and ornate decorations.\n",
            "3.  **Music and Dance**: The ancient Tamil kingdoms were the birthplace of several traditional music and dance forms, including Carnatic music and Bharatanatyam.\n",
            "4.  **Festivals and Traditions**: The ancient Tamil kingdoms celebrated several festivals and traditions, including the Pongal festival, which is still celebrated today.\n",
            "\n",
            "In conclusion, the ancient Tamil kingdoms played a vital role in shaping the rich cultural heritage of Tamil Nadu. Their contributions to Tamil literature, art, architecture, music, dance, and festivals continue to inspire and influence Tamil culture to this day.\n",
            "\n",
            "---\n",
            "\n",
            "### Tamil Empires and Their Decline\n",
            "The history of Tamil empires is a complex and fascinating narrative that spans over two millennia. From the ancient Chera, Chola, and Pandya kingdoms to the medieval Vijayanagara and Nayak dynasties, Tamil empires have played a significant role in shaping the culture, politics, and economy of the region.\n",
            "\n",
            "#### Rise of the Tamil Empires\n",
            "The Tamil empires rose to prominence during the ancient period, with the Chera, Chola, and Pandya kingdoms being the most notable. These kingdoms were known for their advanced irrigation systems, trade networks, and cultural achievements. The Chola empire, in particular, was a major power in southern India, with its capital in Thanjavur. The Cholas were known for their military conquests, administrative skills, and patronage of the arts.\n",
            "\n",
            "#### Medieval Period\n",
            "During the medieval period, the Vijayanagara and Nayak dynasties emerged as major powers in the Tamil region. The Vijayanagara empire, which was founded in the 14th century, was a powerful empire that covered much of southern India. The Nayak dynasties, which were founded in the 16th century, were a series of small kingdoms that ruled over various parts of the Tamil region. These dynasties were known for their military prowess, administrative skills, and cultural achievements.\n",
            "\n",
            "#### Decline of the Tamil Empires\n",
            "The decline of the Tamil empires was a gradual process that was caused by a combination of internal and external factors. The Tamil empires were weakened by internal conflicts, corruption, and mismanagement, which made them vulnerable to external attacks. The arrival of European colonizers, such as the Portuguese, Dutch, and British, further weakened the Tamil empires and eventually led to their decline.\n",
            "\n",
            "#### Impact on Tamil Society\n",
            "The rise and fall of the Tamil empires had a significant impact on Tamil society. The empires played a major role in shaping the culture, language, and identity of the Tamil people. The empires also facilitated the development of trade, commerce, and industry in the region, which had a positive impact on the economy. However, the decline of the empires also led to a period of instability and uncertainty, which had a negative impact on Tamil society.\n",
            "\n",
            "#### Legacy of the Tamil Empires\n",
            "Despite their decline, the Tamil empires have left a lasting legacy in the form of their cultural, architectural, and literary achievements. The temples, monuments, and sculptures built during the Tamil empires are still revered and admired today. The Tamil language and literature, which were patronized by the empires, continue to be an important part of Tamil identity and culture. The history of the Tamil empires serves as a reminder of the rich cultural heritage and the resilience of the Tamil people.\n",
            "\n",
            "---\n",
            "\n",
            "### Tamil Diaspora and Global Influence\n",
            "The Tamil diaspora, which refers to the global scattering of Tamil people from their ancestral homeland in South Asia, has had a profound impact on the world. With a significant presence in countries such as the United States, United Kingdom, Canada, Australia, and Southeast Asia, the Tamil diaspora has been instrumental in shaping global culture, politics, and economy.\n",
            "\n",
            "#### History of the Tamil Diaspora\n",
            "The Tamil diaspora has a long and complex history that spans over a century. The first wave of Tamil migration occurred during the British colonial period, when Tamils were taken to various parts of the world as indentured laborers. This was followed by a second wave of migration in the mid-20th century, when Tamils moved to Western countries in search of education and economic opportunities.\n",
            "\n",
            "#### Cultural Influence\n",
            "The Tamil diaspora has made significant contributions to global culture, particularly in the fields of music, dance, and cuisine. Tamil culture has blended with local cultures, resulting in the creation of new and unique art forms. For example, the Tamil film industry, also known as Kollywood, has gained popularity worldwide, with many of its films being dubbed or remade in other languages.\n",
            "\n",
            "#### Economic Influence\n",
            "The Tamil diaspora has also had a significant impact on the global economy. Many Tamils have become successful entrepreneurs, establishing businesses in various sectors such as technology, healthcare, and finance. The Tamil diaspora has also been instrumental in promoting trade and investment between their countries of origin and their adopted countries.\n",
            "\n",
            "#### Political Influence\n",
            "The Tamil diaspora has played a crucial role in shaping global politics, particularly in the areas of human rights and social justice. Many Tamils have been involved in advocacy efforts, raising awareness about issues such as the Sri Lankan civil war and the rights of Tamil minorities. The Tamil diaspora has also been instrumental in promoting democracy and good governance in their countries of origin.\n",
            "\n",
            "#### Challenges and Opportunities\n",
            "Despite the many achievements of the Tamil diaspora, there are also challenges that need to be addressed. Many Tamils face difficulties in maintaining their cultural identity and language in their adopted countries. There are also concerns about the brain drain of talented Tamils from their countries of origin, which can have negative impacts on local economies. However, the Tamil diaspora also presents many opportunities, such as the potential for knowledge transfer, cultural exchange, and economic cooperation between countries.\n",
            "\n",
            "#### Conclusion\n",
            "In conclusion, the Tamil diaspora has had a profound impact on global culture, politics, and economy. With their rich cultural heritage, entrepreneurial spirit, and commitment to social justice, the Tamil diaspora has made significant contributions to the world. As the Tamil diaspora continues to grow and evolve, it is likely to play an increasingly important role in shaping the world of the future.\n",
            "\n",
            "---\n",
            "\n",
            "### Modern Tamil Society and Culture\n",
            "Modern Tamil society and culture have undergone significant transformations in recent decades, influenced by globalization, technological advancements, and socio-economic changes. The contemporary Tamil community is a complex and diverse entity, with a rich cultural heritage and a strong sense of identity.\n",
            "\n",
            "#### Contemporary Social Structure\n",
            "The traditional Tamil social structure, which was once based on a rigid caste system, has evolved over time. Although the caste system still exists, its influence has diminished, and social mobility has increased. The emergence of a growing middle class and the rise of urbanization have contributed to changes in social dynamics, with many Tamils now living in cities and pursuing modern careers.\n",
            "\n",
            "#### Cultural Expression and Identity\n",
            "Tamil culture continues to thrive, with a vibrant tradition of music, dance, art, and literature. The Tamil film industry, known as Kollywood, is a significant cultural phenomenon, producing hundreds of films every year. Tamil cuisine, which is known for its spicy flavors and diverse range of dishes, has also gained popularity worldwide. The Tamil language, which is one of the oldest surviving classical languages, remains an essential part of Tamil identity and is still widely spoken by over 70 million people around the world.\n",
            "\n",
            "#### Challenges Facing Modern Tamil Society\n",
            "Despite the many advances made by the Tamil community, there are still several challenges that need to be addressed. Some of the key issues facing modern Tamil society include:\n",
            "\n",
            "* **Caste-based discrimination**: Although the caste system has weakened, it still persists, and many Tamils continue to face discrimination and social exclusion.\n",
            "* **Economic inequality**: The Tamil community, like many others, is affected by economic inequality, with a significant gap between the rich and the poor.\n",
            "* **Environmental concerns**: Tamil Nadu, the Indian state where many Tamils live, is facing significant environmental challenges, including water scarcity, pollution, and climate change.\n",
            "* **Preservation of cultural heritage**: The Tamil community is working to preserve its rich cultural heritage, including its language, literature, and traditional arts, in the face of modernization and globalization.\n",
            "\n",
            "#### Conclusion\n",
            "Modern Tamil society and culture are characterized by a dynamic interplay between tradition and modernity. While the community faces several challenges, it is also marked by a strong sense of resilience and adaptability. As the Tamil community continues to evolve, it is essential to address the challenges it faces while preserving its rich cultural heritage and promoting social justice and equality.\n",
            "\n",
            "---\n",
            "\n",
            "### Conclusion and Future Prospects\n",
            "In conclusion, this study has provided a comprehensive overview of the complexities and nuances of Tamil society, highlighting both the challenges and opportunities that lie ahead. The key findings of this research can be summarized as follows: \n",
            "\n",
            "* The rich cultural heritage and history of the Tamil people continue to play a significant role in shaping their identity and informing their social, economic, and political experiences.\n",
            "* Despite facing numerous challenges, including socioeconomic disparities and cultural erosion, the Tamil community has demonstrated remarkable resilience and adaptability in the face of adversity.\n",
            "* The intersection of traditional and modern influences has given rise to a unique blend of cultural practices, values, and beliefs that are distinct to Tamil society.\n",
            "* Education, economic empowerment, and social mobility have emerged as critical factors in determining the future prospects of the Tamil community, with a growing need for initiatives that promote inclusivity, equity, and social justice.\n",
            "\n",
            "Looking to the future, there are several prospects that hold great promise for the advancement of Tamil society. These include: \n",
            "\n",
            "* **Cultural Revitalization**: Efforts to preserve and promote Tamil language, literature, and arts can help to revitalize the community's cultural heritage and foster a sense of pride and identity among younger generations.\n",
            "* **Economic Development**: Initiatives that support entrepreneurship, innovation, and job creation can help to address socioeconomic disparities and improve living standards within the Tamil community.\n",
            "* **Social Inclusion**: Policies and programs that promote social inclusion, equity, and justice can help to address the needs of marginalized and vulnerable groups within Tamil society, including women, children, and minorities.\n",
            "* **Global Connectivity**: The increasing interconnectedness of the world can provide opportunities for the Tamil community to engage with global networks, share knowledge and ideas, and collaborate on initiatives that promote mutual understanding and cooperation.\n",
            "\n",
            "Ultimately, the future of Tamil society will depend on the ability of its members to navigate the complexities of a rapidly changing world, while remaining true to their cultural heritage and values. By working together to address the challenges and opportunities that lie ahead, the Tamil community can build a brighter, more prosperous future for itself and for generations to come.\n"
          ]
        }
      ]
    },
    {
      "cell_type": "code",
      "source": [],
      "metadata": {
        "id": "5Td-RBGslslv"
      },
      "execution_count": 220,
      "outputs": []
    }
  ]
}