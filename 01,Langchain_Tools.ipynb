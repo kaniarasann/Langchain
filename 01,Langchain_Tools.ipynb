{
  "nbformat": 4,
  "nbformat_minor": 0,
  "metadata": {
    "colab": {
      "provenance": []
    },
    "kernelspec": {
      "name": "python3",
      "display_name": "Python 3"
    },
    "language_info": {
      "name": "python"
    }
  },
  "cells": [
    {
      "cell_type": "code",
      "execution_count": 237,
      "metadata": {
        "id": "2lDRihiHlAle",
        "colab": {
          "base_uri": "https://localhost:8080/"
        },
        "outputId": "cc838bb9-59a7-452d-e492-443002806851"
      },
      "outputs": [
        {
          "output_type": "stream",
          "name": "stdout",
          "text": [
            "Requirement already satisfied: feedparser in /usr/local/lib/python3.11/dist-packages (from -r requirement.txt (line 1)) (6.0.11)\n",
            "Requirement already satisfied: beautifulsoup4 in /usr/local/lib/python3.11/dist-packages (from -r requirement.txt (line 2)) (4.13.4)\n",
            "Requirement already satisfied: langchain in /usr/local/lib/python3.11/dist-packages (from -r requirement.txt (line 3)) (0.3.26)\n",
            "Requirement already satisfied: langchain_community in /usr/local/lib/python3.11/dist-packages (from -r requirement.txt (line 4)) (0.3.27)\n",
            "Requirement already satisfied: requests in /usr/local/lib/python3.11/dist-packages (from -r requirement.txt (line 5)) (2.32.3)\n",
            "Requirement already satisfied: Pydantic in /usr/local/lib/python3.11/dist-packages (from -r requirement.txt (line 6)) (2.11.7)\n",
            "Requirement already satisfied: faiss-cpu in /usr/local/lib/python3.11/dist-packages (from -r requirement.txt (line 7)) (1.11.0)\n",
            "Requirement already satisfied: langchain-groq in /usr/local/lib/python3.11/dist-packages (from -r requirement.txt (line 8)) (0.3.6)\n",
            "Requirement already satisfied: sgmllib3k in /usr/local/lib/python3.11/dist-packages (from feedparser->-r requirement.txt (line 1)) (1.0.0)\n",
            "Requirement already satisfied: soupsieve>1.2 in /usr/local/lib/python3.11/dist-packages (from beautifulsoup4->-r requirement.txt (line 2)) (2.7)\n",
            "Requirement already satisfied: typing-extensions>=4.0.0 in /usr/local/lib/python3.11/dist-packages (from beautifulsoup4->-r requirement.txt (line 2)) (4.14.1)\n",
            "Requirement already satisfied: langchain-core<1.0.0,>=0.3.66 in /usr/local/lib/python3.11/dist-packages (from langchain->-r requirement.txt (line 3)) (0.3.68)\n",
            "Requirement already satisfied: langchain-text-splitters<1.0.0,>=0.3.8 in /usr/local/lib/python3.11/dist-packages (from langchain->-r requirement.txt (line 3)) (0.3.8)\n",
            "Requirement already satisfied: langsmith>=0.1.17 in /usr/local/lib/python3.11/dist-packages (from langchain->-r requirement.txt (line 3)) (0.4.4)\n",
            "Requirement already satisfied: SQLAlchemy<3,>=1.4 in /usr/local/lib/python3.11/dist-packages (from langchain->-r requirement.txt (line 3)) (2.0.41)\n",
            "Requirement already satisfied: PyYAML>=5.3 in /usr/local/lib/python3.11/dist-packages (from langchain->-r requirement.txt (line 3)) (6.0.2)\n",
            "Requirement already satisfied: aiohttp<4.0.0,>=3.8.3 in /usr/local/lib/python3.11/dist-packages (from langchain_community->-r requirement.txt (line 4)) (3.11.15)\n",
            "Requirement already satisfied: tenacity!=8.4.0,<10,>=8.1.0 in /usr/local/lib/python3.11/dist-packages (from langchain_community->-r requirement.txt (line 4)) (8.5.0)\n",
            "Requirement already satisfied: dataclasses-json<0.7,>=0.5.7 in /usr/local/lib/python3.11/dist-packages (from langchain_community->-r requirement.txt (line 4)) (0.6.7)\n",
            "Requirement already satisfied: pydantic-settings<3.0.0,>=2.4.0 in /usr/local/lib/python3.11/dist-packages (from langchain_community->-r requirement.txt (line 4)) (2.10.1)\n",
            "Requirement already satisfied: httpx-sse<1.0.0,>=0.4.0 in /usr/local/lib/python3.11/dist-packages (from langchain_community->-r requirement.txt (line 4)) (0.4.1)\n",
            "Requirement already satisfied: numpy>=1.26.2 in /usr/local/lib/python3.11/dist-packages (from langchain_community->-r requirement.txt (line 4)) (2.0.2)\n",
            "Requirement already satisfied: charset-normalizer<4,>=2 in /usr/local/lib/python3.11/dist-packages (from requests->-r requirement.txt (line 5)) (3.4.2)\n",
            "Requirement already satisfied: idna<4,>=2.5 in /usr/local/lib/python3.11/dist-packages (from requests->-r requirement.txt (line 5)) (3.10)\n",
            "Requirement already satisfied: urllib3<3,>=1.21.1 in /usr/local/lib/python3.11/dist-packages (from requests->-r requirement.txt (line 5)) (2.4.0)\n",
            "Requirement already satisfied: certifi>=2017.4.17 in /usr/local/lib/python3.11/dist-packages (from requests->-r requirement.txt (line 5)) (2025.7.9)\n",
            "Requirement already satisfied: annotated-types>=0.6.0 in /usr/local/lib/python3.11/dist-packages (from Pydantic->-r requirement.txt (line 6)) (0.7.0)\n",
            "Requirement already satisfied: pydantic-core==2.33.2 in /usr/local/lib/python3.11/dist-packages (from Pydantic->-r requirement.txt (line 6)) (2.33.2)\n",
            "Requirement already satisfied: typing-inspection>=0.4.0 in /usr/local/lib/python3.11/dist-packages (from Pydantic->-r requirement.txt (line 6)) (0.4.1)\n",
            "Requirement already satisfied: packaging in /usr/local/lib/python3.11/dist-packages (from faiss-cpu->-r requirement.txt (line 7)) (24.2)\n",
            "Requirement already satisfied: groq<1,>=0.29.0 in /usr/local/lib/python3.11/dist-packages (from langchain-groq->-r requirement.txt (line 8)) (0.30.0)\n",
            "Requirement already satisfied: aiohappyeyeballs>=2.3.0 in /usr/local/lib/python3.11/dist-packages (from aiohttp<4.0.0,>=3.8.3->langchain_community->-r requirement.txt (line 4)) (2.6.1)\n",
            "Requirement already satisfied: aiosignal>=1.1.2 in /usr/local/lib/python3.11/dist-packages (from aiohttp<4.0.0,>=3.8.3->langchain_community->-r requirement.txt (line 4)) (1.4.0)\n",
            "Requirement already satisfied: attrs>=17.3.0 in /usr/local/lib/python3.11/dist-packages (from aiohttp<4.0.0,>=3.8.3->langchain_community->-r requirement.txt (line 4)) (25.3.0)\n",
            "Requirement already satisfied: frozenlist>=1.1.1 in /usr/local/lib/python3.11/dist-packages (from aiohttp<4.0.0,>=3.8.3->langchain_community->-r requirement.txt (line 4)) (1.7.0)\n",
            "Requirement already satisfied: multidict<7.0,>=4.5 in /usr/local/lib/python3.11/dist-packages (from aiohttp<4.0.0,>=3.8.3->langchain_community->-r requirement.txt (line 4)) (6.6.3)\n",
            "Requirement already satisfied: propcache>=0.2.0 in /usr/local/lib/python3.11/dist-packages (from aiohttp<4.0.0,>=3.8.3->langchain_community->-r requirement.txt (line 4)) (0.3.2)\n",
            "Requirement already satisfied: yarl<2.0,>=1.17.0 in /usr/local/lib/python3.11/dist-packages (from aiohttp<4.0.0,>=3.8.3->langchain_community->-r requirement.txt (line 4)) (1.20.1)\n",
            "Requirement already satisfied: marshmallow<4.0.0,>=3.18.0 in /usr/local/lib/python3.11/dist-packages (from dataclasses-json<0.7,>=0.5.7->langchain_community->-r requirement.txt (line 4)) (3.26.1)\n",
            "Requirement already satisfied: typing-inspect<1,>=0.4.0 in /usr/local/lib/python3.11/dist-packages (from dataclasses-json<0.7,>=0.5.7->langchain_community->-r requirement.txt (line 4)) (0.9.0)\n",
            "Requirement already satisfied: anyio<5,>=3.5.0 in /usr/local/lib/python3.11/dist-packages (from groq<1,>=0.29.0->langchain-groq->-r requirement.txt (line 8)) (4.9.0)\n",
            "Requirement already satisfied: distro<2,>=1.7.0 in /usr/local/lib/python3.11/dist-packages (from groq<1,>=0.29.0->langchain-groq->-r requirement.txt (line 8)) (1.9.0)\n",
            "Requirement already satisfied: httpx<1,>=0.23.0 in /usr/local/lib/python3.11/dist-packages (from groq<1,>=0.29.0->langchain-groq->-r requirement.txt (line 8)) (0.28.1)\n",
            "Requirement already satisfied: sniffio in /usr/local/lib/python3.11/dist-packages (from groq<1,>=0.29.0->langchain-groq->-r requirement.txt (line 8)) (1.3.1)\n",
            "Requirement already satisfied: jsonpatch<2.0,>=1.33 in /usr/local/lib/python3.11/dist-packages (from langchain-core<1.0.0,>=0.3.66->langchain->-r requirement.txt (line 3)) (1.33)\n",
            "Requirement already satisfied: orjson<4.0.0,>=3.9.14 in /usr/local/lib/python3.11/dist-packages (from langsmith>=0.1.17->langchain->-r requirement.txt (line 3)) (3.10.18)\n",
            "Requirement already satisfied: requests-toolbelt<2.0.0,>=1.0.0 in /usr/local/lib/python3.11/dist-packages (from langsmith>=0.1.17->langchain->-r requirement.txt (line 3)) (1.0.0)\n",
            "Requirement already satisfied: zstandard<0.24.0,>=0.23.0 in /usr/local/lib/python3.11/dist-packages (from langsmith>=0.1.17->langchain->-r requirement.txt (line 3)) (0.23.0)\n",
            "Requirement already satisfied: python-dotenv>=0.21.0 in /usr/local/lib/python3.11/dist-packages (from pydantic-settings<3.0.0,>=2.4.0->langchain_community->-r requirement.txt (line 4)) (1.1.1)\n",
            "Requirement already satisfied: greenlet>=1 in /usr/local/lib/python3.11/dist-packages (from SQLAlchemy<3,>=1.4->langchain->-r requirement.txt (line 3)) (3.2.3)\n",
            "Requirement already satisfied: httpcore==1.* in /usr/local/lib/python3.11/dist-packages (from httpx<1,>=0.23.0->groq<1,>=0.29.0->langchain-groq->-r requirement.txt (line 8)) (1.0.9)\n",
            "Requirement already satisfied: h11>=0.16 in /usr/local/lib/python3.11/dist-packages (from httpcore==1.*->httpx<1,>=0.23.0->groq<1,>=0.29.0->langchain-groq->-r requirement.txt (line 8)) (0.16.0)\n",
            "Requirement already satisfied: jsonpointer>=1.9 in /usr/local/lib/python3.11/dist-packages (from jsonpatch<2.0,>=1.33->langchain-core<1.0.0,>=0.3.66->langchain->-r requirement.txt (line 3)) (3.0.0)\n",
            "Requirement already satisfied: mypy-extensions>=0.3.0 in /usr/local/lib/python3.11/dist-packages (from typing-inspect<1,>=0.4.0->dataclasses-json<0.7,>=0.5.7->langchain_community->-r requirement.txt (line 4)) (1.1.0)\n"
          ]
        }
      ],
      "source": [
        "pip install -r requirement.txt"
      ]
    },
    {
      "cell_type": "code",
      "source": [
        "import feedparser\n",
        "import requests\n",
        "from bs4 import BeautifulSoup\n",
        "from pydantic import BaseModel\n",
        "from google.colab import userdata\n",
        "from langchain_core.prompts import ChatPromptTemplate\n",
        "from langchain_groq import ChatGroq\n",
        "from typing import Annotated,List"
      ],
      "metadata": {
        "id": "7lOqd34jnvgi"
      },
      "execution_count": 238,
      "outputs": []
    },
    {
      "cell_type": "code",
      "source": [
        "# Choose a feed\n",
        "url = 'https://economictimes.indiatimes.com/markets/rssfeeds/1977021501.cms'\n",
        "\n",
        "# Parse feed\n",
        "feed = feedparser.parse(url)"
      ],
      "metadata": {
        "id": "5luydsR6nvuG"
      },
      "execution_count": 239,
      "outputs": []
    },
    {
      "cell_type": "code",
      "source": [
        "class FeedItem(BaseModel):\n",
        "  title: str\n",
        "  summary: str\n",
        "  published: str\n",
        "  abstract: str\n",
        "\n",
        "class Feed(BaseModel):\n",
        "  summary: Annotated[list[str],\"List of summaries\"]\n"
      ],
      "metadata": {
        "id": "HfjOyMwbwnrt"
      },
      "execution_count": 240,
      "outputs": []
    },
    {
      "cell_type": "code",
      "source": [
        "feeds: List[FeedItem] = []"
      ],
      "metadata": {
        "id": "7QsVK6W6CzNo"
      },
      "execution_count": 241,
      "outputs": []
    },
    {
      "cell_type": "code",
      "source": [
        "def extract_article_text(url):\n",
        "    try:\n",
        "        response = requests.get(url, timeout=10)\n",
        "        soup = BeautifulSoup(response.content, \"html.parser\")\n",
        "\n",
        "        # Remove unwanted tags (ads, scripts, etc.)\n",
        "        for tag in soup(['script', 'style', 'aside', 'footer', 'header', 'noscript', 'nav']):\n",
        "            tag.decompose()\n",
        "\n",
        "        # Target the main article body\n",
        "        main_content = soup.find(\"div\", {\"class\": \"article-content\"})\n",
        "\n",
        "        if not main_content:\n",
        "            # Try fallback class\n",
        "            main_content = soup.find(\"div\", {\"class\": \"artText\"})\n",
        "\n",
        "        if main_content:\n",
        "            text = main_content.get_text(separator=\"\\n\", strip=True)\n",
        "            return text\n",
        "        else:\n",
        "            return \"Main content not found\"\n",
        "\n",
        "    except Exception as e:\n",
        "        return f\"Error fetching article: {e}\""
      ],
      "metadata": {
        "id": "h38IBg1IuloX"
      },
      "execution_count": 242,
      "outputs": []
    },
    {
      "cell_type": "code",
      "source": [
        "for entry in feed.entries:\n",
        "    feed_item = FeedItem(\n",
        "        title=entry.title,\n",
        "        summary=extract_article_text(entry.link),\n",
        "        published=entry.published,\n",
        "        abstract=\"\" # Add a placeholder for the abstract field\n",
        "    )\n",
        "    feeds.append(feed_item)"
      ],
      "metadata": {
        "id": "uJe-A_Uznvwd"
      },
      "execution_count": 243,
      "outputs": []
    },
    {
      "cell_type": "code",
      "source": [
        "groq_api_key = userdata.get('groq_key')"
      ],
      "metadata": {
        "id": "InEJb5LA4cY7"
      },
      "execution_count": 244,
      "outputs": []
    },
    {
      "cell_type": "code",
      "source": [
        "llm = ChatGroq(\n",
        "    groq_api_key=groq_api_key,\n",
        "    model_name=\"llama3-70b-8192\"\n",
        ")"
      ],
      "metadata": {
        "id": "gy5-9xSN4lyX"
      },
      "execution_count": 245,
      "outputs": []
    },
    {
      "cell_type": "code",
      "source": [
        "prompt = ChatPromptTemplate.from_template(\"\"\"\n",
        "You are a financial assistant.\n",
        "Summarize this news article into a short abstract:\n",
        "\n",
        "\\\"\\\"\\\"{article}\\\"\\\"\\\"\n",
        "\n",
        "Return only the abstract, no other text. unable to summarize the article return NA.\n",
        "\"\"\")"
      ],
      "metadata": {
        "id": "AxnyHbRq40o4"
      },
      "execution_count": 246,
      "outputs": []
    },
    {
      "cell_type": "code",
      "source": [
        "for feed in feeds[:50]:\n",
        "  chain = prompt | llm\n",
        "  summary = chain.invoke({\"article\": feed.summary})\n",
        "  feed.abstract = summary.content"
      ],
      "metadata": {
        "id": "T_veMEn940lR"
      },
      "execution_count": 247,
      "outputs": []
    },
    {
      "cell_type": "code",
      "source": [
        "feeds[0].abstract"
      ],
      "metadata": {
        "colab": {
          "base_uri": "https://localhost:8080/",
          "height": 88
        },
        "id": "tfjcVnjw40is",
        "outputId": "c43654d8-1a52-49fa-da25-1773d4618d6f"
      },
      "execution_count": 248,
      "outputs": [
        {
          "output_type": "execute_result",
          "data": {
            "text/plain": [
              "\"Religare Enterprises' board has approved a plan to raise Rs 1,500 crore through the preferential allotment of warrants to support business expansion and strategic initiatives, with the Burman family contributing Rs 750 crore and other investors contributing the remaining amount.\""
            ],
            "application/vnd.google.colaboratory.intrinsic+json": {
              "type": "string"
            }
          },
          "metadata": {},
          "execution_count": 248
        }
      ]
    },
    {
      "cell_type": "code",
      "source": [
        "for feed in feeds[:50]:\n",
        "  if feed.abstract == \"NA\":\n",
        "    continue\n",
        "  print(feed.abstract)"
      ],
      "metadata": {
        "colab": {
          "base_uri": "https://localhost:8080/"
        },
        "id": "wk7Jt1ch40gp",
        "outputId": "3b8044c9-75b3-4c52-91b8-a95319611041"
      },
      "execution_count": 251,
      "outputs": [
        {
          "output_type": "stream",
          "name": "stdout",
          "text": [
            "Religare Enterprises' board has approved a plan to raise Rs 1,500 crore through the preferential allotment of warrants to support business expansion and strategic initiatives, with the Burman family contributing Rs 750 crore and other investors contributing the remaining amount.\n",
            "BEML's board to consider stock split on July 21, 2025, with no specified proportion; trading window to remain closed from July 1 till 48 hours after declaration of financial results.\n",
            "Reliance Infrastructure's credit rating has been upgraded by three notches to 'IND B/Stable/IND A4' by India Ratings and Research, reflecting the company's significant deleveraging efforts and near-zero debt profile.\n",
            "Gold prices surged by Rs 700 to Rs 99,370 per 10 grams in the national capital on Friday, driven by safe-haven demand amid escalating global trade tensions and tariff threats, which boosted investor appetite for precious metals.\n",
            "Stocks fell on Friday as markets reacted to President Trump's latest tariff threats, with the Dow Jones Industrial Average down 0.7%, the S&P 500 down 0.5%, and the Nasdaq Composite down 0.3%, amid concerns about high equity valuations and profit-taking after recent market gains.\n",
            "Avenue Supermarts, the operator of DMart, reported a 2% increase in standalone net profit to Rs 830 crore in Q1FY26, with a 16% year-over-year increase in revenue from operations to Rs 15,932 crore. The company faced margin pressures due to deflation in staple food items and non-food products, as well as a highly competitive FMCG market.\n",
            "The Bombay Stock Exchange (BSE) and National Stock Exchange of India (NSE) have issued an advisory to investors dealing with Online Bond Platform Providers (OBPPs), highlighting the importance of understanding the underlying features of bonds, associated risks, and costs to make informed investment decisions.\n",
            "US stock index futures fell on Friday as President Trump escalated his tariff offensive against Canada, adding to trade policy uncertainty, with Dow E-minis down 336 points, or 0.75%, S&P 500 E-minis down 46 points, or 0.73%, and Nasdaq 100 E-minis down 149.75 points, or 0.65%.\n",
            "Reliance Industries (RIL) is set to announce its June quarter earnings on July 18, with a predicted net profit of Rs 28,542 crore, an 88% year-over-year increase, and a 47% sequential increase. Revenues are expected to be Rs 2,29,476 crore, a 1% year-over-year decline and a 12% sequential decline. EBITDA is pegged at Rs 44,738 crore, a 15% year-over-year increase and a 2% sequential increase.\n",
            "On Friday, several stocks surged over 10% on the BSE despite the Sensex and Nifty indices ending in the red, with Tarmat Ltd, Glenmark Pharma, and Enviro Infra Enginee being among the top gainers.\n",
            "Indian power shares closed mixed on Friday, with some companies like Power and Instrumentation (Gujarat) Ltd. and NTPC Green Energy Ltd. rising, while others like Hitachi Energy India Ltd. and KEC International Ltd. fell. The NSE Nifty50 index ended down 205.41 points at 25149.85, and the BSE Sensex closed down 689.81 points at 82500.47.\n",
            "Indian mining shares closed lower on Friday, with top losers including Madhav Marbles & Granites, Gujarat Mineral Development Corporation, and Coal India. The NSE Nifty50 index fell 205.41 points to 25149.85, while the BSE Sensex dropped 689.81 points to 82500.47.\n",
            "Indian equity benchmarks BSE Sensex and NSE Nifty declined on Friday, but several stocks rallied up to 15%, with Fervent Syn, Soma Textiles, and Omnitex Ind being top gainers, while others like Omnitex Ind, Glenmark Pharma, and Cupid Ltd hit fresh 52-week highs.\n",
            "Indian FMCG shares closed mixed on Friday, with Hindustan Unilever and Gillette India among top gainers, while Euro India Fresh Foods and Gopal Snacks led the losers. The NSE Nifty50 index fell 205.41 points to 25,149.85, and the BSE Sensex dropped 689.81 points to 82,500.47.\n",
            "The Nifty IT index declined 1.78% to 37693.25, led by losses in TCS, Wipro, LTIMindtree, and Oracle Financial Services, while Tech Mahindra was the only gainer. The broader market also fell, with the NSE Nifty50 index down 205.41 points to 25149.85 and the BSE Sensex down 689.81 points to 82500.47.\n",
            "Indian sugar shares were mixed on Friday, with some companies like EID Parry and KM Sugar Mills rising, while others like Uttam Sugar Mills and KCP Sugar & Industries Corporation fell. The NSE Nifty50 index and BSE Sensex both ended the day lower, with losses led by Tata Consultancy Services and Mahindra & Mahindra.\n",
            "At least 15 PMS funds across multicap, midcap, and smallcap strategies posted robust gains in June 2025, with Square 64 Capital Advisors' Multicap strategy emerging as the top performer with a stellar 19.4% monthly return.\n",
            "The Indian equity market witnessed a decline on Friday, with the BSE Sensex trading 689.81 points down at 82,500.47, driven by selling in frontline bluechip counters, while several stocks such as Shiva Granito Export, Gini Silk Mills, and Parsvnath Dev. plummeted over 5% in value.\n",
            "The Indian rupee depreciated 7 paise to 85.77 against the US dollar due to weak domestic markets and risk-off sentiments amid trade tariff uncertainty, with global market sentiments dented by US President Donald Trump's imposition of 35% tariffs on Canadian goods.\n",
            "Indian stock market indices NSE Nifty and BSE Sensex fell on Friday, with Nifty closing 205.41 points down at 25149.85 and Sensex closing 689.81 points down at 82500.47, amid selling in frontline bluechip counters, while some stocks like Glenmark Pharma and HUL hit fresh 52-week highs.\n",
            "The Nifty Bank index closed 0.35% down at 56754.7, with Axis Bank, Kotak Mahindra Bank, and IndusInd Bank being the top gainers, while IDFC First Bank, Federal Bank, and HDFC Bank were the top losers, amidst a broader market decline.\n",
            "The Nifty Realty index closed 1.21% down at 962.9, with Godrej Properties, DLF, and Brigade Enterprises being the top losers, while Anant Raj and Raymond were the top gainers.\n",
            "CA Rudramurthy BV, MD of Vachana Investments, remains bullish on the market, advising investors to buy on dips and be stock-specific. He favors pharma stocks such as Glenmark, Laurus Labs, and Biocon, as well as consumer discretionary, FMCG, PSU banks, OMCs, new-age IT, and NBFCs. His top picks are Biocon and Nykaa, with target prices of Rs 400 and Rs 230, respectively.\n",
            "State Bank of India's board is set to meet on July 16 to approve fund-raising plans for FY26, including the issuance of Basel III-compliant bonds, following last year's raise of Rs15,000 crore through tier-II bonds and Rs5,000 crore through additional tier-I bonds.\n",
            "Gold prices are expected to continue their upward trend, driven by geopolitical tensions, shifting interest rate expectations, and a weakening US dollar. Analysts see a sustained rally, despite near-term consolidation, with potential triggers including US Federal Reserve rate cuts and a decline in the US dollar.\n",
            "BSE Ltd shares fell 4% on Friday after reports that the Securities and Exchange Board of India (SEBI) is expanding its investigation into index manipulation by US-based trading firm Jane Street to include Sensex options, in addition to Nifty and Bank Nifty weekly options.\n",
            "TCS is shifting its focus from experimental Gen-AI projects to use-case driven implementations that deliver tangible business value, investing in industry-specific and agentic AI solutions, and forging strategic partnerships to drive growth. The company is also prioritizing talent development to keep pace with the rapidly evolving technology landscape. Meanwhile, CEO K Krithivasan notes that uncertainty in India-US trade talks is causing clients to delay decision-making on investment and transformation projects, but sees opportunity in cost optimization projects.\n",
            "TCS is shifting its focus from experimental Gen-AI projects to use-case driven implementations that deliver tangible business value, investing in industry-specific and agentic AI solutions, upgrading its TCS WisdomNext platform, and forging strategic partnerships with hyperscalers and AI innovators, amid uncertainty in the market due to India-US trade talks.\n",
            "Glenmark Pharmaceuticals' stock surged 14% on Friday and may have a further 29% upside, according to market experts, who recommend a 'buy on dips' strategy with a price target of up to Rs 2,800, driven by a global licensing agreement with AbbVie for its experimental cancer drug, ISB 2001.\n",
            "Shares of Indian defence companies, including Bharat Dynamics, BEML, Garden Reach Shipbuilders, and Mazagon Dock Shipbuilders, declined for a second straight session on Friday, July 11, as investors booked profits after a sharp multi-month rally, amid a broader risk-off sentiment and waning geopolitical tensions.\n",
            "Veteran investor Manishi Raychaudhuri expects the second half of the year to be a challenging period for Asian markets, with returns likely to be modest and in single digits, due to uncertainty around tariffs and policy. However, he believes that certain themes such as AI, private domestic consumption in markets like China and India, will continue to do well, making it a stock pickers' market. He also expects earnings estimates in India to bottom out in the second half of the year and begin to move up driven by factors such as increased liquidity and consumption.\n",
            "Motilal Oswal has reiterated a \"buy\" rating on Glenmark Pharmaceuticals with a raised target price of Rs 2,430, implying a 28% upside from the current market price, driven by the company's recent licensing deal with AbbVie, which validates its R&D platform and unlocks substantial commercial potential.\n",
            "Rahul Jain, Director-Research at Dolat Capital, notes that valuation disparities between IT companies like TCS, Infosys, and HCL have narrowed in recent years, with investors prioritizing consistent growth. HCL Tech's consistent performance has led to a valuation re-rating, and it may trade at a further premium due to projected growth. TCS's stock has not done well recently, but any improvement in commentary could be seen as a positive. The IT sector still lacks clarity on tariffs, but select companies may see opportunities to do well despite this uncertainty.\n",
            "Belrise Industries' shares surged 16.4% to a record high after Jefferies initiated coverage with a 'Buy' rating and a price target of Rs 135, citing strong earnings growth potential driven by rising two-wheeler demand, product premiumisation, and expansion in four-wheeler and export segments.\n",
            "Motilal Oswal sets a \"Buy\" rating and a target price of Rs 82 for Suzlon Energy, citing benefits from local content mandates, a strong order book, and improved execution through land acquisition and EPC expansion, with an upside potential of 24% from the current price.\n",
            "Asston Pharmaceuticals' IPO has been oversubscribed 173.35 times, with non-institutional investors leading the charge, driven by strong confidence in the company's growth story and global outlook. The IPO aims to raise Rs 27.56 crore through a fresh issue of 22.41 lakh equity shares, with a price band of Rs 115-123 per share, and is expected to list with a potential gain of 24.4%.\n",
            "European shares fell 0.4% on Friday as US President Donald Trump escalated trade tensions with Canada and threatened tariffs on the EU, while investors awaited news on EU tariffs and digested mixed corporate earnings and economic data.\n",
            "Ola Electric Mobility's shares have fallen to a record low of Rs 39.76, down 75% from their peak in August 2024, ahead of the company's Q1 results. The stock has been under pressure following a disappointing Q4 performance, which saw a net loss of Rs 870 crore and a 62% year-on-year decline in revenue.\n",
            "The PGIM India Retirement Readiness Survey 2023 highlights the importance of goal-based investing, particularly for retirement, as it is the only financial goal that cannot be fulfilled by conventional loans. The survey suggests that people tend to focus on a required number for retirement, such as Rs 50 lakh or 1 crore, but fail to allocate investments separately for each specific goal. The article emphasizes the importance of starting early and allocating specifically for retirement, as it can take a significant amount of time to replace one year's income with savings and returns on investments.\n",
            "Smartworks Coworking Spaces' IPO has been subscribed 73% on Day 2, driven by strong interest from non-institutional investors, with a grey market premium of 7.4%. The company aims to raise Rs 576-583 crore through the IPO, which includes a fresh equity issue and an offer for sale.\n",
            "Japan's Nikkei share average fell 0.19% to 39,569.68 on Friday, erasing early gains, as Fast Retailing's 6.93% decline weighed on the market, while technology stocks and banks supported the broader Topix index, which rose 0.39%.\n",
            "Bitcoin has broken out to an all-time high of $116k, marking a structural shift in how investors view the asset. Unlike previous cycles, this surge is backed by strong on-chain metrics, long-term holder accumulation, and consistent institutional inflows. Investors are now analyzing Bitcoin like a traditional asset, looking at metrics like network activity and exchange reserves. The article highlights Bitcoin's robust network health, increasing long-term holders, and surging ETF inflows, positioning it as an institutional-grade reserve for the coming monetary regime shift.\n",
            "Silver prices in India surged to an all-time high of Rs 1.11 lakh per kilogram in the spot market, driven by safe-haven buying amid global trade tensions and expectations of a dovish tilt from the US Federal Reserve, with silver futures on the MCX also crossing Rs 1.10 lakh per kilogram.\n"
          ]
        }
      ]
    },
    {
      "cell_type": "code",
      "source": [],
      "metadata": {
        "id": "BNs5Nm644tbK"
      },
      "execution_count": 249,
      "outputs": []
    }
  ]
}