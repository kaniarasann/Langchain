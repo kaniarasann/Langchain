{
  "cells": [
    {
      "cell_type": "code",
      "execution_count": 31,
      "id": "06fb288a",
      "metadata": {
        "vscode": {
          "languageId": "plaintext"
        },
        "id": "06fb288a",
        "outputId": "41667994-2dba-4503-8280-e2d368e810ce",
        "colab": {
          "base_uri": "https://localhost:8080/"
        }
      },
      "outputs": [
        {
          "output_type": "stream",
          "name": "stdout",
          "text": [
            "Requirement already satisfied: langchain in /usr/local/lib/python3.11/dist-packages (0.3.26)\n",
            "Requirement already satisfied: langgraph in /usr/local/lib/python3.11/dist-packages (0.5.2)\n",
            "Requirement already satisfied: langchain_groq in /usr/local/lib/python3.11/dist-packages (0.3.6)\n",
            "Requirement already satisfied: pydantic in /usr/local/lib/python3.11/dist-packages (2.11.7)\n",
            "Requirement already satisfied: langchain-core<1.0.0,>=0.3.66 in /usr/local/lib/python3.11/dist-packages (from langchain) (0.3.68)\n",
            "Requirement already satisfied: langchain-text-splitters<1.0.0,>=0.3.8 in /usr/local/lib/python3.11/dist-packages (from langchain) (0.3.8)\n",
            "Requirement already satisfied: langsmith>=0.1.17 in /usr/local/lib/python3.11/dist-packages (from langchain) (0.4.4)\n",
            "Requirement already satisfied: SQLAlchemy<3,>=1.4 in /usr/local/lib/python3.11/dist-packages (from langchain) (2.0.41)\n",
            "Requirement already satisfied: requests<3,>=2 in /usr/local/lib/python3.11/dist-packages (from langchain) (2.32.3)\n",
            "Requirement already satisfied: PyYAML>=5.3 in /usr/local/lib/python3.11/dist-packages (from langchain) (6.0.2)\n",
            "Requirement already satisfied: langgraph-checkpoint<3.0.0,>=2.1.0 in /usr/local/lib/python3.11/dist-packages (from langgraph) (2.1.0)\n",
            "Requirement already satisfied: langgraph-prebuilt<0.6.0,>=0.5.0 in /usr/local/lib/python3.11/dist-packages (from langgraph) (0.5.2)\n",
            "Requirement already satisfied: langgraph-sdk<0.2.0,>=0.1.42 in /usr/local/lib/python3.11/dist-packages (from langgraph) (0.1.72)\n",
            "Requirement already satisfied: xxhash>=3.5.0 in /usr/local/lib/python3.11/dist-packages (from langgraph) (3.5.0)\n",
            "Requirement already satisfied: groq<1,>=0.29.0 in /usr/local/lib/python3.11/dist-packages (from langchain_groq) (0.30.0)\n",
            "Requirement already satisfied: annotated-types>=0.6.0 in /usr/local/lib/python3.11/dist-packages (from pydantic) (0.7.0)\n",
            "Requirement already satisfied: pydantic-core==2.33.2 in /usr/local/lib/python3.11/dist-packages (from pydantic) (2.33.2)\n",
            "Requirement already satisfied: typing-extensions>=4.12.2 in /usr/local/lib/python3.11/dist-packages (from pydantic) (4.14.1)\n",
            "Requirement already satisfied: typing-inspection>=0.4.0 in /usr/local/lib/python3.11/dist-packages (from pydantic) (0.4.1)\n",
            "Requirement already satisfied: anyio<5,>=3.5.0 in /usr/local/lib/python3.11/dist-packages (from groq<1,>=0.29.0->langchain_groq) (4.9.0)\n",
            "Requirement already satisfied: distro<2,>=1.7.0 in /usr/local/lib/python3.11/dist-packages (from groq<1,>=0.29.0->langchain_groq) (1.9.0)\n",
            "Requirement already satisfied: httpx<1,>=0.23.0 in /usr/local/lib/python3.11/dist-packages (from groq<1,>=0.29.0->langchain_groq) (0.28.1)\n",
            "Requirement already satisfied: sniffio in /usr/local/lib/python3.11/dist-packages (from groq<1,>=0.29.0->langchain_groq) (1.3.1)\n",
            "Requirement already satisfied: tenacity!=8.4.0,<10.0.0,>=8.1.0 in /usr/local/lib/python3.11/dist-packages (from langchain-core<1.0.0,>=0.3.66->langchain) (8.5.0)\n",
            "Requirement already satisfied: jsonpatch<2.0,>=1.33 in /usr/local/lib/python3.11/dist-packages (from langchain-core<1.0.0,>=0.3.66->langchain) (1.33)\n",
            "Requirement already satisfied: packaging<25,>=23.2 in /usr/local/lib/python3.11/dist-packages (from langchain-core<1.0.0,>=0.3.66->langchain) (24.2)\n",
            "Requirement already satisfied: ormsgpack>=1.10.0 in /usr/local/lib/python3.11/dist-packages (from langgraph-checkpoint<3.0.0,>=2.1.0->langgraph) (1.10.0)\n",
            "Requirement already satisfied: orjson>=3.10.1 in /usr/local/lib/python3.11/dist-packages (from langgraph-sdk<0.2.0,>=0.1.42->langgraph) (3.10.18)\n",
            "Requirement already satisfied: requests-toolbelt<2.0.0,>=1.0.0 in /usr/local/lib/python3.11/dist-packages (from langsmith>=0.1.17->langchain) (1.0.0)\n",
            "Requirement already satisfied: zstandard<0.24.0,>=0.23.0 in /usr/local/lib/python3.11/dist-packages (from langsmith>=0.1.17->langchain) (0.23.0)\n",
            "Requirement already satisfied: charset-normalizer<4,>=2 in /usr/local/lib/python3.11/dist-packages (from requests<3,>=2->langchain) (3.4.2)\n",
            "Requirement already satisfied: idna<4,>=2.5 in /usr/local/lib/python3.11/dist-packages (from requests<3,>=2->langchain) (3.10)\n",
            "Requirement already satisfied: urllib3<3,>=1.21.1 in /usr/local/lib/python3.11/dist-packages (from requests<3,>=2->langchain) (2.4.0)\n",
            "Requirement already satisfied: certifi>=2017.4.17 in /usr/local/lib/python3.11/dist-packages (from requests<3,>=2->langchain) (2025.7.9)\n",
            "Requirement already satisfied: greenlet>=1 in /usr/local/lib/python3.11/dist-packages (from SQLAlchemy<3,>=1.4->langchain) (3.2.3)\n",
            "Requirement already satisfied: httpcore==1.* in /usr/local/lib/python3.11/dist-packages (from httpx<1,>=0.23.0->groq<1,>=0.29.0->langchain_groq) (1.0.9)\n",
            "Requirement already satisfied: h11>=0.16 in /usr/local/lib/python3.11/dist-packages (from httpcore==1.*->httpx<1,>=0.23.0->groq<1,>=0.29.0->langchain_groq) (0.16.0)\n",
            "Requirement already satisfied: jsonpointer>=1.9 in /usr/local/lib/python3.11/dist-packages (from jsonpatch<2.0,>=1.33->langchain-core<1.0.0,>=0.3.66->langchain) (3.0.0)\n"
          ]
        }
      ],
      "source": [
        "pip install langchain langgraph langchain_groq pydantic"
      ]
    },
    {
      "cell_type": "markdown",
      "source": [
        "Create State class"
      ],
      "metadata": {
        "id": "cD72BZy5rDpe"
      },
      "id": "cD72BZy5rDpe"
    },
    {
      "cell_type": "code",
      "source": [
        "from pydantic import BaseModel\n",
        "from typing import List\n",
        "from typing_extensions import Annotated\n",
        "from langchain_core.messages import AnyMessage\n",
        "from langgraph.graph.message import add_messages\n",
        "\n",
        "class state(BaseModel):\n",
        "  messages:Annotated[List[AnyMessage],add_messages]"
      ],
      "metadata": {
        "id": "ckLmDzTzrBq5"
      },
      "id": "ckLmDzTzrBq5",
      "execution_count": 32,
      "outputs": []
    },
    {
      "cell_type": "markdown",
      "source": [
        "Create LLM"
      ],
      "metadata": {
        "id": "NZIX5uwgsd9S"
      },
      "id": "NZIX5uwgsd9S"
    },
    {
      "cell_type": "code",
      "source": [
        "from langchain_groq import ChatGroq\n",
        "from google.colab import userdata\n",
        "groq_key = userdata.get('groq_key')\n",
        "\n",
        "llm = ChatGroq(api_key=groq_key, model=\"meta-llama/llama-4-scout-17b-16e-instruct\",)"
      ],
      "metadata": {
        "id": "rlw58mInrBtZ"
      },
      "id": "rlw58mInrBtZ",
      "execution_count": 33,
      "outputs": []
    },
    {
      "cell_type": "markdown",
      "source": [
        "Create LLM Function"
      ],
      "metadata": {
        "id": "VSGcCl37tBWj"
      },
      "id": "VSGcCl37tBWj"
    },
    {
      "cell_type": "code",
      "source": [
        "def llm_function(state):\n",
        "  \"\"\"\n",
        "      This function is called to invoke the LLM\n",
        "  \"\"\"\n",
        "  response = llm(state.messages)\n",
        "  state.messages.append(response)\n",
        "  return state"
      ],
      "metadata": {
        "id": "ACg1i1gBrBvz"
      },
      "id": "ACg1i1gBrBvz",
      "execution_count": 34,
      "outputs": []
    },
    {
      "cell_type": "markdown",
      "source": [
        "Create Memory object"
      ],
      "metadata": {
        "id": "JmuHmdiAtq0k"
      },
      "id": "JmuHmdiAtq0k"
    },
    {
      "cell_type": "code",
      "source": [
        "from langgraph.checkpoint.memory import MemorySaver\n",
        "memory = MemorySaver()\n",
        "config = {\"configurable\":{\"thread_id\":\"1\"}}"
      ],
      "metadata": {
        "id": "_GK0StYXuDYV"
      },
      "id": "_GK0StYXuDYV",
      "execution_count": 35,
      "outputs": []
    },
    {
      "cell_type": "markdown",
      "source": [
        "Creeate Graph Node and edges"
      ],
      "metadata": {
        "id": "lhnwdryeuYDg"
      },
      "id": "lhnwdryeuYDg"
    },
    {
      "cell_type": "code",
      "source": [
        "from langgraph.graph import StateGraph, START, END"
      ],
      "metadata": {
        "id": "C3wstpNbrB1C"
      },
      "id": "C3wstpNbrB1C",
      "execution_count": 36,
      "outputs": []
    },
    {
      "cell_type": "code",
      "source": [
        "graph = StateGraph(state)\n",
        "graph.add_node(\"llm\", llm_function)\n",
        "graph.add_edge(START, \"llm\")\n",
        "graph.add_edge(\"llm\", END)\n",
        "builder = graph.compile(memory)"
      ],
      "metadata": {
        "id": "0BqOuPJQrB3W"
      },
      "id": "0BqOuPJQrB3W",
      "execution_count": 37,
      "outputs": []
    },
    {
      "cell_type": "markdown",
      "source": [
        "Verify the Graph"
      ],
      "metadata": {
        "id": "jWjPpSKLvDfT"
      },
      "id": "jWjPpSKLvDfT"
    },
    {
      "cell_type": "code",
      "source": [
        "from IPython.display import display, Image\n",
        "display(Image(builder.get_graph().draw_mermaid_png()))"
      ],
      "metadata": {
        "id": "t6dEj0fxvDOM",
        "outputId": "1a54d637-f41c-4447-dc36-e6751128584c",
        "colab": {
          "base_uri": "https://localhost:8080/",
          "height": 251
        }
      },
      "id": "t6dEj0fxvDOM",
      "execution_count": 38,
      "outputs": [
        {
          "output_type": "display_data",
          "data": {
            "image/png": "[encoded data removed]",
            "text/plain": [
              "<IPython.core.display.Image object>"
            ]
          },
          "metadata": {}
        }
      ]
    },
    {
      "cell_type": "markdown",
      "source": [
        "Stream LLM\n",
        "\n",
        "\n",
        "*   Value : The whole stream will be returned\n",
        "*   Update : only the recent update will be returned\n",
        "\n"
      ],
      "metadata": {
        "id": "Rp6ZkpUGvQik"
      },
      "id": "Rp6ZkpUGvQik"
    },
    {
      "cell_type": "code",
      "source": [
        "for chunk in builder.stream({\"messages\":\"Hi I am kani working as a software developer\"},config=config,stream_mode=\"values\"):\n",
        "  print(chunk)"
      ],
      "metadata": {
        "id": "oDtiK7tovDMW",
        "outputId": "4f6073a1-facf-42d5-fcc4-630679a4485f",
        "colab": {
          "base_uri": "https://localhost:8080/"
        }
      },
      "id": "oDtiK7tovDMW",
      "execution_count": 39,
      "outputs": [
        {
          "output_type": "stream",
          "name": "stdout",
          "text": [
            "{'messages': [HumanMessage(content='Hi I am kani working as a software developer', additional_kwargs={}, response_metadata={}, id='491985e4-3a6c-4ed7-ae8c-39c593f420ad')]}\n"
          ]
        },
        {
          "output_type": "stream",
          "name": "stderr",
          "text": [
            "/tmp/ipython-input-34-4104806693.py:5: LangChainDeprecationWarning: The method `BaseChatModel.__call__` was deprecated in langchain-core 0.1.7 and will be removed in 1.0. Use :meth:`~invoke` instead.\n",
            "  response = llm(state.messages)\n"
          ]
        },
        {
          "output_type": "stream",
          "name": "stdout",
          "text": [
            "{'messages': [HumanMessage(content='Hi I am kani working as a software developer', additional_kwargs={}, response_metadata={}, id='491985e4-3a6c-4ed7-ae8c-39c593f420ad'), AIMessage(content=\"Nice to meet you, Kani! I'm glad to hear you're working as a software developer. What kind of projects are you currently working on? Are you using any specific programming languages or technologies? I'm here to chat and help if you need any assistance or just want to discuss something related to software development!\", additional_kwargs={}, response_metadata={'token_usage': {'completion_tokens': 62, 'prompt_tokens': 20, 'total_tokens': 82, 'completion_time': 0.122912103, 'prompt_time': 0.002395711, 'queue_time': 0.194013943, 'total_time': 0.125307814}, 'model_name': 'meta-llama/llama-4-scout-17b-16e-instruct', 'system_fingerprint': 'fp_37da608fc1', 'service_tier': 'on_demand', 'finish_reason': 'stop', 'logprobs': None}, id='run--99d1855c-4852-43f8-b022-341d57202ef3-0', usage_metadata={'input_tokens': 20, 'output_tokens': 62, 'total_tokens': 82})]}\n"
          ]
        }
      ]
    },
    {
      "cell_type": "code",
      "source": [
        "for chunk in builder.stream({\"messages\":\"i am learning AI\"},config=config,stream_mode=\"updates\"):\n",
        "  print(chunk['messages'])"
      ],
      "metadata": {
        "id": "-dxr5t4qrB50",
        "outputId": "0e20d84d-03f5-4926-8292-18baf8b79366",
        "colab": {
          "base_uri": "https://localhost:8080/"
        }
      },
      "id": "-dxr5t4qrB50",
      "execution_count": 40,
      "outputs": [
        {
          "output_type": "stream",
          "name": "stdout",
          "text": [
            "{'llm': {'messages': [HumanMessage(content='Hi I am kani working as a software developer', additional_kwargs={}, response_metadata={}, id='491985e4-3a6c-4ed7-ae8c-39c593f420ad'), AIMessage(content=\"Nice to meet you, Kani! I'm glad to hear you're working as a software developer. What kind of projects are you currently working on? Are you using any specific programming languages or technologies? I'm here to chat and help if you need any assistance or just want to discuss something related to software development!\", additional_kwargs={}, response_metadata={'token_usage': {'completion_tokens': 62, 'prompt_tokens': 20, 'total_tokens': 82, 'completion_time': 0.122912103, 'prompt_time': 0.002395711, 'queue_time': 0.194013943, 'total_time': 0.125307814}, 'model_name': 'meta-llama/llama-4-scout-17b-16e-instruct', 'system_fingerprint': 'fp_37da608fc1', 'service_tier': 'on_demand', 'finish_reason': 'stop', 'logprobs': None}, id='run--99d1855c-4852-43f8-b022-341d57202ef3-0', usage_metadata={'input_tokens': 20, 'output_tokens': 62, 'total_tokens': 82}), HumanMessage(content='i am learning AI', additional_kwargs={}, response_metadata={}, id='72334a9a-9967-4e46-a4f2-2424e5c4fa34'), AIMessage(content=\"That's a great field to explore! AI is a rapidly evolving field with many exciting applications and opportunities.\\n\\nWhat specific areas of AI are you interested in learning more about, Kani? Are you looking into:\\n\\n1. **Machine Learning (ML)**: predictive modeling, neural networks, deep learning?\\n2. **Natural Language Processing (NLP)**: text analysis, language models, chatbots?\\n3. **Computer Vision**: image and video processing, object detection, image classification?\\n4. **Robotics**: autonomous systems, robotics control systems?\\n5. **Reinforcement Learning**: agent-based learning, decision-making?\\n\\nOr do you have a specific goal in mind, such as:\\n\\n* Building a personal AI project\\n* Applying AI to a specific industry (e.g., healthcare, finance)\\n* Pursuing a career in AI research or development\\n\\nLet me know, and I'll do my best to help you navigate the world of AI!\", additional_kwargs={}, response_metadata={'token_usage': {'completion_tokens': 187, 'prompt_tokens': 95, 'total_tokens': 282, 'completion_time': 0.370989222, 'prompt_time': 0.004261797, 'queue_time': 0.19371951799999998, 'total_time': 0.375251019}, 'model_name': 'meta-llama/llama-4-scout-17b-16e-instruct', 'system_fingerprint': 'fp_37da608fc1', 'service_tier': 'on_demand', 'finish_reason': 'stop', 'logprobs': None}, id='run--cbc83255-08db-4e53-b958-193648418580-0', usage_metadata={'input_tokens': 95, 'output_tokens': 187, 'total_tokens': 282})]}}\n"
          ]
        }
      ]
    },
    {
      "cell_type": "code",
      "source": [],
      "metadata": {
        "id": "Iz8a5bDfrB9a"
      },
      "id": "Iz8a5bDfrB9a",
      "execution_count": 40,
      "outputs": []
    }
  ],
  "metadata": {
    "language_info": {
      "name": "python"
    },
    "colab": {
      "provenance": []
    },
    "kernelspec": {
      "name": "python3",
      "display_name": "Python 3"
    }
  },
  "nbformat": 4,
  "nbformat_minor": 5
}