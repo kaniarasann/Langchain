{
  "nbformat": 4,
  "nbformat_minor": 0,
  "metadata": {
    "colab": {
      "provenance": [],
      "authorship_tag": "ABX9TyPN+Vk9USQRBddbhJh0WQwS",
      "include_colab_link": true
    },
    "kernelspec": {
      "name": "python3",
      "display_name": "Python 3"
    },
    "language_info": {
      "name": "python"
    }
  },
  "cells": [
    {
      "cell_type": "markdown",
      "metadata": {
        "id": "view-in-github",
        "colab_type": "text"
      },
      "source": [
        "<a href=\"https://colab.research.google.com/github/kaniarasann/Langchain/blob/main/04_workflow.ipynb\" target=\"_parent\"><img src=\"https://colab.research.google.com/assets/colab-badge.svg\" alt=\"Open In Colab\"/></a>"
      ]
    },
    {
      "cell_type": "markdown",
      "source": [
        "Prompt Chaining\n",
        "\n",
        "\n",
        "---\n",
        "\n",
        "\n",
        "Multiple prompts are sequenced togethor to guide a model through complex task or reasoning"
      ],
      "metadata": {
        "id": "knk0mn6z5rE4"
      }
    },
    {
      "cell_type": "code",
      "execution_count": 39,
      "metadata": {
        "id": "L4uhfQ5o5aPR"
      },
      "outputs": [],
      "source": [
        "#!pip install langchain langgraph langchain_groq pydantic"
      ]
    },
    {
      "cell_type": "code",
      "source": [
        "from langchain_groq import ChatGroq\n",
        "from google.colab import userdata\n",
        "groq_key = userdata.get('groq_key')\n",
        "\n",
        "llm = ChatGroq(api_key=groq_key, model=\"meta-llama/llama-4-scout-17b-16e-instruct\",)"
      ],
      "metadata": {
        "id": "4Is6kRzZ6DH_"
      },
      "execution_count": 40,
      "outputs": []
    },
    {
      "cell_type": "code",
      "source": [
        "llm.invoke(\"Hello\")"
      ],
      "metadata": {
        "id": "NIDNQw8q6OnQ",
        "outputId": "78948cc0-f3dd-4c83-97b4-8675d350ac6a",
        "colab": {
          "base_uri": "https://localhost:8080/"
        }
      },
      "execution_count": 41,
      "outputs": [
        {
          "output_type": "execute_result",
          "data": {
            "text/plain": [
              "AIMessage(content=\"Hello! It's nice to meet you. Is there something I can help you with, or would you like to chat?\", additional_kwargs={}, response_metadata={'token_usage': {'completion_tokens': 25, 'prompt_tokens': 11, 'total_tokens': 36, 'completion_time': 0.057247193, 'prompt_time': 0.002745016, 'queue_time': 0.951330384, 'total_time': 0.059992209}, 'model_name': 'meta-llama/llama-4-scout-17b-16e-instruct', 'system_fingerprint': 'fp_79da0e0073', 'service_tier': 'on_demand', 'finish_reason': 'stop', 'logprobs': None}, id='run--96f98ca6-8336-40a2-be07-0e34161dc5ae-0', usage_metadata={'input_tokens': 11, 'output_tokens': 25, 'total_tokens': 36})"
            ]
          },
          "metadata": {},
          "execution_count": 41
        }
      ]
    },
    {
      "cell_type": "code",
      "source": [
        "from typing_extensions import Annotated\n",
        "from langgraph.graph import StateGraph,START,END\n",
        "from IPython.display import display, Image\n",
        "from pydantic import BaseModel"
      ],
      "metadata": {
        "id": "7TIFNlAZ6UiV"
      },
      "execution_count": 42,
      "outputs": []
    },
    {
      "cell_type": "code",
      "source": [
        "from typing import Optional\n",
        "class State(BaseModel):\n",
        "  topic:str\n",
        "  story:Optional[str] =''\n",
        "  improved_story:Optional[str] =''\n",
        "  final_story:Optional[str] = ''\n"
      ],
      "metadata": {
        "id": "RFDfNRer6eKW"
      },
      "execution_count": 43,
      "outputs": []
    },
    {
      "cell_type": "code",
      "source": [
        "def generate_story(state:State) -> State:\n",
        "  msg = llm.invoke(f\"write a one sentence story premise about {state.topic}\")\n",
        "  state.story = msg.content\n",
        "  return state"
      ],
      "metadata": {
        "id": "wIeYSbeG7CML"
      },
      "execution_count": 44,
      "outputs": []
    },
    {
      "cell_type": "code",
      "source": [
        "def check_conflit(state:State) -> str:\n",
        "    if \"?\" in state.story or \"!\" in state.story :\n",
        "      return \"Fail\"\n",
        "    return \"Pass\""
      ],
      "metadata": {
        "id": "7rUwhih87x2y"
      },
      "execution_count": 45,
      "outputs": []
    },
    {
      "cell_type": "code",
      "source": [
        "def improved_story(state:State) -> State:\n",
        "  msg = llm.invoke(f\"Enhance this store with Vivid details : {state.story}\")\n",
        "  state.improved_story = msg.content\n",
        "  return state\n",
        ""
      ],
      "metadata": {
        "id": "8z9BYhz58R58"
      },
      "execution_count": 46,
      "outputs": []
    },
    {
      "cell_type": "code",
      "source": [
        "def polished_Story(state:State) -> State:\n",
        "  msg = llm.invoke(f\"Add an unexpected twist to this story premise: {state.improved_story}\")\n",
        "  state.final_story = msg.content\n",
        "  return state"
      ],
      "metadata": {
        "id": "oAZCCSHY8o5i"
      },
      "execution_count": 47,
      "outputs": []
    },
    {
      "cell_type": "code",
      "source": [
        "graph = StateGraph(State)"
      ],
      "metadata": {
        "id": "H1f5Ofgm83Re"
      },
      "execution_count": 48,
      "outputs": []
    },
    {
      "cell_type": "code",
      "source": [
        "graph.add_node(\"generate\",generate_story)\n",
        "graph.add_node(\"improve\",improved_story)\n",
        "graph.add_node(\"polish\",polished_Story)"
      ],
      "metadata": {
        "id": "FPKH7mk-8-DX",
        "outputId": "2895695c-8076-4ed2-f9ee-15030f45f12c",
        "colab": {
          "base_uri": "https://localhost:8080/"
        }
      },
      "execution_count": 49,
      "outputs": [
        {
          "output_type": "execute_result",
          "data": {
            "text/plain": [
              "<langgraph.graph.state.StateGraph at 0x7cf15a676110>"
            ]
          },
          "metadata": {},
          "execution_count": 49
        }
      ]
    },
    {
      "cell_type": "code",
      "source": [
        "graph.add_edge(START,\"generate\")\n",
        "graph.add_conditional_edges(\"generate\",check_conflit,{\"Pass\":\"improve\",\"Fail\":\"generate\"})\n",
        "graph.add_edge(\"generate\",\"improve\")\n",
        "graph.add_edge(\"improve\",\"polish\")\n",
        "graph.add_edge(\"polish\",END)"
      ],
      "metadata": {
        "id": "X3vwWTrf9NeL",
        "outputId": "325e1809-4644-46cd-b9c1-3318db628c97",
        "colab": {
          "base_uri": "https://localhost:8080/"
        }
      },
      "execution_count": 50,
      "outputs": [
        {
          "output_type": "execute_result",
          "data": {
            "text/plain": [
              "<langgraph.graph.state.StateGraph at 0x7cf15a676110>"
            ]
          },
          "metadata": {},
          "execution_count": 50
        }
      ]
    },
    {
      "cell_type": "code",
      "source": [
        "graph_builder = graph.compile()"
      ],
      "metadata": {
        "id": "EBEn9X8T9pBu"
      },
      "execution_count": 51,
      "outputs": []
    },
    {
      "cell_type": "code",
      "source": [
        "display(Image(graph_builder.get_graph().draw_mermaid_png()))"
      ],
      "metadata": {
        "id": "_-vGJz3692nq",
        "outputId": "61238da4-82a0-47d5-da9a-bd8b06dde5c6",
        "colab": {
          "base_uri": "https://localhost:8080/",
          "height": 473
        }
      },
      "execution_count": 52,
      "outputs": [
        {
          "output_type": "display_data",
          "data": {
            "image/png": "[encoded data removed]",
            "text/plain": [
              "<IPython.core.display.Image object>"
            ]
          },
          "metadata": {}
        }
      ]
    },
    {
      "cell_type": "code",
      "source": [
        "state = State(topic=\"The Great Gatsby\")\n",
        "res=graph_builder.invoke(state)"
      ],
      "metadata": {
        "id": "ChAfubpz-CNE"
      },
      "execution_count": 53,
      "outputs": []
    },
    {
      "cell_type": "code",
      "source": [
        "res['final_story']"
      ],
      "metadata": {
        "id": "LrpaXhPM-eR1",
        "outputId": "638eefda-ac4a-4ca5-c444-a120974ad2db",
        "colab": {
          "base_uri": "https://localhost:8080/",
          "height": 108
        }
      },
      "execution_count": 55,
      "outputs": [
        {
          "output_type": "execute_result",
          "data": {
            "text/plain": [
              "\"The Roaring Twenties Come Alive... in a world where magic is real.\\n\\nIn the sweltering summer of 1922, the opulent communities of Long Island's West Egg and East Egg pulsed with the vibrant energy of the Jazz Age, but with a twist: magic was a real and integral part of their world. The air was alive with the sweet scent of blooming flowers, the distant thrum of jazz music, and the soft glow of Art Deco lights that danced across the manicured lawns. But amidst the flapper dresses and suits, people possessed magical abilities that they kept hidden from the prying eyes of those who didn't understand.\\n\\nNick Carraway, a young and ambitious bond salesman from the Midwest, was no exception. Unbeknownst to him, he had a latent talent for spellcraft, inherited from his great-aunt, a powerful witch who had dabbled in the dark arts. As he became entranced by the mystical world of his enigmatic neighbor, Jay Gatsby, Nick began to discover his own magical abilities.\\n\\nGatsby's grand estate, with its ivory and gold façade, was not just a symbol of his wealth and status; it was also a nexus of magical energy. Gatsby himself was a skilled warlock, rumored to have made a pact with a mysterious entity from another realm to fuel his rise to wealth and power. His eyes, bright and piercing, sparkled with a sense of longing, as if searching for something just beyond the horizon. But they also held a deeper power, a magical energy that seemed to draw people to him like a moth to a flame.\\n\\nAs Nick became drawn into Gatsby's world, he met Daisy Buchanan, a socialite with a voice like honey and a heart as fragile as a glass slipper. But Daisy was more than just a beautiful woman; she was a skilled enchantress, able to weave spells of seduction and deception with a mere glance. Her marriage to the wealthy and brutish Tom Buchanan had stifled her own desires, but also bound her to a dark and ancient magic that threatened to consume her.\\n\\nAs the summer wore on, Nick became increasingly entangled in the complex web of relationships between Gatsby, Daisy, and Tom, but also in a hidden world of magic and mystery. The excesses of the wealthy community became more and more apparent, but so did the darker aspects of their magical abilities. Tom's mistress, Myrtle Wilson, was revealed to be a shape-shifter, able to transform into a being of pure energy. George Wilson, her brutish husband, was a practitioner of dark magic, fueled by a desperate desire for power and revenge.\\n\\nAs the nights wore on, the parties raged across the Sound, but with a twist: magic was the ultimate party favor. People would cast spells to make the champagne flow like water, to make the jazz music pulsate with an otherworldly energy, and to make the very fabric of reality bend to their will. But beneath the surface of this glittering facade, deception and corruption festered. The wealthy elite were not just hiding their magical abilities; they were also hiding their true intentions.\\n\\nAs the summer drew to a close, the lives of Nick, Gatsby, Daisy, and Tom became increasingly intertwined, hurtling towards a tragic confrontation that would shatter the very fabric of their world. The American Dream, once a beacon of hope and possibility, now seemed to be disintegrating before their eyes, revealing a dark underbelly of greed, classism, and magical corruption. In the midst of this chaos, Nick Carraway found himself questioning the very foundations of his own values, forced to confront the emptiness and superficiality of the wealthy elite, and to master his own magical abilities in order to survive.\\n\\nThe end of the summer would bring more than just the collapse of Gatsby's grand illusion; it would bring a reckoning of magical proportions, one that would change the course of their lives forever. The Roaring Twenties had come alive, and magic was the ultimate party crasher.\""
            ],
            "application/vnd.google.colaboratory.intrinsic+json": {
              "type": "string"
            }
          },
          "metadata": {},
          "execution_count": 55
        }
      ]
    },
    {
      "cell_type": "code",
      "source": [],
      "metadata": {
        "id": "KYoUUhq7_BxE"
      },
      "execution_count": null,
      "outputs": []
    }
  ]
}